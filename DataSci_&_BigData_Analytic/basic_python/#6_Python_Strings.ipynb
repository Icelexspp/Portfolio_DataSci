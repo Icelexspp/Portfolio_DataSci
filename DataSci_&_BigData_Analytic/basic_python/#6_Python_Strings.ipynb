{
 "cells": [
  {
   "cell_type": "code",
   "execution_count": 1,
   "id": "2ee6a87f",
   "metadata": {},
   "outputs": [],
   "source": [
    "greet = 'Hello Bob'"
   ]
  },
  {
   "cell_type": "code",
   "execution_count": 2,
   "id": "d2263474",
   "metadata": {},
   "outputs": [
    {
     "data": {
      "text/plain": [
       "'H'"
      ]
     },
     "execution_count": 2,
     "metadata": {},
     "output_type": "execute_result"
    }
   ],
   "source": [
    "greet[0]"
   ]
  },
  {
   "cell_type": "markdown",
   "id": "1783829b",
   "metadata": {},
   "source": [
    "## Substring\n",
    "    - slicing"
   ]
  },
  {
   "cell_type": "code",
   "execution_count": 3,
   "id": "b8fcaff0",
   "metadata": {},
   "outputs": [
    {
     "data": {
      "text/plain": [
       "' Bob'"
      ]
     },
     "execution_count": 3,
     "metadata": {},
     "output_type": "execute_result"
    }
   ],
   "source": [
    "greet[5:9]"
   ]
  },
  {
   "cell_type": "code",
   "execution_count": 4,
   "id": "2bd0ce18",
   "metadata": {},
   "outputs": [
    {
     "data": {
      "text/plain": [
       "'o'"
      ]
     },
     "execution_count": 4,
     "metadata": {},
     "output_type": "execute_result"
    }
   ],
   "source": [
    "greet[-2]"
   ]
  },
  {
   "cell_type": "markdown",
   "id": "fab35579",
   "metadata": {},
   "source": [
    "## Operator \n",
    "\n",
    "    - (+) : ต่อกัน\n",
    "    - (*) : จะเอา string นั้นๆมาคูณซ้ำๆ ตามจำนวนที่เรากำหนด\n",
    "    - len : หาขนาด\n",
    "    - slicing\n",
    "    - function for x in y :"
   ]
  },
  {
   "cell_type": "markdown",
   "id": "49d95467",
   "metadata": {},
   "source": [
    "ข้อแตกต่างสำหรับ list vs string\n",
    "\n",
    "    - list สามารถเปลี่ยนแปลงค่าได้ \n",
    "    - string ไม่สามารถเปลี่ยนแปลงได้ แต่สร้างอันใหม่ได้ \n",
    "        จะเก็บตัวอักษรเป็นตัวเลข ภาษาอังกฤษ เรียกว่า ASCII \n",
    "    "
   ]
  },
  {
   "cell_type": "code",
   "execution_count": 6,
   "id": "c4151c39",
   "metadata": {},
   "outputs": [
    {
     "data": {
      "text/plain": [
       "'Hello'"
      ]
     },
     "execution_count": 6,
     "metadata": {},
     "output_type": "execute_result"
    }
   ],
   "source": [
    "mystring = \"Hello\"\n",
    "mystring"
   ]
  },
  {
   "cell_type": "code",
   "execution_count": 8,
   "id": "0ed9b18f",
   "metadata": {},
   "outputs": [],
   "source": [
    "#String จะเปลี่ยนแปลงไม่ได้ ถ้าทำจะ Error \n",
    "#mystring[0] = 'Y'"
   ]
  },
  {
   "cell_type": "markdown",
   "id": "fc07a5cc",
   "metadata": {},
   "source": [
    "## Ordinal / Chr"
   ]
  },
  {
   "cell_type": "code",
   "execution_count": 9,
   "id": "4ce444c4",
   "metadata": {},
   "outputs": [
    {
     "data": {
      "text/plain": [
       "65"
      ]
     },
     "execution_count": 9,
     "metadata": {},
     "output_type": "execute_result"
    }
   ],
   "source": [
    "ord('A')"
   ]
  },
  {
   "cell_type": "code",
   "execution_count": 14,
   "id": "b5db4699",
   "metadata": {},
   "outputs": [
    {
     "data": {
      "text/plain": [
       "'A'"
      ]
     },
     "execution_count": 14,
     "metadata": {},
     "output_type": "execute_result"
    }
   ],
   "source": [
    "chr(65)"
   ]
  },
  {
   "cell_type": "markdown",
   "id": "8ea028d1",
   "metadata": {},
   "source": [
    "### capitalize() / title /center()/ find / join / replace / upper /lower \n",
    "    - capitalize :ตัวแรกเป็นตัวใหญ่\n",
    "    - title : ตัวแรกของคำเป็นตัวใหญ่ ถ้าเจอเว้นวรรค ตัวถัดไปก็จะเป็นตัวใหญ่\n",
    "    - center() :  : เอาคำที่เราต้องการทำเป็น center\n",
    "    - find : ค้นหาและจะได้ index ออกมา\n",
    "    - join(list)\n",
    "    - replace\n",
    "    - upper\n",
    "    - lower "
   ]
  },
  {
   "cell_type": "code",
   "execution_count": 15,
   "id": "85def4d3",
   "metadata": {},
   "outputs": [],
   "source": [
    "s = 'Hello Bob'"
   ]
  },
  {
   "cell_type": "code",
   "execution_count": 16,
   "id": "3e8f36e5",
   "metadata": {},
   "outputs": [
    {
     "data": {
      "text/plain": [
       "'Hello bob'"
      ]
     },
     "execution_count": 16,
     "metadata": {},
     "output_type": "execute_result"
    }
   ],
   "source": [
    "s.capitalize()"
   ]
  },
  {
   "cell_type": "code",
   "execution_count": 17,
   "id": "57a6dc13",
   "metadata": {},
   "outputs": [
    {
     "data": {
      "text/plain": [
       "3"
      ]
     },
     "execution_count": 17,
     "metadata": {},
     "output_type": "execute_result"
    }
   ],
   "source": [
    "s.find('lo')"
   ]
  },
  {
   "cell_type": "markdown",
   "id": "ce7cf1f9",
   "metadata": {},
   "source": [
    "## Split"
   ]
  },
  {
   "cell_type": "code",
   "execution_count": 22,
   "id": "eac5bd17",
   "metadata": {},
   "outputs": [],
   "source": [
    "data = \"Art of Coffee, KU, 5.0\""
   ]
  },
  {
   "cell_type": "code",
   "execution_count": 23,
   "id": "d779ad0e",
   "metadata": {},
   "outputs": [],
   "source": [
    "elements = data.split(\",\")"
   ]
  },
  {
   "cell_type": "code",
   "execution_count": 24,
   "id": "f9ef517f",
   "metadata": {},
   "outputs": [
    {
     "data": {
      "text/plain": [
       "['Art of Coffee', ' KU', ' 5.0']"
      ]
     },
     "execution_count": 24,
     "metadata": {},
     "output_type": "execute_result"
    }
   ],
   "source": [
    "elements"
   ]
  },
  {
   "cell_type": "code",
   "execution_count": 25,
   "id": "3c684d93",
   "metadata": {},
   "outputs": [],
   "source": [
    "elements_2 = data.split(\"|\")"
   ]
  },
  {
   "cell_type": "code",
   "execution_count": 26,
   "id": "ff998134",
   "metadata": {},
   "outputs": [
    {
     "data": {
      "text/plain": [
       "['Art of Coffee, KU, 5.0']"
      ]
     },
     "execution_count": 26,
     "metadata": {},
     "output_type": "execute_result"
    }
   ],
   "source": [
    "elements_2"
   ]
  },
  {
   "cell_type": "markdown",
   "id": "595b1a4d",
   "metadata": {},
   "source": [
    "# Palindrome\n",
    "Palindrome คือคำ วลี จำนวนหรือลำดับที่สามารถอ่านจากหลังไปหน้าหรือหน้าไปหลังแล้วมีความหมายเหมือนกัน \n",
    "\n",
    "เช่น Racecar, Radar, Level, Civic (ลองเขียนคำเหล่านี้จากหลังมาหน้าก็จะได้คำเดิม)\n",
    "\n",
    "เขียนโปรแกรมที่รับข้อความมา และตรวจสอบว่าเป็น Palindrome หรือไม่\n",
    "\n",
    "ข้อมูลนำเข้า\n",
    "มีบรรทัดเดียว รับเป็นข้อความที่ประกอบด้วยอักขระ a-z เท่านั้น\n",
    "\n",
    "ข้อมูลส่งออก\n",
    "แสดงผลลัพธ์ว่าข้อความที่รับมาเป็น Palindrome หรือไม่\n",
    "\n",
    "    Example 1\n",
    "    Enter a word: racecar\n",
    "    racecar is a Palindrome\n",
    "    \n",
    "    Example 2\n",
    "    Enter a word: noon\n",
    "    noon is a Palindrome\n",
    "    \n",
    "    Example 3\n",
    "    Enter a word: hello\n",
    "    hello is not a Palindrome"
   ]
  },
  {
   "cell_type": "code",
   "execution_count": 30,
   "id": "a6e47e2e",
   "metadata": {},
   "outputs": [
    {
     "name": "stdout",
     "output_type": "stream",
     "text": [
      "Enter a word: racecar\n",
      "racecar is not a Palindrome\n"
     ]
    }
   ],
   "source": [
    "a = input(\"Enter a word: \")\n",
    "if a == reversed(a):\n",
    "    print(a+\" is a Palindrome\")\n",
    "else:\n",
    "    print(a+\" is not a Palindrome\")"
   ]
  },
  {
   "cell_type": "code",
   "execution_count": 31,
   "id": "1a4bb963",
   "metadata": {},
   "outputs": [
    {
     "name": "stdout",
     "output_type": "stream",
     "text": [
      "Enter a word: racecar\n",
      "racecar is a Palindrome\n"
     ]
    }
   ],
   "source": [
    "def is_palindrome(word):\n",
    "    # ลบช่องว่างและเปลี่ยนเป็นตัวพิมพ์เล็กทั้งหมด\n",
    "    clean_word = word.replace(\" \", \"\").lower()\n",
    "    \n",
    "    # เปรียบเทียบคำที่เรียงจากหน้าไปหลังกับคำที่เรียงจากหลังไปหน้า\n",
    "    if clean_word == clean_word[::-1]:\n",
    "        return True\n",
    "    else:\n",
    "        return False\n",
    "\n",
    "# รับข้อมูลนำเข้า\n",
    "word = input(\"Enter a word: \")\n",
    "\n",
    "# เรียกใช้ฟังก์ชัน is_palindrome เพื่อตรวจสอบว่าเป็น Palindrome หรือไม่\n",
    "if is_palindrome(word):\n",
    "    print(f\"{word} is a Palindrome\")\n",
    "else:\n",
    "    print(f\"{word} is not a Palindrome\")\n"
   ]
  },
  {
   "cell_type": "markdown",
   "id": "b76fb8c5",
   "metadata": {},
   "source": [
    "# Binary To Decimal\n",
    "    เลขฐานสอง (ฺBinary) หมายถึง ระบบเลขที่มีสัญลักษณ์เพียงสองตัวคือ 0 กับ 1\n",
    "\n",
    "    ตัวอย่างถ้าแปลงค่าเลขฐานสิบ มาเป็นเลขฐานสอง จะได้ดังนี้\n",
    "\n",
    "    00 = 0000\n",
    "    01 = 0001\n",
    "    02 = 0010\n",
    "    03 = 0011\n",
    "    04 = 0100\n",
    "    05 = 0101\n",
    "    06 = 0110\n",
    "    07 = 0111\n",
    "    08 = 1000\n",
    "    09 = 1001\n",
    "    10 = 1010\n",
    "\n",
    "    ให้เขียนโปรแกรมที่แปลงจากเลขฐาน 2 เป็นเลขฐาน 10\n",
    "\n",
    "    ข้อมูลนำเข้า\n",
    "    มีบรรทัดเดียว รับค่าเข้ามาเป็นตัวเลขฐาน 2 ที่ประกอบด้วย 0 หรือ 1 เท่านั้น\n",
    "\n",
    "    ข้อมูลส่งออก\n",
    "    เลขฐาน 10 ของตัวเลขฐาน 2 ที่รับเข้ามา\n",
    "\n",
    "    Example 1\n",
    "    Enter binary: 10\n",
    "    2\n",
    "    Example 1\n",
    "    Enter binary: 111\n",
    "    7\n",
    "    Example 1\n",
    "    Enter binary: 11101010111\n",
    "    1879"
   ]
  },
  {
   "cell_type": "markdown",
   "id": "a67d8d9d",
   "metadata": {},
   "source": [
    "Rounding Number\n",
    "    เขียนโปรแกรมที่รับตัวเลขค่านึงเข้ามา จากนั้นให้ปัดเลขนั้นให้เหลือตำแหน่งทศนิยมตามที่เราต้องการ\n",
    "\n",
    "    ในหลักการปัดเลขขอให้ยึดตามที่น้องเรียนมาในฟิสิกส์เลยครับ\n",
    "\n",
    "    ข้อมูลนำเข้า\n",
    "    มีบรรทัดที่ 1 เป็นตัวเลขทศนิยม\n",
    "    มีบรรทัดที่ 2 เป็นจำนวนเต็มบวก แทนตำแหน่งทศนิยมที่เราต้องการหลังจากปัดค่าแล้ว\n",
    "\n",
    "    ข้อมูลส่งออก\n",
    "    ตัวเลขทศนิยมที่ปัดค่าตามที่ต้องการแล้ว"
   ]
  },
  {
   "cell_type": "markdown",
   "id": "1a03f1d9",
   "metadata": {},
   "source": [
    "### Condition\n",
    "    - 1-4 ปัดลง\n",
    "    - 6-9 ปัดขึ้น\n",
    "    - 5 \n",
    "       5.1 เลขก่อนหน้า 5 คี่ --> ปัดขึ้น\n",
    "       5.2 เลขก่อนหน้า 5 คู่ --> ปัดลง"
   ]
  },
  {
   "cell_type": "code",
   "execution_count": 3,
   "id": "abbad470",
   "metadata": {},
   "outputs": [
    {
     "name": "stdout",
     "output_type": "stream",
     "text": [
      "Enter value: 1.8534532\n",
      "Precision: 1\n",
      "1.8\n"
     ]
    }
   ],
   "source": [
    "value = float(input(\"Enter value: \"))\n",
    "precision = int(input(\"Precision: \"))\n",
    "multiplier = 10 ** precision\n",
    "rounded_value = round(value * multiplier) / multiplier\n",
    "print(rounded_value)\n"
   ]
  },
  {
   "cell_type": "code",
   "execution_count": null,
   "id": "79bb20f4",
   "metadata": {},
   "outputs": [],
   "source": [
    "1.8534532"
   ]
  },
  {
   "cell_type": "code",
   "execution_count": null,
   "id": "403807c7",
   "metadata": {},
   "outputs": [],
   "source": [
    "import math\n",
    "value = float(input(\"Enter value: \"))\n",
    "precision = int(input(\"Precision: \"))\n",
    "multiplier = 10 ** precision\n",
    "rounded_value = math.floor(value * multiplier) / multiplier\n",
    "print(rounded_value)\n"
   ]
  }
 ],
 "metadata": {
  "kernelspec": {
   "display_name": "Python 3 (ipykernel)",
   "language": "python",
   "name": "python3"
  },
  "language_info": {
   "codemirror_mode": {
    "name": "ipython",
    "version": 3
   },
   "file_extension": ".py",
   "mimetype": "text/x-python",
   "name": "python",
   "nbconvert_exporter": "python",
   "pygments_lexer": "ipython3",
   "version": "3.10.9"
  }
 },
 "nbformat": 4,
 "nbformat_minor": 5
}
