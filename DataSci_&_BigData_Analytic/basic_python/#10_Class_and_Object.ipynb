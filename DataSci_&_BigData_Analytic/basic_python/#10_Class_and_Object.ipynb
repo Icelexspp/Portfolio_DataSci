{
 "cells": [
  {
   "cell_type": "code",
   "execution_count": 1,
   "id": "fbe1325f",
   "metadata": {},
   "outputs": [],
   "source": [
    "class Course:\n",
    "    pass\n",
    "\n",
    "java = Course()\n",
    "cloud = Course()\n",
    "\n",
    "class Student:\n",
    "    pass\n",
    "usa = Student()\n",
    "usa.name = \"Usa\"\n",
    "\n",
    "class University: \n",
    "    pass\n",
    "\n",
    "ku = University()\n",
    "chula = University()\n",
    "tu = University()\n",
    "\n",
    "class Book:\n",
    "    pass\n",
    "diveIntoPython = Book()\n",
    "    "
   ]
  },
  {
   "cell_type": "code",
   "execution_count": 2,
   "id": "fa333df7",
   "metadata": {},
   "outputs": [],
   "source": [
    "class University: \n",
    "    pass\n",
    "\n",
    "ku = University()\n",
    "chula = University()\n",
    "tu = University()"
   ]
  },
  {
   "cell_type": "code",
   "execution_count": null,
   "id": "23dbc34f",
   "metadata": {},
   "outputs": [],
   "source": [
    "ku.name = 'Kasetsart'\n",
    "ku.address = 'Bangkok'\n",
    "ku.faculties =['Science','Engineering']\n"
   ]
  },
  {
   "cell_type": "code",
   "execution_count": 3,
   "id": "bc83d38b",
   "metadata": {},
   "outputs": [],
   "source": [
    "class BankAccunt:\n",
    "    def withdraw(self,amount):\n",
    "        self.balance = self.balance - amount\n",
    "        \n",
    "if __name__=='__main':\n",
    "    usa = BankAccount()\n",
    "    usa.balance= 1000\n",
    "    chakrit = BankAccount()\n",
    "    chakrit.balance=2000\n",
    "    \n",
    "    chakrit.withdraw(300)\n",
    "    print(\"Chakrit's balance =\", chakrit.balance)\n",
    "    usa.withdra(100)\n",
    "    print(\"Usa's balance =\",usa.balance)"
   ]
  },
  {
   "cell_type": "code",
   "execution_count": null,
   "id": "a8ce28a4",
   "metadata": {},
   "outputs": [],
   "source": [
    "class Rectangle:\n",
    "    def area(self):\n",
    "        return self.width * self.height\n",
    "    \n",
    "r1 = Rectangle()\n",
    "r1.width =4\n",
    "r1.height =5\n"
   ]
  },
  {
   "cell_type": "code",
   "execution_count": 4,
   "id": "fcad9fc2",
   "metadata": {},
   "outputs": [],
   "source": [
    "class BankAccunt:\n",
    "    def __init__(self,name,balance):\n",
    "        self.name = name\n",
    "        self.balance = balance\n",
    "    def withdraw(self,amount):\n",
    "        self.balance = self.balance - amount\n",
    "        \n",
    "if __name__=='__main':\n",
    "    usa = BankAccount('Usa',1000)\n",
    "    chakrit = BankAccount('Chakrit',2000)\n",
    "    \n",
    "    chakrit.withdraw(300)\n",
    "    print(\"Chakrit's balance =\", chakrit.balance)\n",
    "    usa.withdra(100)\n",
    "    print(\"Usa's balance =\",usa.balance)"
   ]
  },
  {
   "cell_type": "code",
   "execution_count": null,
   "id": "66e37ca2",
   "metadata": {},
   "outputs": [],
   "source": [
    "class Point:\n",
    "    def __init__(self, a=0, b=0):\n",
    "\"\"\" Create a new point at x, y \"\"\" \n",
    "        self.x = a\n",
    "        self.y = b\n"
   ]
  }
 ],
 "metadata": {
  "kernelspec": {
   "display_name": "Python 3 (ipykernel)",
   "language": "python",
   "name": "python3"
  },
  "language_info": {
   "codemirror_mode": {
    "name": "ipython",
    "version": 3
   },
   "file_extension": ".py",
   "mimetype": "text/x-python",
   "name": "python",
   "nbconvert_exporter": "python",
   "pygments_lexer": "ipython3",
   "version": "3.10.9"
  }
 },
 "nbformat": 4,
 "nbformat_minor": 5
}
