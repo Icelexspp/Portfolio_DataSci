{
 "cells": [
  {
   "cell_type": "code",
   "execution_count": 1,
   "id": "521f16be",
   "metadata": {},
   "outputs": [],
   "source": [
    "import keyword"
   ]
  },
  {
   "cell_type": "code",
   "execution_count": 3,
   "id": "5357a8a2",
   "metadata": {},
   "outputs": [
    {
     "data": {
      "text/plain": [
       "['False',\n",
       " 'None',\n",
       " 'True',\n",
       " 'and',\n",
       " 'as',\n",
       " 'assert',\n",
       " 'async',\n",
       " 'await',\n",
       " 'break',\n",
       " 'class',\n",
       " 'continue',\n",
       " 'def',\n",
       " 'del',\n",
       " 'elif',\n",
       " 'else',\n",
       " 'except',\n",
       " 'finally',\n",
       " 'for',\n",
       " 'from',\n",
       " 'global',\n",
       " 'if',\n",
       " 'import',\n",
       " 'in',\n",
       " 'is',\n",
       " 'lambda',\n",
       " 'nonlocal',\n",
       " 'not',\n",
       " 'or',\n",
       " 'pass',\n",
       " 'raise',\n",
       " 'return',\n",
       " 'try',\n",
       " 'while',\n",
       " 'with',\n",
       " 'yield']"
      ]
     },
     "execution_count": 3,
     "metadata": {},
     "output_type": "execute_result"
    }
   ],
   "source": [
    "keyword.kwlist"
   ]
  },
  {
   "cell_type": "markdown",
   "id": "b74e0672",
   "metadata": {},
   "source": [
    "## Multi-catiable returns"
   ]
  },
  {
   "cell_type": "code",
   "execution_count": 6,
   "id": "cae54134",
   "metadata": {},
   "outputs": [],
   "source": [
    "def get_size():\n",
    "    num_row = int(input(\"row\"))\n",
    "    num_col = int(input(\"col\"))\n",
    "    return num_row,num_col"
   ]
  },
  {
   "cell_type": "markdown",
   "id": "7a2f3b2c",
   "metadata": {},
   "source": [
    "## Variable-length argument tuples"
   ]
  },
  {
   "cell_type": "code",
   "execution_count": 9,
   "id": "6ad92dec",
   "metadata": {},
   "outputs": [
    {
     "name": "stdout",
     "output_type": "stream",
     "text": [
      "1 2.0 a\n",
      "hello 5,1 usa\n"
     ]
    }
   ],
   "source": [
    "def printall(*values):\n",
    "    print(values)\n",
    "    \n",
    "print(1,2.0,'a')\n",
    "print('hello','5,1','usa')"
   ]
  },
  {
   "cell_type": "code",
   "execution_count": 8,
   "id": "c85d583c",
   "metadata": {},
   "outputs": [
    {
     "data": {
      "text/plain": [
       "<function __main__.printall(*args)>"
      ]
     },
     "execution_count": 8,
     "metadata": {},
     "output_type": "execute_result"
    }
   ],
   "source": [
    "printall"
   ]
  },
  {
   "cell_type": "markdown",
   "id": "38927500",
   "metadata": {},
   "source": [
    "## Named parameters in functions"
   ]
  },
  {
   "cell_type": "code",
   "execution_count": 10,
   "id": "d3a1dab3",
   "metadata": {},
   "outputs": [],
   "source": [
    "def buy_pizza(topping,size='Medium',crust='Thin'):\n",
    "    print(\"Toppint:\" , topping)\n",
    "    print(\"Size:\", size)\n",
    "    print('Crust:',crust)"
   ]
  },
  {
   "cell_type": "code",
   "execution_count": 12,
   "id": "bdfe4ee1",
   "metadata": {},
   "outputs": [
    {
     "name": "stdout",
     "output_type": "stream",
     "text": [
      "Toppint: Ham\n",
      "Size: Small\n",
      "Crust: Cheese\n"
     ]
    }
   ],
   "source": [
    "buy_pizza('Ham','Small','Cheese')"
   ]
  },
  {
   "cell_type": "code",
   "execution_count": 13,
   "id": "62c12dc5",
   "metadata": {},
   "outputs": [
    {
     "name": "stdout",
     "output_type": "stream",
     "text": [
      "Toppint: Ham\n",
      "Size: Small\n",
      "Crust: Thin\n"
     ]
    }
   ],
   "source": [
    "buy_pizza('Ham','Small')"
   ]
  },
  {
   "cell_type": "markdown",
   "id": "040f6b5f",
   "metadata": {},
   "source": [
    "## สร้าง help"
   ]
  },
  {
   "cell_type": "code",
   "execution_count": 15,
   "id": "d90b3473",
   "metadata": {},
   "outputs": [],
   "source": [
    "def rect_area(width, height):\n",
    "    \"\"\"Calculate area of a rectangel\"\"\"\n",
    "    return width*height"
   ]
  },
  {
   "cell_type": "code",
   "execution_count": 16,
   "id": "9bc81767",
   "metadata": {},
   "outputs": [
    {
     "name": "stdout",
     "output_type": "stream",
     "text": [
      "Help on function rect_area in module __main__:\n",
      "\n",
      "rect_area(width, height)\n",
      "    Calculate area of a rectangel\n",
      "\n"
     ]
    }
   ],
   "source": [
    "help(rect_area)"
   ]
  },
  {
   "cell_type": "markdown",
   "id": "643a80fd",
   "metadata": {},
   "source": [
    "## Parameter passing"
   ]
  },
  {
   "cell_type": "code",
   "execution_count": 18,
   "id": "59a4d09f",
   "metadata": {},
   "outputs": [],
   "source": [
    "def add_one(x):\n",
    "    x = x + 1\n",
    "    print('in func:',x)"
   ]
  },
  {
   "cell_type": "code",
   "execution_count": 20,
   "id": "9c67970a",
   "metadata": {},
   "outputs": [
    {
     "name": "stdout",
     "output_type": "stream",
     "text": [
      "5\n"
     ]
    }
   ],
   "source": [
    "a=5\n",
    "add_one(a)\n",
    "print(a)"
   ]
  },
  {
   "cell_type": "code",
   "execution_count": 22,
   "id": "833d5e25",
   "metadata": {},
   "outputs": [
    {
     "name": "stdout",
     "output_type": "stream",
     "text": [
      "[1, 2]\n"
     ]
    }
   ],
   "source": [
    "def add_one(lst):\n",
    "    for x in lst: # x เป็น local\n",
    "        x = x +1\n",
    "#     for x in lst:\n",
    "#         lst[i]= lst[i]+1\n",
    "#         print('in func:',x)\n",
    "\n",
    "a=[1,2]\n",
    "add_one(a)\n",
    "print(a)"
   ]
  },
  {
   "cell_type": "code",
   "execution_count": 24,
   "id": "df34e8de",
   "metadata": {},
   "outputs": [],
   "source": [
    "# def add_one(lst):\n",
    "#     for x in lst:\n",
    "#         lst[i]= lst[i]+1\n",
    "#         print('in func:',x)\n",
    "\n",
    "# a=[1,2]\n",
    "# add_one(a)\n",
    "# print(a)"
   ]
  },
  {
   "cell_type": "code",
   "execution_count": 3,
   "id": "991e99ac",
   "metadata": {},
   "outputs": [
    {
     "name": "stdout",
     "output_type": "stream",
     "text": [
      "hello, halman\n"
     ]
    }
   ],
   "source": [
    "def threshold(signal):\n",
    "    return 1.0/sum(signal)\n",
    "\n",
    "if __name__ =='__main__':\n",
    "    print('hello, halman')"
   ]
  },
  {
   "cell_type": "code",
   "execution_count": 2,
   "id": "aad26736",
   "metadata": {},
   "outputs": [
    {
     "ename": "ModuleNotFoundError",
     "evalue": "No module named 'halman'",
     "output_type": "error",
     "traceback": [
      "\u001b[0;31m---------------------------------------------------------------------------\u001b[0m",
      "\u001b[0;31mModuleNotFoundError\u001b[0m                       Traceback (most recent call last)",
      "Cell \u001b[0;32mIn[2], line 1\u001b[0m\n\u001b[0;32m----> 1\u001b[0m \u001b[38;5;28;01mimport\u001b[39;00m \u001b[38;5;21;01mhalman\u001b[39;00m\n",
      "\u001b[0;31mModuleNotFoundError\u001b[0m: No module named 'halman'"
     ]
    }
   ],
   "source": [
    "import halman\n"
   ]
  },
  {
   "cell_type": "code",
   "execution_count": null,
   "id": "e4d40f4b",
   "metadata": {},
   "outputs": [],
   "source": []
  }
 ],
 "metadata": {
  "kernelspec": {
   "display_name": "Python 3 (ipykernel)",
   "language": "python",
   "name": "python3"
  },
  "language_info": {
   "codemirror_mode": {
    "name": "ipython",
    "version": 3
   },
   "file_extension": ".py",
   "mimetype": "text/x-python",
   "name": "python",
   "nbconvert_exporter": "python",
   "pygments_lexer": "ipython3",
   "version": "3.10.9"
  }
 },
 "nbformat": 4,
 "nbformat_minor": 5
}
