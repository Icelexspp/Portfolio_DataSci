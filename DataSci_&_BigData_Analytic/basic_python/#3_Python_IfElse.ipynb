{
 "cells": [
  {
   "cell_type": "code",
   "execution_count": 1,
   "id": "df05f901",
   "metadata": {},
   "outputs": [
    {
     "name": "stdout",
     "output_type": "stream",
     "text": [
      "5\n",
      "cheers\n"
     ]
    }
   ],
   "source": [
    "x = int(input())\n",
    "if x>5:\n",
    "    print(\"hello\")\n",
    "    if x<10:\n",
    "        print(\"foofoo\")\n",
    "        print(\"barbar\")\n",
    "    print(\"well\")\n",
    "print(\"cheers\")"
   ]
  },
  {
   "cell_type": "markdown",
   "id": "5281f573",
   "metadata": {},
   "source": [
    "วิธีการสลับค่า"
   ]
  },
  {
   "cell_type": "code",
   "execution_count": 2,
   "id": "00a198c7",
   "metadata": {},
   "outputs": [
    {
     "name": "stdout",
     "output_type": "stream",
     "text": [
      "25 10\n"
     ]
    }
   ],
   "source": [
    "#วิธีที่หนึ่ง\n",
    "x = 10\n",
    "y = 25\n",
    "tmp = x\n",
    "x=y\n",
    "y=tmp\n",
    "\n",
    "print(x,y)"
   ]
  },
  {
   "cell_type": "code",
   "execution_count": 3,
   "id": "78d1bc37",
   "metadata": {},
   "outputs": [
    {
     "name": "stdout",
     "output_type": "stream",
     "text": [
      "25 10\n"
     ]
    }
   ],
   "source": [
    "#วิธีที่สอง\n",
    "x = 10\n",
    "y = 25\n",
    "\n",
    "x,y = y,x\n",
    "\n",
    "print(x,y)"
   ]
  },
  {
   "cell_type": "markdown",
   "id": "f98721b5",
   "metadata": {},
   "source": [
    "- ร้านขายลูกอมร้านหนึ่ง มีเงื่อนไขในการขายว่าในการซื้อลูกอมครั้งหนึ่งๆ จะต้องซื้อลูกอมอย่างน้อย s ลูก \n",
    "- ให้ตัวแรป x แทนจำนวนลูกอมที่ต้องการซื้อ เขียนโปรแกรมที่ปรับค่าตัวแปร x ให้เท่ากับจำนวนลูกอมคุณต้องซื้อ\n",
    "ตัวอย่างเช่น ถ้า s = 5 และ x = 7 เมื่อโปรแกรมทำงานแล้ว จะได้ x = 7"
   ]
  },
  {
   "cell_type": "code",
   "execution_count": 4,
   "id": "a733bce1",
   "metadata": {},
   "outputs": [
    {
     "name": "stdout",
     "output_type": "stream",
     "text": [
      "5\n",
      "you have to buy 5\n"
     ]
    }
   ],
   "source": [
    "s=5\n",
    "x=int(input())\n",
    "if x < s:\n",
    "    x=s\n",
    "print(\"you have to buy\",x)"
   ]
  },
  {
   "cell_type": "code",
   "execution_count": 5,
   "id": "210f086b",
   "metadata": {},
   "outputs": [
    {
     "name": "stdout",
     "output_type": "stream",
     "text": [
      "Enter an integer:5\n",
      "A positive integer\n"
     ]
    }
   ],
   "source": [
    "x = int(input(\"Enter an integer:\"))\n",
    "if x > 0:\n",
    "    print(\"A positive integer\")\n",
    "else:\n",
    "    if x<0:\n",
    "        print(\"A negative integer\")\n",
    "    else:\n",
    "        print(\"A Zero\")\n",
    "        "
   ]
  },
  {
   "cell_type": "code",
   "execution_count": 7,
   "id": "299441d6",
   "metadata": {},
   "outputs": [
    {
     "ename": "NameError",
     "evalue": "name 'score' is not defined",
     "output_type": "error",
     "traceback": [
      "\u001b[0;31m---------------------------------------------------------------------------\u001b[0m",
      "\u001b[0;31mNameError\u001b[0m                                 Traceback (most recent call last)",
      "Cell \u001b[0;32mIn[7], line 1\u001b[0m\n\u001b[0;32m----> 1\u001b[0m \u001b[38;5;28;01mif\u001b[39;00m \u001b[43mscore\u001b[49m \u001b[38;5;241m>\u001b[39m \u001b[38;5;241m8\u001b[39m:\n\u001b[1;32m      2\u001b[0m     \u001b[38;5;28mprint\u001b[39m(\u001b[38;5;124m\"\u001b[39m\u001b[38;5;124mGood\u001b[39m\u001b[38;5;124m\"\u001b[39m)\n\u001b[1;32m      3\u001b[0m \u001b[38;5;28;01melse\u001b[39;00m:\n",
      "\u001b[0;31mNameError\u001b[0m: name 'score' is not defined"
     ]
    }
   ],
   "source": [
    "if score > 8:\n",
    "    print(\"Good\")\n",
    "else:\n",
    "    if score >4:\n",
    "        print(\"Passed\")\n",
    "    else:\n",
    "        print(\"Failed\")"
   ]
  },
  {
   "cell_type": "markdown",
   "id": "0e1df577",
   "metadata": {},
   "source": [
    "# EX ELAB"
   ]
  },
  {
   "cell_type": "markdown",
   "id": "6c2d11cd",
   "metadata": {},
   "source": [
    "## Divisible (จำนวนนี้หารลงตัวมั้ยนะ)\n",
    "\n",
    "ให้นิสิตเขียนโปรแกรมรับจำนวนเต็ม 2 จำนวน (a,b) แล้วตรวจสอบว่า a หารด้วย b ลงตัวหรือไม่\n",
    "\n",
    "รับประกันว่าไม่มี หารด้วย 0 และ 0 หารด้วย 0"
   ]
  },
  {
   "cell_type": "markdown",
   "id": "ecaec437",
   "metadata": {},
   "source": [
    "ANS\n",
    "\n",
    "77777777777777\n",
    "\n",
    "2\n",
    "\n",
    "NO"
   ]
  },
  {
   "cell_type": "code",
   "execution_count": 8,
   "id": "3f98661c",
   "metadata": {},
   "outputs": [
    {
     "name": "stdout",
     "output_type": "stream",
     "text": [
      "3\n",
      "3\n",
      "NO\n"
     ]
    }
   ],
   "source": [
    "a = int(input())\n",
    "b = int(input())\n",
    "if a//b == 0:\n",
    "    print(\"YES\")\n",
    "else:\n",
    "    print(\"NO\")"
   ]
  },
  {
   "cell_type": "code",
   "execution_count": 9,
   "id": "78816568",
   "metadata": {},
   "outputs": [
    {
     "name": "stdout",
     "output_type": "stream",
     "text": [
      "2\n",
      "2\n",
      "YES\n"
     ]
    }
   ],
   "source": [
    "a = int(input())\n",
    "b = int(input())\n",
    "if a%b == 0:\n",
    "    print(\"YES\")\n",
    "else:\n",
    "    print(\"NO\")"
   ]
  },
  {
   "cell_type": "markdown",
   "id": "9133c757",
   "metadata": {},
   "source": [
    "## Weird Number\n",
    "กำหนดให้เป็นจำนวนเต็ม n จงทำการตรวจสอบเงื่อนไขต่อไปนี้:\n",
    "\n",
    "    ถ้า n เป็นเลขคี่ ให้พิมพ์ \"Weird\"\n",
    "    ถ้า n เป็นเลขคู่ และอยู่ในช่วงตั้งแต่ 2 ถึง 5 รวมถึงตัวเลขดังกล่าว ให้พิมพ์ \"Not Weird\"\n",
    "    ถ้า n เป็นเลขคู่ และอยู่ในช่วงตั้งแต่ 6 ถึง 20 รวมถึงตัวเลขดังกล่าว ให้พิมพ์ \"Weird\"\n",
    "    ถ้า n เป็นเลขคู่ และมากกว่า 20 ให้พิมพ์ \"Not Weird\"\n",
    "    คำแนะนำ ต้องเรียง 4 เงื่อนไขดังกล่าวตามลำดับ\n",
    "\n",
    "    ตัวอย่าง Input/Output\n",
    "    Enter a number (1-100): 1\n",
    "    Weird"
   ]
  },
  {
   "cell_type": "code",
   "execution_count": 10,
   "id": "ef35dfbd",
   "metadata": {},
   "outputs": [
    {
     "name": "stdout",
     "output_type": "stream",
     "text": [
      "Enter a number (1-100): 4\n",
      "Not Weird\n"
     ]
    }
   ],
   "source": [
    "n = int(input(\"Enter a number (1-100): \"))\n",
    "if n%2 == 1:\n",
    "    print(\"Weird\")\n",
    "if n%2 == 0:\n",
    "    if n>=2 and n<=5:\n",
    "        print(\"Not Weird\")\n",
    "    elif n>=6 and n<=20: \n",
    "        print(\"Weird\")\n",
    "    else:\n",
    "        print(\"Not Weird\")"
   ]
  },
  {
   "cell_type": "markdown",
   "id": "f19bc364",
   "metadata": {},
   "source": [
    "#### n = int(input(\"Enter a number (1-100):\"))\n",
    "if n%2 == 1:\n",
    "    print(\"Weird\")\n",
    "if (n%2 == 0) & (n>=2 & n<=5):\n",
    "    print(\"Not Weird\")\n",
    "if (n%2 == 0) & (n>=6 & n<=20):\n",
    "    print(\"Weird\")\n",
    "if (n%2 == 0) & (n>20):\n",
    "    print(\"Not Weird\")"
   ]
  },
  {
   "cell_type": "markdown",
   "id": "97b44c90",
   "metadata": {},
   "source": [
    "## Coordinate \n",
    "Coordinate (จุดนี้อยู่ที่ไหน)\n",
    "\n",
    "จงเขียนโปรแกรมรับค่าจำนวนจริง (ที่มีทั้งจำนวนเต็มและทศนิยม) 2 ค่า คือ x และ y แล้วพิมพ์ว่าจุดนี้อยู่ในจตุภาค (Quadrant) หรือ แกนใด (Axis) หรือ จุด origin\n",
    "\n",
    "ตัวอย่าง Input/Output\n",
    "\n",
    "    Enter x: 1.01\n",
    "    Enter y: 1\n",
    "    1"
   ]
  },
  {
   "cell_type": "code",
   "execution_count": 11,
   "id": "4965c5cf",
   "metadata": {},
   "outputs": [
    {
     "name": "stdout",
     "output_type": "stream",
     "text": [
      "Enter x: 3\n",
      "Enter y: 3\n",
      "1\n"
     ]
    }
   ],
   "source": [
    "x = float(input(\"Enter x: \"))\n",
    "y = float(input(\"Enter y: \"))\n",
    "\n",
    "if x > 0 and y > 0:\n",
    "    print(\"1\")\n",
    "elif x < 0 and y > 0:\n",
    "    print(\"2\")\n",
    "elif x < 0 and y < 0:\n",
    "    print(\"3\")\n",
    "elif x > 0 and y < 0:\n",
    "    print(\"4\")\n",
    "elif x == 0 and y == 0:\n",
    "    print(\"Origin\")\n",
    "elif y == 0:\n",
    "    print(\"x-axis\")\n",
    "elif x == 0:\n",
    "    print(\"y-axis\")\n"
   ]
  },
  {
   "cell_type": "markdown",
   "id": "1a72267a",
   "metadata": {},
   "source": [
    "เนื่องจากเด็กชายบุซซี่ชอบเตะบอลมาก เขาจึงมักนำลูกบอลมาเตะเล่นที่ใต้ตึกวิศวกรรมคอมพิวเตอร์ แต่เขามักจะถูกยามตึกต่อว่า เขาจึงหนีไปเช่าสนามฟุตบอลแห่งหนึ่ง โดยสนามฟุตบอลนั้นคิดค่าบริการดังนี้\n",
    "\n",
    "    อัตราค่าบริการชั่วโมงละ 900 บาท\n",
    "    เศษชั่วโมงที่มากกว่า 20 นาทีจะปัดเป็น 1 ชั่วโมง (เช่น 1ชั่วโมง 30 นาที คิดเป็น 2 ชั่วโมง)\n",
    "    หากใช้บริการตั้งแต่ 2 ชั่วโมงขึ้นไป แต่ไม่ถึง 4 ชั่วโมง จะลดราคา 10%\n",
    "    หากใช้บริการ 4 ชั่วโมง จะลดราคา 20%\n",
    "    หากใช้บริการตั้งแต่ 5 ชั่วโมงขึ้นไป จะลดราคา 30%\n",
    "    จงเขียนโปรแกรมเพื่อคำนวณอัตราค่าบริการเป็นจำนวนเต็ม โดยรับค่าเวลาเป็นหน่วยนาที (กำหนดให้เวลาเป็นจำนวนเต็มบวกเสมอ)"
   ]
  },
  {
   "cell_type": "markdown",
   "id": "566dc551",
   "metadata": {},
   "source": [
    "ANS\n",
    "\n",
    "    How long have Buzz played ?: 390\n",
    "    Total price is 4410 baht."
   ]
  },
  {
   "cell_type": "code",
   "execution_count": 12,
   "id": "b334c3d2",
   "metadata": {},
   "outputs": [
    {
     "name": "stdout",
     "output_type": "stream",
     "text": [
      "How long have Buzz played ?: 60\n",
      "Total price is 900 baht.\n"
     ]
    }
   ],
   "source": [
    "def calculate_service_cost(minutes):\n",
    "    # ค่าบริการต่อชั่วโมง\n",
    "    hourly_rate = 900\n",
    "\n",
    "    # แปลงนาทีเป็นชั่วโมง\n",
    "    hours = minutes // 60\n",
    "\n",
    "    # หาเศษนาทีหลังจากที่แปลงเป็นชั่วโมงแล้ว\n",
    "    remaining_minutes = minutes % 60\n",
    "\n",
    "    # ถ้าเศษนาทีมากกว่า 20 นาที ให้ปัดขึ้นเป็นชั่วโมง\n",
    "    if remaining_minutes > 20:\n",
    "        hours += 1\n",
    "\n",
    "    # คำนวณราคาค่าบริการ\n",
    "    if hours >= 5:\n",
    "        # ลดราคา 30% สำหรับ 5 ชั่วโมงขึ้นไป\n",
    "        total_cost = round(hourly_rate * hours * 0.7)\n",
    "    elif hours >= 4:\n",
    "        # ลดราคา 20% สำหรับ 4 ชั่วโมงขึ้นไป\n",
    "        total_cost = int(hourly_rate * hours * 0.8)\n",
    "    elif hours >= 2:\n",
    "        # ลดราคา 10% สำหรับ 2 ชั่วโมงขึ้นไป\n",
    "        total_cost = int(hourly_rate * hours * 0.9)\n",
    "    else:\n",
    "        # ไม่มีการลดราคาสำหรับนาทีที่น้อยกว่า 2 ชั่วโมง\n",
    "        total_cost = int(hourly_rate * hours)\n",
    "\n",
    "    return total_cost\n",
    "\n",
    "# รับค่าเวลาเป็นนาที\n",
    "minutes = int(input(\"How long have Buzz played ?: \"))\n",
    "cost = calculate_service_cost(minutes)\n",
    "print(\"Total price is\",cost,\"baht.\")\n"
   ]
  },
  {
   "cell_type": "markdown",
   "id": "3c2008e1",
   "metadata": {},
   "source": [
    "น้องๆนิสิต Cpe35 กำลังทำโปรแกรมที่สุดยอดมากๆ นั้นก็คือ!!!\n",
    "--โปรแกรมแบ่งอายุคน-- โดยเกณฑ์การแบ่งอายุตามนี้\n",
    "\n",
    "    Child (0-12 years)\n",
    "    Adolescence (13-18 years)\n",
    "    Adult (19-59 years)\n",
    "    Senior Adult (60 years and above)"
   ]
  },
  {
   "cell_type": "markdown",
   "id": "131a61c4",
   "metadata": {},
   "source": [
    "### ANS\n",
    "    Enter your age : 11\n",
    "    You are Child."
   ]
  },
  {
   "cell_type": "code",
   "execution_count": 13,
   "id": "2262a8c6",
   "metadata": {},
   "outputs": [
    {
     "name": "stdout",
     "output_type": "stream",
     "text": [
      "Enter your age : 5\n",
      "You are Child.\n"
     ]
    }
   ],
   "source": [
    "age = int(input(\"Enter your age : \"))\n",
    "\n",
    "if (age>=0)and(age<=12):\n",
    "    print(\"You are Child.\")\n",
    "elif (age>=13)and(age<=18):\n",
    "    print(\"You are Adolescence.\")\n",
    "elif (age>=19)and(age<=59):\n",
    "    print(\"You are Adult.\")   \n",
    "elif(age>=60):\n",
    "    print(\"You are Senior Adult.\")"
   ]
  },
  {
   "cell_type": "markdown",
   "id": "07fa606d",
   "metadata": {},
   "source": [
    "[simpleCalculator] เครื่องคิดเลขอย่างง่าย\n",
    "ให้นิสิตสร้างเครื่องคิดเลขที่รับตัวเลข 2 จำนวน x และ y รับเครื่องหมายที่ใช้ในการคำนวณซึ่งมีให้เลือก5 ชนิด คือ + - * / และ % หากใส่เครื่องหมายไม่ตรงกับ 5 ชนิดนี้ ให้แสดงว่า Unknown Operator ออกทางหน้าจอ โดยทศนิยมให้แสดงเพียง2ตำแหน่งเมื่อเป็นการหาร นอกจากนั้นแสดงค่าเป็นจำนวนเต็ม (โดยค่า x y ที่รับมานั้น เป็นจำนวนเต็ม)\n",
    "\n",
    "Example\n",
    "\n",
    "    x: 3\n",
    "    Operator: +\n",
    "    y: 2\n",
    "    5\n"
   ]
  },
  {
   "cell_type": "code",
   "execution_count": 14,
   "id": "88bef2fe",
   "metadata": {},
   "outputs": [
    {
     "name": "stdout",
     "output_type": "stream",
     "text": [
      "x: 3\n",
      "Operator: /\n",
      "y: 3\n",
      "1.00\n"
     ]
    }
   ],
   "source": [
    "x = int(input(\"x: \"))\n",
    "operator = input(\"Operator: \")\n",
    "y = int(input(\"y: \"))\n",
    "if (operator == '+'):\n",
    "    sum_ = int(x+y)\n",
    "    print(sum_)\n",
    "elif (operator == '-'):\n",
    "    minus = int(x-y)\n",
    "    print(minus)\n",
    "elif (operator == '*'):\n",
    "    cross = int(x*y)\n",
    "    print(cross)\n",
    "elif (operator == '/'):\n",
    "    quotient = float(x/y)\n",
    "    print(\"{:.2f}\".format(quotient))\n",
    "elif (operator =='%'):\n",
    "    mod = x%y\n",
    "    print(mod)\n",
    "else:\n",
    "    print(\"Unknown Operator\")"
   ]
  },
  {
   "cell_type": "markdown",
   "id": "bd0ef4c5",
   "metadata": {},
   "source": [
    "Qualification เข้าสู่วงการบอล\n",
    "เด็กชายบัซซี่มีความฝันอยากเป็นนักฟุตบอลอาชีพ หลังจากฝึกซ้อมฟุตบอลที่สนามเช่าอย่างเต็มที่แล้ว เขาจึงไปเข้าคัดตัวกับสโมสร นครราชสีมา F.C. ในขั้นแรกจะมีการตรวจร่างกายก่อน และหนึ่งในนั้นมีการวัดค่า BMI โดยมีเกณฑ์ดังนี้\n",
    "\n",
    "    เกณฑ์ค่า BMI                           ผลการประเมิน\n",
    "    ตั้งแต่ 30 ขึ้นไป                             You're in the obese range.\n",
    "    ตั้งแต่ 25 ขึ้นไป แต่น้อยกว่า 30        You're in the overweight range.\n",
    "    ตั้งแต่ 18.6 ขึ้นไป แต่น้อยกว่า 25     You're in the healthy weight range.\n",
    "    น้อยกว่า 18.6                               You're in the underweight range.\n",
    "\n",
    "จงเขียนโปรแกรมที่รับค่า ส่วนสูง และน้ำหนัก แล้วคำนวณค่า BMI แล้วแสดงผลลัพธ์ตามเกณฑ์\n",
    "    \n",
    "B\n",
    "M\n",
    "I\n",
    "=\n",
    "W\n",
    "e\n",
    "i\n",
    "g\n",
    "h\n",
    "t\n",
    "(\n",
    "k\n",
    "g\n",
    ")\n",
    ".\n",
    "/\n",
    "(\n",
    "H\n",
    "e\n",
    "i\n",
    "g\n",
    "h\n",
    "t\n",
    "(\n",
    "m\n",
    ")\n",
    ".\n",
    ")\n",
    "2\n",
    "\n",
    "\n",
    "### Exmples\n",
    "    Weight: 57\n",
    "    Height: 165\n",
    "    Your BMI is 20.9 You're in the healthy weight range."
   ]
  },
  {
   "cell_type": "code",
   "execution_count": 15,
   "id": "1c1b02cc",
   "metadata": {},
   "outputs": [
    {
     "name": "stdout",
     "output_type": "stream",
     "text": [
      "Weight: 2\n",
      "Height: 2\n",
      "Your BMI is 5000.0 You're in the obese range.\n"
     ]
    }
   ],
   "source": [
    "weight = int(input(\"Weight: \"))\n",
    "height = float(input(\"Height: \"))\n",
    "height_m = height /100\n",
    "BMI = weight/(height_m**2)\n",
    "if(BMI>30):\n",
    "    print(\"Your BMI is %.1f You're in the obese range.\"%BMI)\n",
    "elif(BMI>25)and(BMI<=30):\n",
    "    print(\"Your BMI is %.1f You're in the overweight range.\"%BMI)\n",
    "elif(BMI>18.6)and(BMI<=25):\n",
    "    print(\"Your BMI is %.1f You're in the healthy weight range.\"%BMI)\n",
    "elif(BMI<18.6):\n",
    "    print(\"Your BMI is %.1f You're in the underweight range.\"%BMI)  \n",
    "          "
   ]
  },
  {
   "cell_type": "markdown",
   "id": "14553b4d",
   "metadata": {},
   "source": [
    "บริษัท ACME\n",
    "บริษัท ACME จำกัด ต้องการให้ส่วนลดกับลูกค้าที่ซื้อสินค้าในมูลค่าตั้งแต่ 1,000 บาทขึ้นไป โดยถ้าลูกค้าซื้อสินค้าตั้งแต่ 1,000 ขึ้นไปแต่น้อยกว่า 3,000 บาท ให้ส่วนลด 10% และถ้าซื้อสินค้าตั้งแต่ 3,000 บาทขึ้นไป ให้ส่วนลด 15% จงเขียนโปรแกรมที่รับจำนวนราคาสินค้าแล้วคำนวนเงินสุทธิที่ลูกค้าต้องชำระ\n",
    "\n",
    "ตัวอย่างข้อมูล\n",
    "\n",
    "    Enter buying amount: 4200.0\n",
    "    Amount due after discount is 3570.00 baht."
   ]
  },
  {
   "cell_type": "code",
   "execution_count": 17,
   "id": "2c2ae584",
   "metadata": {},
   "outputs": [
    {
     "name": "stdout",
     "output_type": "stream",
     "text": [
      "Enter buying amount: 300\n"
     ]
    }
   ],
   "source": [
    "amount = float(input(\"Enter buying amount: \"))\n",
    "if(amount>=1000)and(amount<3000):\n",
    "    price = float(amount-(amount*0.10))\n",
    "    print(\"Amount due after discount is %.2f baht.\"%price)\n",
    "elif(amount>3000):\n",
    "    price = float(amount-(amount*0.15))\n",
    "    print(\"Amount due after discount is %.2f baht.\"%price)"
   ]
  },
  {
   "cell_type": "code",
   "execution_count": 19,
   "id": "51992cf8",
   "metadata": {},
   "outputs": [
    {
     "name": "stdout",
     "output_type": "stream",
     "text": [
      "Enter buying amount: 3\n"
     ]
    },
    {
     "ename": "NameError",
     "evalue": "name 'discount' is not defined",
     "output_type": "error",
     "traceback": [
      "\u001b[0;31m---------------------------------------------------------------------------\u001b[0m",
      "\u001b[0;31mNameError\u001b[0m                                 Traceback (most recent call last)",
      "Cell \u001b[0;32mIn[19], line 8\u001b[0m\n\u001b[1;32m      5\u001b[0m \u001b[38;5;28;01melif\u001b[39;00m amount \u001b[38;5;241m>\u001b[39m\u001b[38;5;241m=\u001b[39m \u001b[38;5;241m3000\u001b[39m:\n\u001b[1;32m      6\u001b[0m     discount \u001b[38;5;241m=\u001b[39m \u001b[38;5;241m0.15\u001b[39m\n\u001b[0;32m----> 8\u001b[0m \u001b[38;5;28;01mif\u001b[39;00m \u001b[43mdiscount\u001b[49m \u001b[38;5;241m>\u001b[39m \u001b[38;5;241m0\u001b[39m:\n\u001b[1;32m      9\u001b[0m     price \u001b[38;5;241m=\u001b[39m amount \u001b[38;5;241m-\u001b[39m (amount \u001b[38;5;241m*\u001b[39m discount)\n\u001b[1;32m     10\u001b[0m     \u001b[38;5;28mprint\u001b[39m(\u001b[38;5;124m\"\u001b[39m\u001b[38;5;124mAmount due after discount is \u001b[39m\u001b[38;5;132;01m%.2f\u001b[39;00m\u001b[38;5;124m baht.\u001b[39m\u001b[38;5;124m\"\u001b[39m \u001b[38;5;241m%\u001b[39mprice)\n",
      "\u001b[0;31mNameError\u001b[0m: name 'discount' is not defined"
     ]
    }
   ],
   "source": [
    "amount = float(input(\"Enter buying amount: \"))\n",
    "\n",
    "if 1000 <= amount < 3000:\n",
    "    discount = 0.10\n",
    "elif amount >= 3000:\n",
    "    discount = 0.15\n",
    "\n",
    "if discount > 0:\n",
    "    price = amount - (amount * discount)\n",
    "    print(\"Amount due after discount is %.2f baht.\" %price)"
   ]
  },
  {
   "cell_type": "code",
   "execution_count": null,
   "id": "18351cce",
   "metadata": {},
   "outputs": [],
   "source": []
  },
  {
   "cell_type": "markdown",
   "id": "ea07a828",
   "metadata": {},
   "source": [
    "Write a program to check username and password for accessing computer system with admin account.\n",
    "\n",
    "The admin account is \"Username=admin\" and \"Password=Ad31n15Tr@t012\".\n",
    "\n",
    "Use constant variable ADMIN_USERNAME and ADMIN_PASSWORD when you check username and password\n",
    "\n",
    "โปรแกรมที่เขียนต้องเทียบค่ากับตัวแปรที่กำหนดให้ และไม่เปลี่ยนค่าของตัวแปรที่กำหนดให้ไว้แล้ว\n",
    "\n",
    "    Username: admin\n",
    "    Password: Ad31n15Tr@t012\n",
    "    Welcome, admin."
   ]
  },
  {
   "cell_type": "code",
   "execution_count": null,
   "id": "9eec1163",
   "metadata": {},
   "outputs": [],
   "source": [
    "username = input(\"Username: \")\n",
    "password = input(\"Password: \")\n",
    "\n",
    "if(username==\"admin\")and(password==\"Ad31n15Tr@t012\"):\n",
    "    print(\"Welcome, admin.\")\n",
    "else:\n",
    "    print(\"You are not admin.\")"
   ]
  },
  {
   "cell_type": "code",
   "execution_count": null,
   "id": "36de9ed2",
   "metadata": {},
   "outputs": [],
   "source": [
    "# Constant variables\n",
    "ADMIN_USERNAME = \"admin\"\n",
    "ADMIN_PASSWORD = \"Ad31n15Tr@t012\"\n",
    "\n",
    "def access_computer_system(username, password):\n",
    "    if username == ADMIN_USERNAME and password == ADMIN_PASSWORD:\n",
    "        print(\"Welcome, admin. \")\n",
    "    else:\n",
    "        print(\"You are not admin. \")\n",
    "\n",
    "if __name__ == \"__main__\":\n",
    "    # Get input from the user\n",
    "    username_input = input(\"Username: \")\n",
    "    password_input = input(\"Password: \")\n",
    "\n",
    "    # Check the provided username and password\n",
    "    access_computer_system(username_input, password_input)\n"
   ]
  },
  {
   "cell_type": "code",
   "execution_count": null,
   "id": "81f85b5b",
   "metadata": {},
   "outputs": [],
   "source": [
    "def calculate_discounted_amount(amount):\n",
    "    if amount >= 3000:\n",
    "        discount = 0.15\n",
    "    elif amount >= 1000:\n",
    "        discount = 0.10\n",
    "    else:\n",
    "        discount = 0\n",
    "    discount_amount = amount * discount\n",
    "    total_amount = amount - discount_amount\n",
    "    return total_amount\n",
    "# รับจำนวนราคาสินค้าจากผู้ใช้\n",
    "amount = float(input(\"Enter buying amount: \"))\n",
    "\n",
    "# เรียกใช้งานฟังก์ชัน calculate_discounted_amount เพื่อคำนวณเงินสุทธิที่ลูกค้าต้องชำระ\n",
    "amount_due = calculate_discounted_amount(amount)\n",
    "print(\"Amount due after discount is {:.2f} baht.\".format(amount_due))"
   ]
  },
  {
   "cell_type": "markdown",
   "id": "01d9085d",
   "metadata": {},
   "source": [
    "bulotelli Will Bulotelli play?\n",
    "มาริโอ บูโลเตลลี เป็นนักฟุตบอลอาชีพในสโมสรแห่งหนึ่ง โค้ชต้องการตัดสินว่าเขาควรจะได้ลงเล่นในแมทช์ที่จะมาถึงหรือไม่ โดยมีเกณฑ์ตัดสินดังต่อไปนี้\n",
    "\n",
    "     - หากบูโลเตลลี่มีอาการบาดเจ็บ เขาจะไม่ได้ลงเล่น (Not available)\n",
    "\n",
    "     - กรณีบูโลเตลลี่ไม่มีอาการบาดเจ็บ\n",
    "\n",
    "         - หากบูโลเตลลี่มาตรงเวลา เขาจะได้ลงตัวจริง (Starter)\n",
    "\n",
    "         - แต่หากบูโลเตลลี่มาสายในการซ้อม โค้ชจะตัดสินจากผลงานในสนามซ้อม\n",
    "\n",
    "             - หากบูโลเตลลี่มีผลงานดีในการซ้อม เขาจะได้ลงเป็นตัวสำรอง (Substitute)\n",
    "\n",
    "             - แต่หากบูโลเตลลี่ทำผลงานได้ไม่ดี เขาจะไม่ได้ลงเล่นเลย (Not selected)\n",
    "\n",
    "จงเขียนโปรแกรมเพื่อตัดสินว่าบูโลเตลลี่จะได้ลงเล่นหรือไม่\n",
    "\n",
    "    Example 1\n",
    "    Is Bulotelli injured?(y/n) y\n",
    "    Not available\n",
    "    \n",
    "    Example 2\n",
    "    Is Bulotelli injured?(y/n) n\n",
    "    Is Bulotelli late for the training?(y/n) y\n",
    "    Did Bulotelli perform well in training?(y/n) n\n",
    "    Not selected"
   ]
  },
  {
   "cell_type": "code",
   "execution_count": null,
   "id": "eada81f1",
   "metadata": {},
   "outputs": [],
   "source": [
    "def will_bulotelli_play():\n",
    "    is_injured = input(\"Is Bulotelli injured?(y/n) \")\n",
    "    \n",
    "    if is_injured.lower() == 'y':\n",
    "        print(\"Not available\")\n",
    "    elif is_injured.lower() == 'n':\n",
    "        is_late_for_training = input(\"Is Bulotelli late for the training?(y/n) \")\n",
    "        if is_late_for_training.lower() == 'y':\n",
    "            perform_well_in_training = input(\"Did Bulotelli perform well in training?(y/n) \")\n",
    "            if perform_well_in_training.lower() == 'y':\n",
    "                print(\"Substitute\")\n",
    "            elif perform_well_in_training.lower() == 'n':\n",
    "                print(\"Not selected\")\n",
    "        elif is_late_for_training.lower() == 'n':\n",
    "            print(\"Starter\")\n",
    "        else:\n",
    "            print(\"Invalid input. Please enter 'y' or 'n' for all questions.\")\n",
    "\n",
    "if __name__ == \"__main__\":\n",
    "    will_bulotelli_play()\n"
   ]
  },
  {
   "cell_type": "markdown",
   "id": "46548543",
   "metadata": {},
   "source": [
    "Electric Appliance Store\n",
    "ร้านขายเครื่องใช้ไฟฟ้าแห่งหนึ่ง นำเครื่องใช้ไฟฟ้าสามชนิดมาลดราคา ได้แก่ โทรทัศน์ (TV) เครื่องเล่นดีวีดี (DVD player) และเครื่องเสียง (Audio System) โดยสินค้าแต่ละชนิดจะมีราคาแตกต่างกันดังตารางนี้\n",
    "\n",
    "       Product\tPrice per unit (bahts)\n",
    "    TV\t6000\n",
    "    DVD player\t1500\n",
    "    Audio System\t3000\n",
    "    ร้านค้ามอบส่วนลดพิเศษ 20% ให้กับลูกค้าที่มียอดซื้อ (price) อย่างน้อย 24,000 บาท\n",
    "\n",
    "เขียนโปรแกรมเพื่อรับจำนวนสินค้าแต่ละชนิดที่ลูกค้าจะซื้อ (เป็นจำนวนเต็มบวกหรือศูนย์) แล้วคำนวณยอดซื้อ และแสดง 1. ยอดซื้อรวม (total price) 2. ส่วนลด (discount) ถ้ามี และ 3. ราคาที่ต้องชำระ (payment) ดังตัวอย่าง โดยราคาให้แสดงด้วยทศนิยม 2 ตำแหน่ง\n",
    "\n",
    "Example 1\n",
    "\n",
    "    How many TVs? 1\n",
    "    How many DVD players? 0\n",
    "    How many Audio Systems? 1\n",
    "    Total price is 9000.00 baht.\n",
    "    Your payment is 9000.00 baht. Thank you!\n",
    "    \n",
    "    \n",
    "    How many TVs? 5\n",
    "    How many DVD players? 4\n",
    "    How many Audio Systems? 3\n",
    "    Total price is 45000.00 baht.\n",
    "    You've got a discount of 9000.00 baht.\n",
    "    Your payment is 36000.00 baht. Thank you!\n"
   ]
  },
  {
   "cell_type": "code",
   "execution_count": 27,
   "id": "6c158f93",
   "metadata": {},
   "outputs": [
    {
     "name": "stdout",
     "output_type": "stream",
     "text": [
      "How many TVs? 5\n",
      "How many DVD players? 4\n",
      "How many Audio Systems? 3\n",
      "Total price is 45000.00 baht.\n",
      "You've got a discount of 9000.00 baht.\n",
      "Your payment is 36000.00 baht. Thank you!\n"
     ]
    }
   ],
   "source": [
    "def calculate_total_price(tv_qty, dvd_qty, audio_qty):\n",
    "    tv_price = 6000  # ราคาทีวีต่อชิ้น\n",
    "    dvd_price = 1500  # ราคาเครื่องเล่น DVD ต่อชิ้น\n",
    "    audio_price = 3000  # ราคาเครื่องเสียงต่อชิ้น\n",
    "    \n",
    "    total_price = (tv_qty * tv_price) + (dvd_qty * dvd_price) + (audio_qty * audio_price)\n",
    "    return total_price\n",
    "\n",
    "def calculate_discount(total_price):\n",
    "    if total_price >= 24000:\n",
    "        discount = total_price * 0.2\n",
    "        return discount\n",
    "    else:\n",
    "        return 0\n",
    "def calculate_payment(total_price, discount):\n",
    "    return total_price - discount\n",
    "# รับจำนวนสินค้าแต่ละชนิดจากผู้ใช้\n",
    "tv_qty = int(input(\"How many TVs? \"))\n",
    "dvd_qty = int(input(\"How many DVD players? \"))\n",
    "audio_qty = int(input(\"How many Audio Systems? \"))\n",
    "\n",
    "# เรียกใช้งานฟังก์ชันเพื่อคำนวณยอดซื้อ ส่วนลด และราคาที่ต้องชำระ\n",
    "total_price = calculate_total_price(tv_qty, dvd_qty, audio_qty)\n",
    "discount = calculate_discount(total_price)\n",
    "payment = calculate_payment(total_price, discount)\n",
    "# แสดงผลลัพธ์\n",
    "print(\"Total price is {:.2f} baht.\".format(total_price))\n",
    "if discount > 0:\n",
    "    print(\"You've got a discount of {:.2f} baht.\".format(discount))\n",
    "    \n",
    "print(\"Your payment is {:.2f} baht. Thank you!\".format(payment))"
   ]
  },
  {
   "cell_type": "code",
   "execution_count": null,
   "id": "45d63903",
   "metadata": {},
   "outputs": [],
   "source": [
    "def calculate_total_price(tv_qty, dvd_qty, audio_qty):\n",
    "    tv_price = 6000\n",
    "    dvd_price = 1500\n",
    "    audio_price = 3000\n",
    "\n",
    "    total_price = (tv_qty * tv_price) + (dvd_qty * dvd_price) + (audio_qty * audio_price)\n",
    "    discount = 0\n",
    "    payment = total_price\n",
    "\n",
    "    if total_price >= 24000:\n",
    "        discount = float(total_price * 0.2)\n",
    "        payment = total_price - discount\n",
    "\n",
    "    return total_price, discount, payment\n",
    "\n",
    "tv_qty = int(input(\"How many TVs? \"))\n",
    "dvd_qty = int(input(\"How many DVD players? \"))\n",
    "audio_qty = int(input(\"How many Audio Systems? \"))\n",
    "\n",
    "total_price, discount, payment = calculate_total_price(tv_qty, dvd_qty, audio_qty)\n",
    "print(f\"Total price is {total_price:.2f} baht.\")\n",
    "if discount > 0:\n",
    "    print(f\"Your've got a discount of {discount:.2f} baht.\")\n",
    "print(f\"Your payment is {payment:.2f} baht. Thank you!\")"
   ]
  },
  {
   "cell_type": "markdown",
   "id": "fded9008",
   "metadata": {},
   "source": [
    "Buffet\n",
    "Write a program to help the buffet restaurant calculate the price for a customer.\n",
    "\n",
    "The price for Japanese buffet is 1000 Baht, and the price for Korean buffet is 1500 Baht. If today is Wednesday, he will receive 15% discount.\n",
    "\n",
    "    Example 1\n",
    "    Enter your buffet choice: Korean\n",
    "    Is today Wednesday (yes/no)? no\n",
    "    Your payment is 1500.00 Baht.\n",
    "\n",
    "    Example 2\n",
    "    Enter your buffet choice: Japanese\n",
    "    Is today Wednesday (yes/no)? yes\n",
    "    Your payment is 850.00 Baht.\n",
    "\n",
    "    Example 3\n",
    "    Enter your buffet choice: Thai\n",
    "    Sorry, there is no Thai buffet"
   ]
  },
  {
   "cell_type": "code",
   "execution_count": 24,
   "id": "269b11df",
   "metadata": {},
   "outputs": [
    {
     "name": "stdout",
     "output_type": "stream",
     "text": [
      "Enter your buffet choice: korean\n",
      "Is today Wednesday (yes/no)? yes\n"
     ]
    }
   ],
   "source": [
    "def calculate_price(buffet_choice, is_wednesday):\n",
    "    if buffet_choice == \"Japanese\":\n",
    "        price = 1000\n",
    "    elif buffet_choice == \"Korean\":\n",
    "        price = 1500\n",
    "    else:\n",
    "        print(\"Sorry, there is no\", buffet_choice, \"buffet.\")\n",
    "        return\n",
    "\n",
    "    if is_wednesday == \"yes\":\n",
    "        price *= 0.85\n",
    "\n",
    "    print(\"Your payment is {:.2f} Baht.\".format(price))\n",
    "\n",
    "buffet_choice = input(\"Enter your buffet choice: \")\n",
    "if (buffet_choice == \"Japanese\" or buffet_choice == \"Korean\"):\n",
    "    is_wednesday = input(\"Is today Wednesday (yes/no)? \").lower()\n",
    "else:\n",
    "    is_wednesday = \"no\"\n",
    "calculate_price(buffet_choice, is_wednesday)"
   ]
  },
  {
   "cell_type": "code",
   "execution_count": 26,
   "id": "81df324e",
   "metadata": {},
   "outputs": [
    {
     "name": "stdout",
     "output_type": "stream",
     "text": [
      "Enter your buffet choice: korean\n",
      "Is today Wednesday (yes/no)? no\n",
      "Your payment is 1500.00 Baht.\n"
     ]
    }
   ],
   "source": [
    "def calculate_price(buffet_choice, is_wednesday):\n",
    "    japanese_price = 1000\n",
    "    korean_price = 1500\n",
    "\n",
    "    if buffet_choice.lower() == 'japanese':\n",
    "        price = japanese_price\n",
    "    elif buffet_choice.lower() == 'korean':\n",
    "        price = korean_price\n",
    "    else:\n",
    "        print(\"Sorry, there is no\", buffet_choice, \"buffet\")\n",
    "        return\n",
    "\n",
    "    if is_wednesday.lower() == 'yes':\n",
    "        price *= 0.85\n",
    "\n",
    "    print(\"Your payment is {:.2f} Baht.\".format(price))\n",
    "\n",
    "buffet_choice = input(\"Enter your buffet choice: \")\n",
    "is_wednesday = input(\"Is today Wednesday (yes/no)? \")\n",
    "\n",
    "calculate_price(buffet_choice, is_wednesday)\n"
   ]
  },
  {
   "cell_type": "markdown",
   "id": "a55ea474",
   "metadata": {},
   "source": [
    "ปีอธิกสุรทิน (leap year)\n",
    "จงเขียนโปรแกรมเพื่อรับค่าปีคริสตศักราชแล้วแสดงผลว่าปีดังกล่าวเป็นปีอธิกสุรทินหรือไม่ โดยปีอธิกสุรทินหมายถึง\n",
    "\n",
    "    ปีที่หารด้วย 4 ลงตัว ยกเว้นเฉพาะปีที่หารด้วย 100 ลงตัวด้วย\n",
    "    ปีที่หารด้วย 400 ลงตัว\n",
    "    ถ้าข้อมูลเข้าผิดพลาด (ค่าน้อยกว่า 1) ให้พิมพ์คำว่า \"Invalid year.\"\n",
    "\n",
    "    ตัวอย่าง Input/Output 1\n",
    "    Enter year: 1900\n",
    "    1900 is not a leap year."
   ]
  },
  {
   "cell_type": "code",
   "execution_count": 37,
   "id": "0c37219c",
   "metadata": {},
   "outputs": [
    {
     "name": "stdout",
     "output_type": "stream",
     "text": [
      "Enter year: 0\n"
     ]
    }
   ],
   "source": [
    "def is_leap_year(year):\n",
    "    if year < 1:\n",
    "        print(\"Invalid year\")\n",
    "    \n",
    "    if year % 4 == 0:\n",
    "        if (year % 4 == 0 and year % 100 != 0)or year % 400 == 0:\n",
    "            print(f\"{year} is a leap year.\")\n",
    "            return True\n",
    "        else:\n",
    "            print(f\"{year} is not a leap year.\")\n",
    "    return False\n",
    "# รับปีจากผู้ใช้\n",
    "year = int(input(\"Enter year: \"))\n",
    "print"
   ]
  },
  {
   "cell_type": "code",
   "execution_count": 39,
   "id": "14c61242",
   "metadata": {},
   "outputs": [
    {
     "name": "stdout",
     "output_type": "stream",
     "text": [
      "Enter year: 0\n",
      "Invalid year.\n"
     ]
    }
   ],
   "source": [
    "def is_leap_year(year):\n",
    "    if (year % 4 == 0 and year % 100 != 0) or year % 400 == 0:\n",
    "        return True\n",
    "    else:\n",
    "        return False\n",
    "\n",
    "def main():\n",
    "    year = int(input(\"Enter year: \"))\n",
    "    \n",
    "    if year < 1:\n",
    "        print(\"Invalid year.\")\n",
    "    elif is_leap_year(year):\n",
    "        print(f\"{year} is a leap year.\")\n",
    "    else:\n",
    "        print(f\"{year} is not a leap year.\")\n",
    "\n",
    "if __name__ == \"__main__\":\n",
    "    main()\n"
   ]
  },
  {
   "cell_type": "markdown",
   "id": "bdec41e7",
   "metadata": {},
   "source": [
    "Guessing 2\n",
    "จงเขียนโปรแกรมสำหรับเล่นเกมทายตัวเลข โดยกำหนดให้โปรแกรมสร้างเลขเป้าหมาย (target) คือค่า 72 แล้วรับตัวเลขจากผู้เล่นที่ทายเข้ามา\n",
    "โดยให้เพิ่มการเปรียบเทียบเพื่อบอกผลการทายตัวเลขในกรณีที่ทายไม่ถูกเป็น 3 กรณี คือ มากกว่าค่าเป้าหมาย (too high), น้อยกว่าค่าเป้าหมาย (too low) และเท่ากับค่าเป้าหมาย\n",
    "\n",
    "    โปรแกรมที่เขียนต้องเทียบค่ากับตัวแปร target และไม่เปลี่ยนค่าของตัวแปร target\n",
    "\n",
    "    ตัวอย่าง Input/Output 1\n",
    "    Enter your guess (0 - 100): 45\n",
    "    Sorry, your guess is too low, try again later.\n",
    "    ตัวอย่าง Input/Output 2\n",
    "    Enter your guess (0 - 100): 99\n",
    "    Sorry, your guess is too high, try again later.\n",
    "    ตัวอย่าง Input/Output 3\n",
    "    Enter your guess (0 - 100): 72\n",
    "    Congratulations, your guess is correct.\n",
    "    ตัวอย่าง Input/Output 4\n",
    "    Enter your guess (0 - 100): -5\n",
    "    Sorry, out of range, try again later.\n",
    "\n"
   ]
  },
  {
   "cell_type": "code",
   "execution_count": null,
   "id": "5367f546",
   "metadata": {},
   "outputs": [],
   "source": [
    "target = 72\n",
    "\n",
    "def play_guessing_game():\n",
    "    guess = int(input(\"Enter your guess (0 - 100): \"))\n",
    "\n",
    "    if guess < 0 or guess > 100:\n",
    "        print(\"Sorry, out of range, try again later.\")\n",
    "        return\n",
    "\n",
    "    if guess < target:\n",
    "        print(\"Sorry, your guess is too low, try again later.\")\n",
    "    elif guess > target:\n",
    "        print(\"Sorry, your guess is too high, try again later.\")\n",
    "    else:\n",
    "        print(\"Congratulations, your guess is correct.\")\n",
    "\n",
    "play_guessing_game()"
   ]
  },
  {
   "cell_type": "markdown",
   "id": "cb8b1ae1",
   "metadata": {},
   "source": [
    "มาตรการเงินโอน แก้จน คนขยัน\n",
    "Negative Income Tax หรือ NIT เป็นแนวทางหนึ่งที่นักวิชาการเสนอเพื่อลดความเหลื่อมล้ำในการกระจายรายได้ ที่มักเป็นปัญหาที่แต่ละประเทศต้องประสบเมื่อเศรษฐกิจโตขึ้น โดยแทนที่รัฐบาลจะเก็บภาษีจากประชาชน NIT จะเป็นการให้เงินกับประชาชน NIT จัดเป็นการช่วยเหลือคนจนของรัฐบาลในรูปแบบของการโอนเงินให้แก่บุคคลที่มีรายได้ต่ำกว่าเกณฑ์ โดยใช้การวัดระดับรายได้เป็นเครื่องมือในการระบุผู้ที่ควรจะได้รับสิทธิ สำนักงานเศรษฐกิจการคลังได้เสนอแนวทางการดำเนินการเบื้องต้น ดังนี้\n",
    "\n",
    "ผู้รับสิทธิ NIT ต้องเป็นคนไทยอายุตั้งแต่ 15-60 ปี ที่กําลังทํางานอยู่ โดยไม่กําหนดสายอาชีพ และมีรายได้สุทธิ (net income) ตั้งแต่ 1 – 79,999 บาทต่อปี\n",
    "\n",
    "โดยรายได้ตั้งแต่ 1 – 30,000 บาทต่อปี จะได้เงินโอนภาษีจากรัฐ 20% ของรายได้สุทธิ \n",
    "แต่หากรายได้มากกว่า 30,000 บาทต่อปี ก็จะได้รับโอนเงินภาษีลดลง 12% ของส่วนที่เกิน 30,000 บาท (20% ของ 30,000 ลบด้วย 12% ของส่วนเกิน) ไปจนถึงรายได้ 79,999 บาท\n",
    "\n",
    "ส่วนที่มีรายได้ 80,000 บาทขึ้นไป จะไม่ได้รับเงินโอนภาษีจากรัฐ เพราะถือว่ามีรายได้ที่มากพอแล้ว เทียบเคียงกับการได้รับค่าแรงขั้นต่ำ 300 บาทต่อวัน\n",
    "\n",
    "\n",
    "จงเขียนโปรแกรมเพื่อรับอายุ และรายได้สุทธิของคนไทย เพื่อสร้างและเรียกใช้ฟังก์ชันเพื่อคำนวนหาจำนวนเงินที่รัฐจะต้องจ่ายคืนให้ตามมาตรการ NIT ข้างต้น\n",
    "\n",
    "หมายเหตุ ให้แสดงข้อความ \"Invalid age.\" หรือ \"Invalid income.\" เมื่ออายุหรือเงินได้สุทธิไม่ถูกต้อง หรือไม่อยู่ในช่วงที่จะมีสิทธิได้รับ NIT\n",
    "\n",
    "ที่มาข้อมูล:\n",
    "\n",
    "http://www.moneyandbanking.co.th/analysis.php?isb=isb007&newsID=8199 เข้าถึงเมื่อ 21 ก.ย. 2557\n",
    "http://www.naewna.com/business/115996 เข้าถึงเมื่อ 21 ก.ย. 2557\n",
    "    \n",
    "        ตัวอย่าง Input/Output 1\n",
    "        Enter your age: 34\n",
    "        Enter your net income: 28500\n",
    "        Your negative income tax is 5700.00 Baht.\n",
    "        ตัวอย่าง Input/Output 2\n",
    "        Enter your age: 42\n",
    "        Enter your net income: 79999\n",
    "        Your negative income tax is 0.12 Baht.\n",
    "        ตัวอย่าง Input/Output 3\n",
    "        Enter your age: 54\n",
    "        Enter your net income: 35000\n",
    "        Your negative income tax is 5400.00 Baht.\n",
    "        ตัวอย่าง Input/Output 4\n",
    "        Enter your age: 44\n",
    "        Enter your net income: 30050\n",
    "        Your negative income tax is 5994.00 Baht.\n",
    "        ตัวอย่าง Input/Output 5\n",
    "        Enter your age: 12\n",
    "        Enter your net income: 80000\n",
    "        Invalid age."
   ]
  },
  {
   "cell_type": "code",
   "execution_count": 42,
   "id": "eddf2fd8",
   "metadata": {},
   "outputs": [
    {
     "name": "stdout",
     "output_type": "stream",
     "text": [
      "Enter your age: 12\n",
      "Enter your net income: 80000\n",
      "Invalid age.\n"
     ]
    }
   ],
   "source": [
    "def calculate_nit(age, net_income):\n",
    "    if age < 15 or age > 60:\n",
    "        return \"Invalid age.\"\n",
    "    \n",
    "    if net_income < 1 or net_income > 79999:\n",
    "        return \"Invalid income.\"\n",
    "    \n",
    "    if net_income <= 30000:\n",
    "        nit_amount = 0.2 * net_income\n",
    "    else:\n",
    "        nit_amount = 0.2 * 30000 + 0.12 * (net_income - 30000)    \n",
    "    return nit_amount\n",
    "\n",
    "# Input from the user\n",
    "age = int(input(\"Enter your age: \"))\n",
    "net_income = float(input(\"Enter your net income: \"))\n",
    "\n",
    "# Calculate and display the NIT amount\n",
    "nit_amount = calculate_nit(age, net_income)\n",
    "if isinstance(nit_amount, str):\n",
    "    print(nit_amount)\n",
    "else:\n",
    "    print(f\"Your negative income tax is {nit_amount:.2f} Baht.\")"
   ]
  },
  {
   "cell_type": "code",
   "execution_count": null,
   "id": "3983ada4",
   "metadata": {},
   "outputs": [],
   "source": []
  }
 ],
 "metadata": {
  "kernelspec": {
   "display_name": "Python 3 (ipykernel)",
   "language": "python",
   "name": "python3"
  },
  "language_info": {
   "codemirror_mode": {
    "name": "ipython",
    "version": 3
   },
   "file_extension": ".py",
   "mimetype": "text/x-python",
   "name": "python",
   "nbconvert_exporter": "python",
   "pygments_lexer": "ipython3",
   "version": "3.10.11"
  }
 },
 "nbformat": 4,
 "nbformat_minor": 5
}
