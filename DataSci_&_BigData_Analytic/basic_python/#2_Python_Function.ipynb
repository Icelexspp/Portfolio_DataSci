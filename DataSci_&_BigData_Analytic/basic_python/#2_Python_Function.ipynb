{
 "cells": [
  {
   "cell_type": "code",
   "execution_count": 1,
   "id": "73fa033f",
   "metadata": {},
   "outputs": [],
   "source": [
    "from turtle import *"
   ]
  },
  {
   "cell_type": "markdown",
   "id": "31c62870",
   "metadata": {},
   "source": [
    "Ex คำนวณพื้นที่สามเหลี่ยม"
   ]
  },
  {
   "cell_type": "markdown",
   "id": "8b058e55",
   "metadata": {},
   "source": [
    "Logic : \n",
    "1. ถามความยาวฐานผู้ใช้\n",
    "2. ถามความสูงจากผู้ใช้\n",
    "3. คำนวณพื้นที่\n",
    "4. แสดงพื้นที่"
   ]
  },
  {
   "cell_type": "code",
   "execution_count": 2,
   "id": "037891ec",
   "metadata": {},
   "outputs": [
    {
     "name": "stdout",
     "output_type": "stream",
     "text": [
      "Ener base: 4\n",
      "Enter height: 4\n",
      "Triangle area is 8.0\n"
     ]
    }
   ],
   "source": [
    "def read_base():\n",
    "    b = input(\"Ener base: \")\n",
    "    return int(b)\n",
    "def read_height():\n",
    "    h = input(\"Enter height: \")\n",
    "    return int(h)\n",
    "def compute_area(base,height):\n",
    "    return 0.5*base*height\n",
    "def show_area(area):\n",
    "    print(\"Triangle area is\", area)\n",
    "\n",
    "b = read_base()\n",
    "h = read_height()\n",
    "a = compute_area(b,h)\n",
    "show_area(a)\n"
   ]
  },
  {
   "cell_type": "markdown",
   "id": "d9af8c9a",
   "metadata": {},
   "source": [
    "Ex สอนเต่าสร้างบ้าน"
   ]
  },
  {
   "cell_type": "code",
   "execution_count": 3,
   "id": "507aaf07",
   "metadata": {},
   "outputs": [],
   "source": [
    "#pre-condition : ก่อนรันฟังก์ชั่น โปรแกรมต้องเป็นไปตามข้อกำหนดนี้ ฟังก์ชั่นจึงจะรันได้ถูกต้อง \n",
    "#post-condition : function ต้องการรันตีว่า เมื่อรันฟังก์ชั่นนี้แล้วจะตรงกับข้อกำหนดใน post condition\n",
    "#สร้างกำแพง\n",
    "#pre-condition : turtle จะหันขวา 180\n",
    "#pre-condition : turtle จะหันขวา 180 หลังจากทำงานแล้วลูกศรจะหันมาอยู่ในทิศทางเดิมเสมอ\n",
    "def build_walls(turtle,size):\n",
    "    turtle.forward(size)\n",
    "    turtle.right(90)\n",
    "    turtle.forward(size)\n",
    "    turtle.right(90)\n",
    "    turtle.forward(size)\n",
    "    turtle.right(90)\n",
    "    turtle.forward(size)\n",
    "    turtle.right(90)    \n",
    "#สร้างหลังคา\n",
    "def build_roof(turtle,size):\n",
    "    turtle.left(60)\n",
    "    turtle.forward(size)\n",
    "    turtle.right(120)\n",
    "    turtle.forward(size)\n",
    "    turtle.right(120)\n",
    "    turtle.forward(size)\n",
    "    turtle.right(180)\n",
    "    \n",
    "#การรวมระหว่างกำแพงและหลังคา\n",
    "def build_house(turtle,size):\n",
    "    build_walls(turtle,size)\n",
    "    build_roof(turtle,size)\n",
    "    \n",
    "t = Turtle() # ต้องimport lib เข้ามาก่อน\n",
    "build_house(t,300)"
   ]
  },
  {
   "cell_type": "code",
   "execution_count": 4,
   "id": "7d80c12c",
   "metadata": {},
   "outputs": [],
   "source": [
    "#Pre-condition : Y != 0 \n",
    "def divide(x,y):\n",
    "    return x/y"
   ]
  },
  {
   "cell_type": "code",
   "execution_count": 5,
   "id": "a9d489b2",
   "metadata": {},
   "outputs": [],
   "source": [
    "#Pre-condition คือ การจะรัน data เป็นแบบไหนถึงจะสามารถรันได้ถูกต้อง ในที่นี้คือ x ต้องเป็น int หรือ float\n",
    "#Post-condition คือ ผลการรันเป็น 0 หรือ positive เสมอ\n",
    "def absolute(x):\n",
    "    return abs(x)"
   ]
  },
  {
   "cell_type": "markdown",
   "id": "068bfe6f",
   "metadata": {},
   "source": [
    "### Format"
   ]
  },
  {
   "cell_type": "code",
   "execution_count": 6,
   "id": "042c6bf1",
   "metadata": {},
   "outputs": [
    {
     "name": "stdout",
     "output_type": "stream",
     "text": [
      "total price is 8.30 bahts.\n"
     ]
    }
   ],
   "source": [
    "x = 8.3\n",
    "print(\"total price is %.2f bahts.\"%x)"
   ]
  },
  {
   "cell_type": "code",
   "execution_count": 7,
   "id": "6301d3d5",
   "metadata": {},
   "outputs": [
    {
     "name": "stdout",
     "output_type": "stream",
     "text": [
      "total price is 8.39 bahts.\n"
     ]
    }
   ],
   "source": [
    "x = 8.39392030\n",
    "print(\"total price is %.2f bahts.\"%x)"
   ]
  },
  {
   "cell_type": "markdown",
   "id": "dc95a11a",
   "metadata": {},
   "source": [
    "### ขอบเขตตัวแปร \n",
    "    - Local variable\n",
    "    - Global bariable\n",
    "    \n",
    "ควรระวัง หลีกเลี่ยงการเขียนตัวแปรใน global ภายในฟังก์ชั่นทำให้ไล่การทำงานยาก"
   ]
  },
  {
   "cell_type": "code",
   "execution_count": 8,
   "id": "5e9d47f9",
   "metadata": {},
   "outputs": [
    {
     "name": "stdout",
     "output_type": "stream",
     "text": [
      "8 3\n"
     ]
    }
   ],
   "source": [
    "x = 8\n",
    "y = 3\n",
    "def myfunc():\n",
    "    y = 5 # การกำหนดตัวแปรใน local\n",
    "    a = x # ใน local ไม่มีการกำนหดให้เอา global มา\n",
    "myfunc() #y=5 จะสิ้นสุดในบรรทัดนี้\n",
    "print(x,y) #y นี้เป็น y ของ global"
   ]
  },
  {
   "cell_type": "code",
   "execution_count": 9,
   "id": "bf52c7f3",
   "metadata": {},
   "outputs": [
    {
     "name": "stdout",
     "output_type": "stream",
     "text": [
      "8\n"
     ]
    }
   ],
   "source": [
    "x = 8\n",
    "#นิยาม func\n",
    "def myfunc():\n",
    "    print(x)\n",
    "#call func\n",
    "myfunc()"
   ]
  },
  {
   "cell_type": "code",
   "execution_count": 10,
   "id": "d2a3bed1",
   "metadata": {},
   "outputs": [
    {
     "ename": "UnboundLocalError",
     "evalue": "local variable 'x' referenced before assignment",
     "output_type": "error",
     "traceback": [
      "\u001b[0;31m---------------------------------------------------------------------------\u001b[0m",
      "\u001b[0;31mUnboundLocalError\u001b[0m                         Traceback (most recent call last)",
      "Cell \u001b[0;32mIn[10], line 7\u001b[0m\n\u001b[1;32m      5\u001b[0m     x\u001b[38;5;241m=\u001b[39m\u001b[38;5;241m3\u001b[39m  \u001b[38;5;66;03m#!!!! เมื่อใน local มีการประกาศตัวแปรจะต้องเอาค่าใน local มาใช้แต่ประกาศหลังคำสั่ง ทำให้เกิดการ error\u001b[39;00m\n\u001b[1;32m      6\u001b[0m \u001b[38;5;66;03m#call func\u001b[39;00m\n\u001b[0;32m----> 7\u001b[0m \u001b[43mmyfunc\u001b[49m\u001b[43m(\u001b[49m\u001b[43m)\u001b[49m\n",
      "Cell \u001b[0;32mIn[10], line 4\u001b[0m, in \u001b[0;36mmyfunc\u001b[0;34m()\u001b[0m\n\u001b[1;32m      3\u001b[0m \u001b[38;5;28;01mdef\u001b[39;00m \u001b[38;5;21mmyfunc\u001b[39m():\n\u001b[0;32m----> 4\u001b[0m     \u001b[38;5;28mprint\u001b[39m(\u001b[43mx\u001b[49m)\n\u001b[1;32m      5\u001b[0m     x\u001b[38;5;241m=\u001b[39m\u001b[38;5;241m3\u001b[39m\n",
      "\u001b[0;31mUnboundLocalError\u001b[0m: local variable 'x' referenced before assignment"
     ]
    }
   ],
   "source": [
    "x = 8\n",
    "#นิยาม func\n",
    "def myfunc():\n",
    "    print(x)\n",
    "    x=3  #!!!! เมื่อใน local มีการประกาศตัวแปรจะต้องเอาค่าใน local มาใช้แต่ประกาศหลังคำสั่ง ทำให้เกิดการ error\n",
    "#call func\n",
    "myfunc()"
   ]
  },
  {
   "cell_type": "code",
   "execution_count": null,
   "id": "0f16d2e9",
   "metadata": {},
   "outputs": [],
   "source": [
    "x = 8\n",
    "y = 3\n",
    "def myfunc():\n",
    "    global y #กำหนด y ใน local ให้กลายเป็น y gobal\n",
    "    y = 5 # การกำหนดตัวแปรใน local\n",
    "    a = x # ใน local ไม่มีการกำนหดให้เอา global มา\n",
    "myfunc() #y=5 จะสิ้นสุดในบรรทัดนี้\n",
    "print(x,y) #ทำให้ y = 5 : y นี้เป็น y ของ global"
   ]
  },
  {
   "cell_type": "code",
   "execution_count": null,
   "id": "f425e08a",
   "metadata": {},
   "outputs": [],
   "source": [
    "import math \n",
    "print(math.pi)"
   ]
  },
  {
   "cell_type": "code",
   "execution_count": null,
   "id": "1b446f53",
   "metadata": {},
   "outputs": [],
   "source": [
    "x = 2*math.pi\n",
    "print(x)"
   ]
  },
  {
   "cell_type": "code",
   "execution_count": null,
   "id": "caa77070",
   "metadata": {},
   "outputs": [],
   "source": [
    "from math import *\n",
    "pi"
   ]
  },
  {
   "cell_type": "markdown",
   "id": "ee3145c4",
   "metadata": {},
   "source": [
    "int : จะปัดเศษออกไป\n",
    "\n",
    "round : การปัดที่เศษตัวนั้นใกล้อะไร\n",
    "\n",
    "ceil : การปัดขึ้นเสมอ\n",
    "\n",
    "floor : การปัดลงเสมอ\n",
    "\n",
    "การหาร\n",
    "- / หารออกมาจะได้ float\n",
    "- // หารออกมาจะได้ int"
   ]
  },
  {
   "cell_type": "code",
   "execution_count": null,
   "id": "802adc6c",
   "metadata": {},
   "outputs": [],
   "source": [
    "a = 2.1\n",
    "math.ceil(a)"
   ]
  },
  {
   "cell_type": "code",
   "execution_count": null,
   "id": "1e95d27f",
   "metadata": {},
   "outputs": [],
   "source": [
    "def mydata():\n",
    "    a=1\n",
    "    b=2\n",
    "    c=3\n",
    "    return a,b,c\n",
    "x,y,z = mydata()\n",
    "print(x,y,z)"
   ]
  },
  {
   "cell_type": "code",
   "execution_count": null,
   "id": "045e70da",
   "metadata": {},
   "outputs": [],
   "source": []
  },
  {
   "cell_type": "markdown",
   "id": "353f7cb4",
   "metadata": {},
   "source": [
    "# Exersice in ELAB "
   ]
  },
  {
   "cell_type": "markdown",
   "id": "6581d4b8",
   "metadata": {},
   "source": [
    "1.สามารถหาปริมาตรทรงกระบอกได้จากสูตร\n",
    "V = π⋅r2⋅h"
   ]
  },
  {
   "cell_type": "code",
   "execution_count": 11,
   "id": "f6de036b",
   "metadata": {},
   "outputs": [
    {
     "name": "stdout",
     "output_type": "stream",
     "text": [
      "radius = 3\n",
      "height = 3\n",
      "Volume = 84.82\n"
     ]
    }
   ],
   "source": [
    "import math\n",
    "\n",
    "def find_volume(h,r):\n",
    "    return math.pi*(r**2)*h\n",
    "r = float(input(\"radius = \"))\n",
    "h = float(input(\"height = \"))\n",
    "V = find_volume(h,r)\n",
    "\n",
    "print(\"Volume = %.2f\" %V)\n"
   ]
  },
  {
   "cell_type": "markdown",
   "id": "0a7ffbc4",
   "metadata": {},
   "source": [
    "2.Write a function poly that gets an argument x and calculates\n",
    "5⋅x2−121⋅x+7"
   ]
  },
  {
   "cell_type": "code",
   "execution_count": 12,
   "id": "9df6d1ea",
   "metadata": {},
   "outputs": [
    {
     "name": "stdout",
     "output_type": "stream",
     "text": [
      "3\n",
      "-311\n"
     ]
    }
   ],
   "source": [
    "import math\n",
    "\n",
    "def poly(x):\n",
    "    return 5*(x**2)-121*x+7\n",
    "\n",
    "x = int(input())\n",
    "a = poly(x)\n",
    "print (a)"
   ]
  },
  {
   "cell_type": "markdown",
   "id": "ba700795",
   "metadata": {},
   "source": [
    "### 3.หาระยะห่าง ให้ a,t มา u = 0"
   ]
  },
  {
   "cell_type": "code",
   "execution_count": 13,
   "id": "22364084",
   "metadata": {},
   "outputs": [
    {
     "name": "stdout",
     "output_type": "stream",
     "text": [
      "Acceleration : 2\n",
      "Time : 3\n",
      "9.0\n"
     ]
    }
   ],
   "source": [
    "def distance(acceleration,time):\n",
    "    return 0.5*acceleration*(time**2)\n",
    "acceleration = int(input(\"Acceleration : \"))\n",
    "time = int(input(\"Time : \"))\n",
    "print(distance(acceleration,time))"
   ]
  },
  {
   "cell_type": "code",
   "execution_count": null,
   "id": "4ac65550",
   "metadata": {},
   "outputs": [],
   "source": []
  },
  {
   "cell_type": "code",
   "execution_count": null,
   "id": "3fce7b1e",
   "metadata": {},
   "outputs": [],
   "source": [
    "import math\n",
    "L=float(input(\"Please enter the value of L: \"))\n",
    "A= math.pi*(L/2)**2\n",
    "print(\"Area is %.4f\"%A)\n",
    "\n",
    "\n",
    "def MiniHeart(x):\n",
    "    x = math.pi*(L/2)**2 + (L*L)\n",
    "    return x\n",
    "\n"
   ]
  },
  {
   "cell_type": "code",
   "execution_count": null,
   "id": "b359c24b",
   "metadata": {},
   "outputs": [],
   "source": [
    "import math\n",
    "L=float(input(\"Please enter the value of L: \"))\n",
    "\n",
    "\n",
    "\n",
    "def MiniHeart(x):\n",
    "    area_heart = math.pi*(x/2)**2 + (x*x)\n",
    "    return area_heart\n",
    "\n",
    "\n",
    "print(\"Area is %.4f\"%MiniHeart(L))"
   ]
  },
  {
   "cell_type": "code",
   "execution_count": null,
   "id": "be7fe8e7",
   "metadata": {},
   "outputs": [],
   "source": [
    "import math\n",
    "L=float(input(\"Please enter the value of L: \"))\n",
    "\n",
    "def MiniHeart(x):\n",
    "    area_heart = math.pi*(x/2)**2 + (x*x)\n",
    "    return area_heart\n",
    "\n",
    "M = MiniHeart(L)\n",
    "print(\"Area is %.4f\"%M)"
   ]
  },
  {
   "cell_type": "code",
   "execution_count": null,
   "id": "2122570f",
   "metadata": {},
   "outputs": [],
   "source": [
    "sec = int(input(\"s:\"))\n",
    "\n",
    "def caltime(x):\n",
    "    h = x//3600\n",
    "    m = (x % 3600)//60\n",
    "    s = x%60\n",
    "    return (h,m,s)\n",
    "\n",
    "h,m,s = caltime(sec)\n",
    "print(sec,\"seconds equals\",h,\"hour(s)\",m,\"minute(s) and\",s,\"second(s)\")"
   ]
  },
  {
   "cell_type": "markdown",
   "id": "dfa950dc",
   "metadata": {},
   "source": [
    "## พ่อค้าเดินเรือ"
   ]
  },
  {
   "cell_type": "code",
   "execution_count": null,
   "id": "181aa223",
   "metadata": {},
   "outputs": [],
   "source": [
    "#(not necessary) declare global variable that will be use in subroutine\n",
    "price_a=0\n",
    "price_b=0\n",
    "price_c=0\n",
    "price_s=0\n",
    "weight_a=0\n",
    "weight_b=0\n",
    "weight_c=0\n",
    "distance_oa=0\n",
    "distance_ab=0\n",
    "distance_bc=0\n",
    "distance_co=0\n",
    "\n",
    "def read_input():\n",
    "    \"\"\"read input and store in global variable\"\"\"\n",
    "    # need to declare variables as global variables because we need to assign their values\n",
    "    global price_a, price_b, price_c, price_s,price_o\n",
    "    global weight_a, weight_b, weight_c, weight_o\n",
    "    global distance_oa, distance_ab, distance_bc, distance_co\n",
    "    weight_a = float(input(\"weight of cargo to A: \"))\n",
    "    weight_b = float(input(\"weight of cargo to B: \"))\n",
    "    weight_c = float(input(\"weight of cargo to C: \"))\n",
    "    weight_o = float(input(\"weight of cargo to O: \"))\n",
    "    price_a = float(input(\"price of cargo to A: \"))\n",
    "    price_b = float(input(\"price of cargo to B: \"))\n",
    "    price_c = float(input(\"price of cargo to C: \"))\n",
    "    price_o = float(input(\"price of cargo to O: \"))\n",
    "    price_s = float(input(\"price of supply: \"))\n",
    "    distance_oa = float(input(\"distance O to A: \"))\n",
    "    distance_ab = float(input(\"distance A to B: \"))\n",
    "    distance_bc = float(input(\"distance B to C: \"))\n",
    "    distance_co = float(input(\"distance C to O: \"))"
   ]
  },
  {
   "cell_type": "code",
   "execution_count": null,
   "id": "2ee323a9",
   "metadata": {},
   "outputs": [],
   "source": [
    "def travel_speed(w):\n",
    "    \"\"\"calculate traveling speed using a formular that is given in the problem\"\"\"\n",
    "    return 90/(30+w)+5\n",
    "\n",
    "from math import ceil\n",
    "\n",
    "def travel_time(s, d):\n",
    "    \"\"\"calculate total days to travel distance d using speed s.\n",
    "       A fraction of day is roundup to full day \"\"\"\n",
    "    hours = d/s\n",
    "    day = ceil(hours/24)\n",
    "    return day\n",
    "\n",
    "def cal_sub_profit(distance, net_weight, sell_weight, cargo_price_per_ton, supply_price_per_day):\n",
    "    \"\"\"calculate profit that is received when travel from a town to a next town\"\"\"\n",
    "    speed = travel_speed(net_weight)\n",
    "    cargo_price = sell_weight*cargo_price_per_ton\n",
    "    supply_price = travel_time(speed,distance)*supply_price_per_day\n",
    "    return cargo_price - supply_price"
   ]
  },
  {
   "cell_type": "code",
   "execution_count": null,
   "id": "393e1231",
   "metadata": {},
   "outputs": [],
   "source": [
    "def calculate_profit():\n",
    "    \"\"\"calculate and return result profit from input data\"\"\"\n",
    "    #step 1: from o to a\n",
    "    w_net = weight_a+weight_b+weight_c+weight_o\n",
    "    profit = cal_sub_profit(distance_oa,w_net,weight_a,price_a,price_s)\n",
    "    #step 2: from a to b\n",
    "    w_net = weight_b+weight_c+weight_o\n",
    "    profit = profit + cal_sub_profit(distance_ab,w_net,weight_b,price_b,price_s)\n",
    "    #step 3: from b to c\n",
    "    w_net = weight_c+weight_o\n",
    "    profit = profit + cal_sub_profit(distance_bc,w_net,weight_c,price_c,price_s)\n",
    "    #step 4: from c to 0\n",
    "    w_net = weight_o\n",
    "    profit = profit + cal_sub_profit(distance_co,w_net,weight_o,price_o,price_s)\n",
    "    return profit"
   ]
  },
  {
   "cell_type": "code",
   "execution_count": null,
   "id": "2d1cd70c",
   "metadata": {},
   "outputs": [],
   "source": [
    "#### main program\n",
    "read_input()\n",
    "profit = calculate_profit()\n",
    "print(\"result profit is %.3f\"%profit)"
   ]
  },
  {
   "cell_type": "markdown",
   "id": "1f1b9492",
   "metadata": {},
   "source": [
    "### เงินทอน "
   ]
  },
  {
   "cell_type": "code",
   "execution_count": 31,
   "id": "add26c92",
   "metadata": {},
   "outputs": [
    {
     "name": "stdout",
     "output_type": "stream",
     "text": [
      "Enter total money: 1218\n",
      "500: 2\n",
      "100: 2\n",
      " 20: 0\n",
      "  5: 3\n",
      "  1: 3\n"
     ]
    }
   ],
   "source": [
    "def change(money, left):\n",
    "    bills = money // left\n",
    "    return bills\n",
    "\n",
    "money = int(input(\"Enter total money: \"))\n",
    "\n",
    "b500 = change(money,500)\n",
    "left = money-b500*500\n",
    "\n",
    "b100 = change(left,100)\n",
    "left = left - b100*100\n",
    "b20 = change(left,20)\n",
    "left = left-b20*20\n",
    "\n",
    "b5 = change(left,5)\n",
    "left = left - b5*5\n",
    "b1 = left\n",
    "\n",
    "\n",
    "print(\"500: %d\" % b500)\n",
    "print(\"100: %d\" % b100)\n",
    "print(\" 20: %d\" % b20)\n",
    "print(\"  5: %d\" % b5)\n",
    "print(\"  1: %d\" % b1)"
   ]
  },
  {
   "cell_type": "markdown",
   "id": "557647e7",
   "metadata": {},
   "source": [
    "ดอกเบี้ย\n",
    "- simple_interest(p,r,t)\n",
    "เดิม : ดอกเบี้ย = เงินต้น x อัตราดอกเบี้ย x ระยะเวลากู้ยืม\n",
    "ให้ใช้เป็น : ดอกเบี้ย = เงินต้น + (เงินต้น x อัตราดอกเบี้ย x ระยะเวลากู้ยืม"
   ]
  },
  {
   "cell_type": "markdown",
   "id": "44eaa162",
   "metadata": {},
   "source": [
    "ANS\n",
    "\n",
    "Enter principle: 25000\n",
    "\n",
    "Enter interest rate: 3.25\n",
    "\n",
    "Enter time: 6.5\n",
    "\n",
    "Return money for simple interest calculation is 30281.25 Baht.\n",
    "\n",
    "Return money for compound interest calculation is 30776.94 Baht.\n",
    "\n",
    "\n"
   ]
  },
  {
   "cell_type": "code",
   "execution_count": 32,
   "id": "a49a5407",
   "metadata": {},
   "outputs": [
    {
     "name": "stdout",
     "output_type": "stream",
     "text": [
      "Enter principle: 25000\n",
      "Enter interest rate: 3.25\n",
      "Enter time: 6.5\n",
      "Return money for simple interest calculation is 30281.25 Baht.\n",
      "Return money for compound interest calculation is 30776.94 Baht.\n"
     ]
    }
   ],
   "source": [
    "principle = int(input(\"Enter principle: \"))\n",
    "interest_rate = float(input(\"Enter interest rate: \"))\n",
    "time = float(input(\"Enter time: \"))\n",
    "\n",
    "def simple_interest(principle,interest_rate,time):\n",
    "    dok = principle +(principle*(interest_rate/100)*time)\n",
    "    return dok\n",
    "\n",
    "def compound_interest(principle,interest_rate,time):\n",
    "    total = principle*(1+(interest_rate/100))**time\n",
    "    return total\n",
    "\n",
    "print(\"Return money for simple interest calculation is %.2f Baht.\"%(simple_interest(principle,interest_rate,time)))\n",
    "print(\"Return money for compound interest calculation is %.2f Baht.\"%(compound_interest(principle,interest_rate,time)))"
   ]
  },
  {
   "cell_type": "markdown",
   "id": "fb76e1d9",
   "metadata": {},
   "source": [
    "จงเขียนโปรแกรมเพื่อรับค่าเวลาเริ่มต้น (start time) และเวลาสิ้นสุด (finish time) ซึ่งกำหนดให้เวลาของวันเดียวกันเพื่อคำนวณหาระยะเวลาระหว่างเวลาทั้งสอง โดยกำหนดให้สร้างฟังก์ชันต่อไปนี้\n",
    "\n",
    "- read_hour() เพื่อคืนค่าชั่วโมงในระบบ 24 ชั่วโมง (นั่นคือ ค่าที่เป็นไปได้มีค่าตั้งแต่ 0 ถึง 23)\n",
    "- read_minute() เพื่อคืนค่านาที (ค่าที่เป็นไปได้มีค่าตั้งแต่ 0 ถึง 59)\n",
    "- read_second() เพื่อคืนค่าวินาที (ค่าที่เป็นไปได้มีค่าตั้งแต่ 0 ถึง 59)\n",
    "- to_seconds(h, m, s) เพื่อคืนค่าจำนวนวินาทีทั้งหมดของเวลา h ชั่วโมง m นาที และ s วินาที\n",
    "- time_elapsed(start, finish) เพื่อคืนค่าระยะเวลานับจากวินาทีที่ start ถึงวินาทีที่ finish\n",
    "\n",
    "แนะนำ ถ้าเวลาเริ่มต้นและเวลาสิ้นสุดมีค่าเป็น 8:15:00 ถึง 13:20:00 ตามลำดับ ในการหาระยะเวลาระหว่างเวลาทั้งสอง เราสามารถทำได้โดยแปลงเวลาทั้งสองให้อยู่ในรูปของจำนวนวินาทีนับจากเวลา 00:00:00 แล้วหาผลต่างของค่าทั้งสอง"
   ]
  },
  {
   "cell_type": "markdown",
   "id": "9a8cfdf7",
   "metadata": {},
   "source": [
    "    -Enter a number (0 to 9999): 8143\n",
    "    -Digit place is 3.\n",
    "    -Tens place is 4.\n",
    "    -Hundreds place is 1.\n",
    "    -Thousands place is 8.\n",
    "    -Sum of all digits is 16."
   ]
  },
  {
   "cell_type": "code",
   "execution_count": 2,
   "id": "16221f7e",
   "metadata": {},
   "outputs": [
    {
     "name": "stdout",
     "output_type": "stream",
     "text": [
      "Enter a nubmber (0 to 9999): 8\n"
     ]
    }
   ],
   "source": [
    "def read_hour():\n",
    "    hour = int(input(\"Enter hour: \"))\n",
    "    return hour\n",
    "def read_minute():\n",
    "    minute = int(input(\"Enter minute: \"))\n",
    "    return minute\n",
    "def read_second():\n",
    "    second = int(input(\"Enter second: \"))\n",
    "    return second\n",
    "# Step 2 ฟังก์ชันคำนวณระยะห่างเวลา\n",
    "## แปลงเวลาทั้งสองให้อยู่ในรูปของจำนวนวินาที\n",
    "def to_seconds(h, m, s):\n",
    "    return h * 3600 + m * 60 + s\n",
    "def time_elapsed(start, finish):\n",
    "    elapsed = finish - start\n",
    "    hours = elapsed // 3600\n",
    "    minutes = (elapsed % 3600) // 60\n",
    "    seconds = elapsed % 60\n",
    "    return str(hours)+ ' hours '+str(minutes)+ ' minutes '+str(seconds)+' seconds.'\n",
    "# Step 3 เรียกรวมฟังก์ชันใช้งานเพื่อรับค่า\n",
    "def read_time():\n",
    "    print('>> ', end='')\n",
    "    hour = read_hour()\n",
    "    print('>> ', end='')\n",
    "    minute = read_minute()\n",
    "    print('>> ', end='')\n",
    "    second = read_second()\n",
    "    return to_seconds(hour, minute, second)\n",
    "\n",
    "print('Start time:')\n",
    "start_time = read_time()\n",
    "print('Finish time:')\n",
    "finish_time = read_time()\n",
    "print('Elapsed time is',time_elapsed(start_time, finish_time))"
   ]
  },
  {
   "cell_type": "markdown",
   "id": "7ecc11f6",
   "metadata": {},
   "source": [
    "### หลักเลข\n",
    "จงเขียนโปรแกรมเพื่อรับจำนวนเต็ม num ที่กำหนดให้มีค่าตั้งแต่ 0 และน้อยกว่า 10,000 สร้างฟังก์ชันเพื่อส่งกลับตัวเลข ของแต่ละหลักดังนี้\n",
    "\n",
    "    2.1. digit(num) เพื่อคืนค่าตัวเลขในหลักหน่วยของจำนวนเต็ม num\n",
    "    2.2. tens(num) เพื่อคืนค่าตัวเลขในหลักสิบของจำนวนเต็ม num\n",
    "    2.3. hundreds(num) เพื่อคืนค่าตัวเลขในหลักร้อยของจำนวนเต็ม num\n",
    "    2.4. thousands(num) เพื่อคืนค่าตัวเลขในหลักพันของจำนวนเต็ม num\n",
    "\n",
    "นอกจากนี้ให้สร้างฟังก์ชัน sum_digits(num) เพิ่มเติมเพื่อคืนค่าผลบวกของตัวเลขในแต่ละหลักของ num\n",
    "\n",
    "ตัวอย่าง Input/Output\n",
    "\n",
    "    - Enter a number (0 to 9999): 8143    \n",
    "    - Digit place is 3.\n",
    "    - Tens place is 4.\n",
    "    - Hundreds place is 1.\n",
    "    - Thousands place is 8.\n",
    "    - Sum of all digits is 16."
   ]
  },
  {
   "cell_type": "code",
   "execution_count": 3,
   "id": "df3b4c61",
   "metadata": {},
   "outputs": [
    {
     "name": "stdout",
     "output_type": "stream",
     "text": [
      "Enter a number (0 to 9999): 8143\n",
      "Digit place is 3.\n",
      "Tens place is 4.\n",
      "Hundreds place is 1.\n",
      "Thousands place is 8.\n",
      "Sum of all digits is 16.\n"
     ]
    }
   ],
   "source": [
    "def digit(num):\n",
    "    return num % 10\n",
    "def tens(num):\n",
    "    return (num // 10) % 10\n",
    "def hundreds(num):\n",
    "    return (num // 100) % 10\n",
    "def thousands(num):\n",
    "    return (num // 1000) % 10\n",
    "def sum_digits(num):\n",
    "    return digit(num) + tens(num) + hundreds(num) + thousands(num)\n",
    "\n",
    "n   = int(input('Enter a number (0 to 9999): '))\n",
    "print('Digit place is %d.' % (digit(n)))\n",
    "print('Tens place is %d.' % (tens(n)))\n",
    "print('Hundreds place is %d.' % (hundreds(n)))\n",
    "print('Thousands place is %d.' % (thousands(n)))\n",
    "print('Sum of all digits is %d.' % sum_digits(n))"
   ]
  },
  {
   "cell_type": "code",
   "execution_count": null,
   "id": "a02992e8",
   "metadata": {},
   "outputs": [],
   "source": []
  },
  {
   "cell_type": "code",
   "execution_count": null,
   "id": "bf56d13f",
   "metadata": {},
   "outputs": [],
   "source": []
  },
  {
   "cell_type": "code",
   "execution_count": null,
   "id": "53999cf6",
   "metadata": {},
   "outputs": [],
   "source": []
  },
  {
   "cell_type": "code",
   "execution_count": null,
   "id": "296194f9",
   "metadata": {},
   "outputs": [],
   "source": []
  }
 ],
 "metadata": {
  "kernelspec": {
   "display_name": "Python 3 (ipykernel)",
   "language": "python",
   "name": "python3"
  },
  "language_info": {
   "codemirror_mode": {
    "name": "ipython",
    "version": 3
   },
   "file_extension": ".py",
   "mimetype": "text/x-python",
   "name": "python",
   "nbconvert_exporter": "python",
   "pygments_lexer": "ipython3",
   "version": "3.10.11"
  }
 },
 "nbformat": 4,
 "nbformat_minor": 5
}
