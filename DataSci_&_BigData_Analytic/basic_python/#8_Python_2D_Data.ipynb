{
 "cells": [
  {
   "cell_type": "code",
   "execution_count": 1,
   "id": "5081665e",
   "metadata": {},
   "outputs": [
    {
     "name": "stdout",
     "output_type": "stream",
     "text": [
      "0 , 1  0 , 2  \n",
      "1 , 1  1 , 2  \n",
      "2 , 1  2 , 2  \n",
      "3 , 1  3 , 2  \n"
     ]
    }
   ],
   "source": [
    "i = 0\n",
    "while i <=3:\n",
    "    j=1 #reset ทุกครั้งก่อนจะเข้า loop j =1 \n",
    "    while j <=2:\n",
    "        print(i,\",\",j,end=\"  \") # print i , j ว่าอยู่แถวไหนคอลัมน์ไหน\n",
    "        j += 1\n",
    "    i +=1\n",
    "    print()"
   ]
  },
  {
   "cell_type": "markdown",
   "id": "1ecc6855",
   "metadata": {},
   "source": [
    "## สี่เหลี่ยม"
   ]
  },
  {
   "cell_type": "code",
   "execution_count": 2,
   "id": "ab315f55",
   "metadata": {},
   "outputs": [
    {
     "name": "stdout",
     "output_type": "stream",
     "text": [
      "Enter n: 2\n",
      "xx\n",
      "xx\n"
     ]
    }
   ],
   "source": [
    "n = int(input(\"Enter n: \"))\n",
    "for i in range(n):\n",
    "    print('x'*n)\n",
    "    "
   ]
  },
  {
   "cell_type": "code",
   "execution_count": 3,
   "id": "4106f33e",
   "metadata": {},
   "outputs": [
    {
     "name": "stdout",
     "output_type": "stream",
     "text": [
      "Enter n: 2\n",
      "yy\n",
      "yy\n"
     ]
    }
   ],
   "source": [
    "n = int(input(\"Enter n: \"))\n",
    "for i in range(n):\n",
    "    for j in range(n):\n",
    "        print('y', end=\"\") # end=\"\"ช่องว่าง\n",
    "    print() #ขึ้นบรรทัดใหม่\n",
    "    "
   ]
  },
  {
   "cell_type": "markdown",
   "id": "b4fb5c95",
   "metadata": {},
   "source": [
    "## สามเหลี่ยมชิดซ้าย"
   ]
  },
  {
   "cell_type": "code",
   "execution_count": 4,
   "id": "d153e771",
   "metadata": {},
   "outputs": [
    {
     "name": "stdout",
     "output_type": "stream",
     "text": [
      "Enter n: 2\n",
      "x\n",
      "xx\n"
     ]
    }
   ],
   "source": [
    "n =int(input(\"Enter n: \"))\n",
    "for i in range(1,n+1):\n",
    "    print('x'*i)\n"
   ]
  },
  {
   "cell_type": "code",
   "execution_count": 5,
   "id": "20b594b6",
   "metadata": {},
   "outputs": [
    {
     "name": "stdout",
     "output_type": "stream",
     "text": [
      "Enter n: 2\n",
      "x\n",
      "xx\n"
     ]
    }
   ],
   "source": [
    "n =int(input(\"Enter n: \"))\n",
    "for i in range(1,n+1):\n",
    "    for j in range(i): #!! จะเจอบ่อยๆ \n",
    "        print('x',end=\"\")\n",
    "    print()\n"
   ]
  },
  {
   "cell_type": "markdown",
   "id": "0601a871",
   "metadata": {},
   "source": [
    "## สามเหลี่ยมชิดขวา"
   ]
  },
  {
   "cell_type": "code",
   "execution_count": 6,
   "id": "606f5d16",
   "metadata": {},
   "outputs": [
    {
     "name": "stdout",
     "output_type": "stream",
     "text": [
      "Enter n: 2\n",
      " x\n",
      "xx\n"
     ]
    }
   ],
   "source": [
    "n =int(input(\"Enter n: \"))\n",
    "for i in range(1,n+1):\n",
    "    for j in range(n-i): #พิมพ์ช่องว่าง\n",
    "        print(' ',end=\"\")\n",
    "    for j in range(i):  #พิมพ์ค่า x ตามรอบ\n",
    "        print('x',end=\"\")\n",
    "    print()\n"
   ]
  },
  {
   "cell_type": "markdown",
   "id": "2574dc4c",
   "metadata": {},
   "source": [
    "## List / Set / Tuple การเก็บข้อมูล 2D"
   ]
  },
  {
   "cell_type": "code",
   "execution_count": 7,
   "id": "92545280",
   "metadata": {},
   "outputs": [
    {
     "data": {
      "text/plain": [
       "[[10, 9, 10, 8], [6, 7, 6, 10], [4, 2, 5, 7]]"
      ]
     },
     "execution_count": 7,
     "metadata": {},
     "output_type": "execute_result"
    }
   ],
   "source": [
    "kwn_score = [10,9,10,8]\n",
    "kris_score = [6,7,6,10]\n",
    "ploy_score = [4,2,5,7]\n",
    "\n",
    "all_score =  [kwn_score,kris_score,ploy_score]\n",
    "all_score"
   ]
  },
  {
   "cell_type": "code",
   "execution_count": 8,
   "id": "543d755e",
   "metadata": {},
   "outputs": [
    {
     "data": {
      "text/plain": [
       "[[10, 9, 10, 8], [6, 7, 6, 10], [4, 2, 5, 7]]"
      ]
     },
     "execution_count": 8,
     "metadata": {},
     "output_type": "execute_result"
    }
   ],
   "source": [
    "scores = [ [10,9,10,8],\n",
    "           [ 6,7, 6,10],\n",
    "           [ 4,2, 5, 7] ]\n",
    "scores"
   ]
  },
  {
   "cell_type": "code",
   "execution_count": 9,
   "id": "76749375",
   "metadata": {},
   "outputs": [
    {
     "data": {
      "text/plain": [
       "6"
      ]
     },
     "execution_count": 9,
     "metadata": {},
     "output_type": "execute_result"
    }
   ],
   "source": [
    "scores[1][0] #[แถว][คอลัมน์]"
   ]
  },
  {
   "cell_type": "code",
   "execution_count": 10,
   "id": "feb0ead1",
   "metadata": {},
   "outputs": [
    {
     "name": "stdout",
     "output_type": "stream",
     "text": [
      "-------------------------\n",
      "| 10 | 9 | 10 | 8 \n",
      "-------------------------\n",
      "| 6 | 7 | 6 | 10 \n",
      "-------------------------\n",
      "| 4 | 2 | 5 | 7 \n",
      "-------------------------\n"
     ]
    }
   ],
   "source": [
    "scores = [ [10,9,10,8],\n",
    "           [ 6,7, 6,10],\n",
    "           [ 4,2, 5, 7] ]\n",
    "i=0\n",
    "for i in range(3):#row\n",
    "    print('-------------------------')\n",
    "    for j in range(4): #col\n",
    "        print(\"|\",scores[i][j],end=\" \")\n",
    "    print()\n",
    "print('-------------------------')\n"
   ]
  },
  {
   "cell_type": "code",
   "execution_count": 11,
   "id": "cc27fe23",
   "metadata": {},
   "outputs": [
    {
     "name": "stdout",
     "output_type": "stream",
     "text": [
      "-------------------------\n",
      "| 10 | 9 | 10 | 8 \n",
      "-------------------------\n",
      "| 6 | 7 | 6 | 10 \n",
      "-------------------------\n",
      "| 4 | 2 | 5 | 7 \n",
      "-------------------------\n"
     ]
    }
   ],
   "source": [
    "row_size=3\n",
    "col_size=4\n",
    "scores = [ [10,9,10,8],\n",
    "           [ 6,7, 6,10],\n",
    "           [ 4,2, 5, 7] ]\n",
    "i=0\n",
    "for row in range(row_size):#row\n",
    "    print('-------------------------')\n",
    "    for col in range(col_size): #col\n",
    "        print(\"|\",scores[row][col],end=\" \")\n",
    "    print() #เมื่อจบloopขึ้นบรรทัดใหม่\n",
    "print('-------------------------')\n"
   ]
  },
  {
   "cell_type": "code",
   "execution_count": 12,
   "id": "0000153d",
   "metadata": {},
   "outputs": [
    {
     "name": "stdout",
     "output_type": "stream",
     "text": [
      "Enter student 0 score: \n",
      "2\n",
      "3\n",
      "3\n",
      "3\n",
      "Enter student 1 score: \n",
      "3\n",
      "\n"
     ]
    },
    {
     "ename": "ValueError",
     "evalue": "invalid literal for int() with base 10: ''",
     "output_type": "error",
     "traceback": [
      "\u001b[0;31m---------------------------------------------------------------------------\u001b[0m",
      "\u001b[0;31mValueError\u001b[0m                                Traceback (most recent call last)",
      "Cell \u001b[0;32mIn[12], line 7\u001b[0m\n\u001b[1;32m      4\u001b[0m student_score \u001b[38;5;241m=\u001b[39m []\n\u001b[1;32m      6\u001b[0m \u001b[38;5;28;01mfor\u001b[39;00m hw_no \u001b[38;5;129;01min\u001b[39;00m \u001b[38;5;28mrange\u001b[39m(\u001b[38;5;241m4\u001b[39m):\n\u001b[0;32m----> 7\u001b[0m     value \u001b[38;5;241m=\u001b[39m \u001b[38;5;28;43mint\u001b[39;49m\u001b[43m(\u001b[49m\u001b[38;5;28;43minput\u001b[39;49m\u001b[43m(\u001b[49m\u001b[43m)\u001b[49m\u001b[43m)\u001b[49m\n\u001b[1;32m      8\u001b[0m     student_score\u001b[38;5;241m.\u001b[39mappend(value)\n\u001b[1;32m     10\u001b[0m score_all\u001b[38;5;241m.\u001b[39mappend(student_score)\n",
      "\u001b[0;31mValueError\u001b[0m: invalid literal for int() with base 10: ''"
     ]
    }
   ],
   "source": [
    "score_all = []\n",
    "for i in range(3):\n",
    "    print(\"Enter student %d score: \"%i) #format %d จะบอกว่า type , %i บอกว่าค่า %d คือค่าของ i\n",
    "    student_score = []\n",
    "    \n",
    "    for hw_no in range(4):\n",
    "        value = int(input())\n",
    "        student_score.append(value)\n",
    "        \n",
    "    score_all.append(student_score)\n",
    "    \n",
    "print(score_all)"
   ]
  },
  {
   "cell_type": "markdown",
   "id": "1d436158",
   "metadata": {},
   "source": [
    "## Matrix Add\n",
    "    - การบวก C(ij) = a(ij) + b(ij)"
   ]
  },
  {
   "cell_type": "code",
   "execution_count": null,
   "id": "abd07b6e",
   "metadata": {},
   "outputs": [],
   "source": [
    "A = [[1,2],[3,4]]\n",
    "B = [[5,6],[7,8]]\n",
    "C = [ [0,0],[0,0] ]\n",
    "ROW_SIZE =2\n",
    "COL_SIZE =2\n",
    "for i in range(ROW_SIZE):\n",
    "    for j in range(COL_SIZE):\n",
    "        C[i][j] = A[i][j]+B[i][j]\n",
    "print(C)"
   ]
  },
  {
   "cell_type": "code",
   "execution_count": null,
   "id": "ad135cb6",
   "metadata": {},
   "outputs": [],
   "source": [
    "def get_size():\n",
    "    num_row = int(input(\"Enter number of rows: \"))\n",
    "    num_col = int(input(\"Enter number of col: \"))\n",
    "    return num_row,num_col\n",
    "\n",
    "def get_matrix():\n",
    "    global num_row,num_col\n",
    "    print(\"Enter matrix:\")\n",
    "    M=[]\n",
    "    for i in range(num_row):\n",
    "        M.append([])\n",
    "        for j in range(num_col):\n",
    "            M[i].append(int(input()))\n",
    "    return M\n",
    "def add_matrix(A,B):\n",
    "    global num_row,num_col\n",
    "    result = []\n",
    "    for i in range(num_row):\n",
    "        result.append([])\n",
    "        for j in range(num_col):\n",
    "            result[i].append(0)\n",
    "    #add matrix\n",
    "    for i in range(num_row):\n",
    "        for j in range(num_col):\n",
    "            result[i][j] = A[i][j]+B[i][j]\n",
    "    return result\n",
    "\n",
    "def"
   ]
  },
  {
   "cell_type": "markdown",
   "id": "d54fc563",
   "metadata": {},
   "source": [
    "# E-LAP"
   ]
  },
  {
   "cell_type": "markdown",
   "id": "179c10de",
   "metadata": {},
   "source": [
    "พิมพ์สามเหลี่ยม 57\n",
    "จงเขียนโปรแกรมเพื่อรับจํานวนเต็มบวกมาหนึ่งจํานวน และพิมพ์สามเหลี่ยมตามขนาดที่ผู้ใช้กําหนดดังตัวอย่างด้านล่าง\n",
    "\n",
    "ทั้งนี้ ห้ามใช้การคูณสตริง โดยกำหนดให้ใช้คำสั่ง print('-', end=''), print('x', end='') และ print() ได้เท่านั้น และจะต้องใช้ลูปซ้อนกันสองชั้นเท่านั้น จึงจะได้คะแนน โดยใช้ for หรือ while\n",
    "\n",
    "    ตัวอย่าง Input/Output 1\n",
    "    Enter n: 1\n",
    "    -\n",
    "    ตัวอย่าง Input/Output 2\n",
    "    Enter n: 2\n",
    "    -\n",
    "    -x\n",
    "    - \n",
    "    ตัวอย่าง Input/Output 3\n",
    "    Enter n: 5\n",
    "    -\n",
    "    -x\n",
    "    -x-\n",
    "    -x-x\n",
    "    -x-x-\n",
    "    -x-x\n",
    "    -x-\n",
    "    -x\n",
    "    -"
   ]
  },
  {
   "cell_type": "code",
   "execution_count": 65,
   "id": "3f2cb072",
   "metadata": {},
   "outputs": [
    {
     "name": "stdout",
     "output_type": "stream",
     "text": [
      "Enter n: 5\n",
      "\n",
      "-\n",
      "-x\n",
      "-x-\n",
      "-x-x\n",
      "-x-x-\n",
      "-x-x-x-x-x\n",
      "-x-x-x--x-x\n",
      "-x-x-x-x-x-x\n"
     ]
    }
   ],
   "source": [
    "n = int(input(\"Enter n: \"))\n",
    "for i in range(n*2-1):\n",
    "    for j in range(i):\n",
    "        if j % 2 == 0:\n",
    "            print('-', end='')\n",
    "        if j % 2 != 0:\n",
    "            print('x', end='')\n",
    "    if i > n :\n",
    "        for j in range(n-1):\n",
    "            if j % 2 == 0:\n",
    "                print('-', end='')\n",
    "            if j % 2 != 0:\n",
    "                print('x', end='')\n",
    "    print()\n",
    "    \n"
   ]
  },
  {
   "cell_type": "code",
   "execution_count": 37,
   "id": "d7f951e5",
   "metadata": {},
   "outputs": [
    {
     "name": "stdout",
     "output_type": "stream",
     "text": [
      "Enter n: 2\n",
      "\n",
      "-\n",
      "-x-\n",
      "-x-\n",
      "-\n"
     ]
    }
   ],
   "source": [
    "# รับค่า n จากผู้ใช้\n",
    "n = int(input(\"Enter n: \"))\n",
    "\n",
    "# สร้างสามเหลี่ยมด้วยลูป for และ while\n",
    "# สร้างสามเหลี่ยมขาข้าง (top half)\n",
    "for i in range(n*2-1):\n",
    "    for j in range(i):\n",
    "        print('-', end='')\n",
    "        if j < i-1 :\n",
    "            print('x', end='')\n",
    "    print()\n",
    "\n",
    "# สร้างสามเหลี่ยมขาล่าง (bottom half)\n",
    "for i in range(n,0,-1):\n",
    "    for j in range(i):\n",
    "        print('-', end='')\n",
    "        if j < i - 1:\n",
    "            print('x', end='')\n",
    "    print()\n"
   ]
  },
  {
   "cell_type": "code",
   "execution_count": 25,
   "id": "3a1b5f27",
   "metadata": {},
   "outputs": [
    {
     "name": "stdout",
     "output_type": "stream",
     "text": [
      "Enter n: 2\n",
      "-\n",
      "x-\n",
      "-\n"
     ]
    }
   ],
   "source": [
    "# รับค่า n จากผู้ใช้\n",
    "n = int(input(\"Enter n: \"))\n",
    "\n",
    "# สร้างสามเหลี่ยมด้วยลูป for และ while\n",
    "# สร้างสามเหลี่ยมขาข้าง (top half)\n",
    "for i in range(n):\n",
    "    for j in range(i + 1):\n",
    "        if j == i:\n",
    "            print('-', end='')\n",
    "        else:\n",
    "            print('x', end='')\n",
    "    print()\n",
    "\n",
    "# สร้างสามเหลี่ยมขาล่าง (bottom half)\n",
    "for i in range(n - 1, 0, -1):\n",
    "    for j in range(i):\n",
    "        if j == i - 1:\n",
    "            print('-', end='')\n",
    "        else:\n",
    "            print('x', end='')\n",
    "    print()\n"
   ]
  },
  {
   "cell_type": "code",
   "execution_count": null,
   "id": "dc06cd62",
   "metadata": {},
   "outputs": [],
   "source": []
  }
 ],
 "metadata": {
  "kernelspec": {
   "display_name": "Python 3 (ipykernel)",
   "language": "python",
   "name": "python3"
  },
  "language_info": {
   "codemirror_mode": {
    "name": "ipython",
    "version": 3
   },
   "file_extension": ".py",
   "mimetype": "text/x-python",
   "name": "python",
   "nbconvert_exporter": "python",
   "pygments_lexer": "ipython3",
   "version": "3.10.9"
  }
 },
 "nbformat": 4,
 "nbformat_minor": 5
}
