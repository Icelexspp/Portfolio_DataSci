{
 "cells": [
  {
   "cell_type": "markdown",
   "id": "c675b36a",
   "metadata": {},
   "source": [
    "# Tuple"
   ]
  },
  {
   "cell_type": "code",
   "execution_count": 1,
   "id": "a417ca1f",
   "metadata": {},
   "outputs": [],
   "source": [
    "t = (1,2,3)"
   ]
  },
  {
   "cell_type": "code",
   "execution_count": 2,
   "id": "25e8defd",
   "metadata": {},
   "outputs": [
    {
     "data": {
      "text/plain": [
       "tuple"
      ]
     },
     "execution_count": 2,
     "metadata": {},
     "output_type": "execute_result"
    }
   ],
   "source": [
    "type(t)"
   ]
  },
  {
   "cell_type": "code",
   "execution_count": 3,
   "id": "77c08e64",
   "metadata": {},
   "outputs": [],
   "source": [
    "t1 = ()"
   ]
  },
  {
   "cell_type": "code",
   "execution_count": 4,
   "id": "5dacb3aa",
   "metadata": {},
   "outputs": [
    {
     "data": {
      "text/plain": [
       "tuple"
      ]
     },
     "execution_count": 4,
     "metadata": {},
     "output_type": "execute_result"
    }
   ],
   "source": [
    "type(t1)"
   ]
  },
  {
   "cell_type": "code",
   "execution_count": 5,
   "id": "b76c6d26",
   "metadata": {},
   "outputs": [],
   "source": [
    "t2 =(2)"
   ]
  },
  {
   "cell_type": "code",
   "execution_count": 6,
   "id": "cf34da53",
   "metadata": {},
   "outputs": [
    {
     "data": {
      "text/plain": [
       "int"
      ]
     },
     "execution_count": 6,
     "metadata": {},
     "output_type": "execute_result"
    }
   ],
   "source": [
    "type(t2)"
   ]
  },
  {
   "cell_type": "code",
   "execution_count": 7,
   "id": "915dcca1",
   "metadata": {},
   "outputs": [],
   "source": [
    "t3 = (2,)"
   ]
  },
  {
   "cell_type": "code",
   "execution_count": 8,
   "id": "0f571d3d",
   "metadata": {},
   "outputs": [
    {
     "data": {
      "text/plain": [
       "tuple"
      ]
     },
     "execution_count": 8,
     "metadata": {},
     "output_type": "execute_result"
    }
   ],
   "source": [
    "type(t3)"
   ]
  },
  {
   "cell_type": "code",
   "execution_count": 9,
   "id": "c8e1f867",
   "metadata": {},
   "outputs": [
    {
     "data": {
      "text/plain": [
       "['h', 'e', 'l', 'l', 'o', ' ', 'w', 'o', 'r', 'l', 'd']"
      ]
     },
     "execution_count": 9,
     "metadata": {},
     "output_type": "execute_result"
    }
   ],
   "source": [
    "secret_message = 'hello world'\n",
    "lst_msg = list(secret_message)\n",
    "lst_msg"
   ]
  },
  {
   "cell_type": "code",
   "execution_count": 10,
   "id": "8900803e",
   "metadata": {},
   "outputs": [
    {
     "data": {
      "text/plain": [
       "('h', 'e', 'l', 'l', 'o', ' ', 'w', 'o', 'r', 'l', 'd')"
      ]
     },
     "execution_count": 10,
     "metadata": {},
     "output_type": "execute_result"
    }
   ],
   "source": [
    "secret_message = 'hello world'\n",
    "tuple_msg = tuple(secret_message)\n",
    "tuple_msg"
   ]
  },
  {
   "cell_type": "markdown",
   "id": "d220f2b9",
   "metadata": {},
   "source": [
    "การใช้งาน tuple\n",
    "\n",
    "    - Lishtweight กว่า list \n",
    "            เร็วกว่า list \n",
    "            เหมาะกับการใช้เก็บค่าคงที่"
   ]
  },
  {
   "cell_type": "markdown",
   "id": "57965f58",
   "metadata": {},
   "source": [
    "### multi-variable assignment"
   ]
  },
  {
   "cell_type": "code",
   "execution_count": 11,
   "id": "40873cbf",
   "metadata": {},
   "outputs": [],
   "source": [
    "name = \"Jenny\"\n",
    "id = 1\n",
    "age = 17"
   ]
  },
  {
   "cell_type": "code",
   "execution_count": 12,
   "id": "e88f2f15",
   "metadata": {},
   "outputs": [
    {
     "data": {
      "text/plain": [
       "('Jenny', 1, 17)"
      ]
     },
     "execution_count": 12,
     "metadata": {},
     "output_type": "execute_result"
    }
   ],
   "source": [
    "(name,id,age) = (\"Jenny\",1,17)\n",
    "(name,id,age)"
   ]
  },
  {
   "cell_type": "markdown",
   "id": "5a5c131c",
   "metadata": {},
   "source": [
    "## การสลับค่าตัวแปร โดยไม่ใช้ตัวแปรเพิ่ม"
   ]
  },
  {
   "cell_type": "code",
   "execution_count": 13,
   "id": "bd6042d8",
   "metadata": {},
   "outputs": [],
   "source": [
    "x = 8\n",
    "y = 20\n"
   ]
  },
  {
   "cell_type": "code",
   "execution_count": 14,
   "id": "3898f62f",
   "metadata": {},
   "outputs": [],
   "source": [
    "(x,y) = (y,x)"
   ]
  },
  {
   "cell_type": "code",
   "execution_count": 15,
   "id": "ba57fbed",
   "metadata": {},
   "outputs": [
    {
     "data": {
      "text/plain": [
       "(20, 8)"
      ]
     },
     "execution_count": 15,
     "metadata": {},
     "output_type": "execute_result"
    }
   ],
   "source": [
    "(x,y)"
   ]
  },
  {
   "cell_type": "markdown",
   "id": "fa37dc47",
   "metadata": {},
   "source": [
    "# SET\n",
    "    - Set ไม่มีลำดับ ทำให้เข้าถึงแบบ index ไม่ได้\n",
    "    - Set เก็บข้อมูลที่ไม่ซ้ำกัน\n",
    "    - สามารถใช้ตัวดำเนินการ เช่น union , intersection , set difference ได้\n",
    "    - ไม่มี function count "
   ]
  },
  {
   "cell_type": "code",
   "execution_count": 16,
   "id": "e6eb759e",
   "metadata": {},
   "outputs": [
    {
     "data": {
      "text/plain": [
       "3"
      ]
     },
     "execution_count": 16,
     "metadata": {},
     "output_type": "execute_result"
    }
   ],
   "source": [
    "l = [0,2,3]\n",
    "l[2]"
   ]
  },
  {
   "cell_type": "code",
   "execution_count": 17,
   "id": "fdf65ed8",
   "metadata": {},
   "outputs": [
    {
     "data": {
      "text/plain": [
       "{1}"
      ]
     },
     "execution_count": 17,
     "metadata": {},
     "output_type": "execute_result"
    }
   ],
   "source": [
    "a_set = {1}\n",
    "a_set"
   ]
  },
  {
   "cell_type": "code",
   "execution_count": 18,
   "id": "54267c28",
   "metadata": {},
   "outputs": [
    {
     "data": {
      "text/plain": [
       "{1, 2}"
      ]
     },
     "execution_count": 18,
     "metadata": {},
     "output_type": "execute_result"
    }
   ],
   "source": [
    "a_set = {1,2,2}\n",
    "a_set"
   ]
  },
  {
   "cell_type": "code",
   "execution_count": 19,
   "id": "8827b761",
   "metadata": {},
   "outputs": [
    {
     "data": {
      "text/plain": [
       "[1, 2, 2, 2, 2, 2, 3]"
      ]
     },
     "execution_count": 19,
     "metadata": {},
     "output_type": "execute_result"
    }
   ],
   "source": [
    "l = [1,2,2,2,2,2,3]\n",
    "l"
   ]
  },
  {
   "cell_type": "code",
   "execution_count": 20,
   "id": "9ace5deb",
   "metadata": {},
   "outputs": [
    {
     "data": {
      "text/plain": [
       "5"
      ]
     },
     "execution_count": 20,
     "metadata": {},
     "output_type": "execute_result"
    }
   ],
   "source": [
    "l.count(2)"
   ]
  },
  {
   "cell_type": "code",
   "execution_count": 21,
   "id": "cba8cae0",
   "metadata": {},
   "outputs": [
    {
     "data": {
      "text/plain": [
       "['a', 'b', 'mpilgrim', True, False, 42]"
      ]
     },
     "execution_count": 21,
     "metadata": {},
     "output_type": "execute_result"
    }
   ],
   "source": [
    "my_list = ['a','b','mpilgrim',True,False,42]\n",
    "my_set = set(my_list)\n",
    "my_list"
   ]
  },
  {
   "cell_type": "code",
   "execution_count": 22,
   "id": "588c2efa",
   "metadata": {},
   "outputs": [
    {
     "data": {
      "text/plain": [
       "{42, False, True, 'a', 'b', 'mpilgrim'}"
      ]
     },
     "execution_count": 22,
     "metadata": {},
     "output_type": "execute_result"
    }
   ],
   "source": [
    "my_set"
   ]
  },
  {
   "cell_type": "code",
   "execution_count": 23,
   "id": "ff686132",
   "metadata": {},
   "outputs": [
    {
     "data": {
      "text/plain": [
       "{}"
      ]
     },
     "execution_count": 23,
     "metadata": {},
     "output_type": "execute_result"
    }
   ],
   "source": [
    "s = {}\n",
    "s"
   ]
  },
  {
   "cell_type": "code",
   "execution_count": 24,
   "id": "1112e796",
   "metadata": {},
   "outputs": [
    {
     "data": {
      "text/plain": [
       "dict"
      ]
     },
     "execution_count": 24,
     "metadata": {},
     "output_type": "execute_result"
    }
   ],
   "source": [
    "type(s)"
   ]
  },
  {
   "cell_type": "code",
   "execution_count": 25,
   "id": "c1fcdd0f",
   "metadata": {},
   "outputs": [
    {
     "data": {
      "text/plain": [
       "set"
      ]
     },
     "execution_count": 25,
     "metadata": {},
     "output_type": "execute_result"
    }
   ],
   "source": [
    "s = ()\n",
    "s = set()\n",
    "type(s)"
   ]
  },
  {
   "cell_type": "markdown",
   "id": "34074990",
   "metadata": {},
   "source": [
    "function \n",
    "\n",
    "    have\n",
    "    - len\n",
    "    - sum\n",
    "    - min\n",
    "    - max\n",
    "    not'have\n",
    "    - +,*"
   ]
  },
  {
   "cell_type": "code",
   "execution_count": 26,
   "id": "1c8e8a3d",
   "metadata": {},
   "outputs": [
    {
     "data": {
      "text/plain": [
       "{1, 2}"
      ]
     },
     "execution_count": 26,
     "metadata": {},
     "output_type": "execute_result"
    }
   ],
   "source": [
    "a_set"
   ]
  },
  {
   "cell_type": "markdown",
   "id": "318c5271",
   "metadata": {},
   "source": [
    "## การแก้ไข set \n",
    "    - add()\n",
    "    - update() : mertge\n",
    "    - discard() : ลบข้อมูลออกจาก set\n",
    "    - remonve(x) : ลบข้อมูล\n",
    "    - pop(i) : ลบ แต่ต้องระวังถ้าจะใช้\n",
    "    - clear()"
   ]
  },
  {
   "cell_type": "code",
   "execution_count": 27,
   "id": "140b866e",
   "metadata": {},
   "outputs": [
    {
     "data": {
      "text/plain": [
       "{1, 2, 5}"
      ]
     },
     "execution_count": 27,
     "metadata": {},
     "output_type": "execute_result"
    }
   ],
   "source": [
    "a = {1,5}\n",
    "a.add(2)\n",
    "a"
   ]
  },
  {
   "cell_type": "code",
   "execution_count": 28,
   "id": "08f1853c",
   "metadata": {},
   "outputs": [
    {
     "data": {
      "text/plain": [
       "{1, 2, 5}"
      ]
     },
     "execution_count": 28,
     "metadata": {},
     "output_type": "execute_result"
    }
   ],
   "source": [
    "a.add(2)\n",
    "a"
   ]
  },
  {
   "cell_type": "code",
   "execution_count": 29,
   "id": "efe092cf",
   "metadata": {},
   "outputs": [],
   "source": [
    "a.update({2,3,4,5})"
   ]
  },
  {
   "cell_type": "code",
   "execution_count": 30,
   "id": "a2034551",
   "metadata": {},
   "outputs": [
    {
     "data": {
      "text/plain": [
       "{1, 2, 3, 4, 5}"
      ]
     },
     "execution_count": 30,
     "metadata": {},
     "output_type": "execute_result"
    }
   ],
   "source": [
    "a"
   ]
  },
  {
   "cell_type": "code",
   "execution_count": 31,
   "id": "de9e6e0a",
   "metadata": {},
   "outputs": [
    {
     "data": {
      "text/plain": [
       "{1, 2, 3, 4, 5, 10, 20}"
      ]
     },
     "execution_count": 31,
     "metadata": {},
     "output_type": "execute_result"
    }
   ],
   "source": [
    "a.update([10,20])\n",
    "a"
   ]
  },
  {
   "cell_type": "code",
   "execution_count": 32,
   "id": "91d97aa8",
   "metadata": {},
   "outputs": [
    {
     "data": {
      "text/plain": [
       "{1, 2, 3, 4, 5, 20}"
      ]
     },
     "execution_count": 32,
     "metadata": {},
     "output_type": "execute_result"
    }
   ],
   "source": [
    "a.discard(10)\n",
    "a"
   ]
  },
  {
   "cell_type": "code",
   "execution_count": 33,
   "id": "ba9f386d",
   "metadata": {},
   "outputs": [
    {
     "data": {
      "text/plain": [
       "{1, 2, 3, 4, 5, 20}"
      ]
     },
     "execution_count": 33,
     "metadata": {},
     "output_type": "execute_result"
    }
   ],
   "source": [
    "a"
   ]
  },
  {
   "cell_type": "code",
   "execution_count": 34,
   "id": "8e8f8671",
   "metadata": {},
   "outputs": [
    {
     "data": {
      "text/plain": [
       "1"
      ]
     },
     "execution_count": 34,
     "metadata": {},
     "output_type": "execute_result"
    }
   ],
   "source": [
    "a.pop()"
   ]
  },
  {
   "cell_type": "code",
   "execution_count": 35,
   "id": "df201568",
   "metadata": {},
   "outputs": [
    {
     "data": {
      "text/plain": [
       "{2, 3, 4, 5, 20}"
      ]
     },
     "execution_count": 35,
     "metadata": {},
     "output_type": "execute_result"
    }
   ],
   "source": [
    "a"
   ]
  },
  {
   "cell_type": "code",
   "execution_count": 36,
   "id": "bcaa9ee0",
   "metadata": {},
   "outputs": [
    {
     "data": {
      "text/plain": [
       "{1, 2, 3, 4, 5}"
      ]
     },
     "execution_count": 36,
     "metadata": {},
     "output_type": "execute_result"
    }
   ],
   "source": [
    "x = {1,2,3}\n",
    "x.update({2,3,4,5})\n",
    "x"
   ]
  },
  {
   "cell_type": "code",
   "execution_count": 37,
   "id": "d73bf80d",
   "metadata": {},
   "outputs": [
    {
     "data": {
      "text/plain": [
       "{1, 2, 3, 4, 5}"
      ]
     },
     "execution_count": 37,
     "metadata": {},
     "output_type": "execute_result"
    }
   ],
   "source": [
    "x"
   ]
  },
  {
   "cell_type": "markdown",
   "id": "d2a2db5a",
   "metadata": {},
   "source": [
    "### union/intersection"
   ]
  },
  {
   "cell_type": "code",
   "execution_count": 38,
   "id": "f8bd0292",
   "metadata": {},
   "outputs": [],
   "source": [
    "a_set = {2,4,5,9}\n",
    "b_set = {1,2,3,5}"
   ]
  },
  {
   "cell_type": "code",
   "execution_count": 39,
   "id": "660a063a",
   "metadata": {},
   "outputs": [
    {
     "data": {
      "text/plain": [
       "{1, 2, 3, 4, 5, 9}"
      ]
     },
     "execution_count": 39,
     "metadata": {},
     "output_type": "execute_result"
    }
   ],
   "source": [
    "a_set.union(b_set)"
   ]
  },
  {
   "cell_type": "code",
   "execution_count": 40,
   "id": "a68b8636",
   "metadata": {},
   "outputs": [
    {
     "data": {
      "text/plain": [
       "{2, 4, 5, 9}"
      ]
     },
     "execution_count": 40,
     "metadata": {},
     "output_type": "execute_result"
    }
   ],
   "source": [
    "a_set"
   ]
  },
  {
   "cell_type": "code",
   "execution_count": 41,
   "id": "868b23dc",
   "metadata": {},
   "outputs": [
    {
     "data": {
      "text/plain": [
       "{2, 5}"
      ]
     },
     "execution_count": 41,
     "metadata": {},
     "output_type": "execute_result"
    }
   ],
   "source": [
    "a_set.intersection(b_set)"
   ]
  },
  {
   "cell_type": "markdown",
   "id": "d8e8e23c",
   "metadata": {},
   "source": [
    "### difference/symmetrice_difference "
   ]
  },
  {
   "cell_type": "code",
   "execution_count": 42,
   "id": "9d41ee5c",
   "metadata": {},
   "outputs": [
    {
     "data": {
      "text/plain": [
       "{4, 9}"
      ]
     },
     "execution_count": 42,
     "metadata": {},
     "output_type": "execute_result"
    }
   ],
   "source": [
    "a = {2,4,5,9}\n",
    "b = {1,2,3,5}\n",
    "a.difference(b)"
   ]
  },
  {
   "cell_type": "code",
   "execution_count": 43,
   "id": "259f6ce3",
   "metadata": {},
   "outputs": [
    {
     "data": {
      "text/plain": [
       "{1, 3}"
      ]
     },
     "execution_count": 43,
     "metadata": {},
     "output_type": "execute_result"
    }
   ],
   "source": [
    "b.difference(a)"
   ]
  },
  {
   "cell_type": "code",
   "execution_count": 44,
   "id": "5a910c5d",
   "metadata": {},
   "outputs": [
    {
     "data": {
      "text/plain": [
       "{1, 3, 4, 9}"
      ]
     },
     "execution_count": 44,
     "metadata": {},
     "output_type": "execute_result"
    }
   ],
   "source": [
    "a.symmetric_difference(b)"
   ]
  },
  {
   "cell_type": "markdown",
   "id": "a61a25e8",
   "metadata": {},
   "source": [
    "### subset"
   ]
  },
  {
   "cell_type": "code",
   "execution_count": 45,
   "id": "82705b1c",
   "metadata": {},
   "outputs": [],
   "source": [
    "a_set = {1,2,3}\n",
    "b_set = {1,2,3,4}"
   ]
  },
  {
   "cell_type": "code",
   "execution_count": 46,
   "id": "6cd297b3",
   "metadata": {},
   "outputs": [
    {
     "data": {
      "text/plain": [
       "True"
      ]
     },
     "execution_count": 46,
     "metadata": {},
     "output_type": "execute_result"
    }
   ],
   "source": [
    "a_set.issubset(b_set)"
   ]
  },
  {
   "cell_type": "code",
   "execution_count": 47,
   "id": "17a44f31",
   "metadata": {},
   "outputs": [
    {
     "data": {
      "text/plain": [
       "False"
      ]
     },
     "execution_count": 47,
     "metadata": {},
     "output_type": "execute_result"
    }
   ],
   "source": [
    "a_set.issuperset(b_set)"
   ]
  },
  {
   "cell_type": "code",
   "execution_count": 48,
   "id": "4634acf1",
   "metadata": {},
   "outputs": [
    {
     "data": {
      "text/plain": [
       "True"
      ]
     },
     "execution_count": 48,
     "metadata": {},
     "output_type": "execute_result"
    }
   ],
   "source": [
    "b_set.issuperset(a_set)"
   ]
  },
  {
   "cell_type": "code",
   "execution_count": 49,
   "id": "413108ad",
   "metadata": {},
   "outputs": [],
   "source": [
    "c_set = {2,3,5}"
   ]
  },
  {
   "cell_type": "code",
   "execution_count": 50,
   "id": "561adaf8",
   "metadata": {},
   "outputs": [
    {
     "data": {
      "text/plain": [
       "False"
      ]
     },
     "execution_count": 50,
     "metadata": {},
     "output_type": "execute_result"
    }
   ],
   "source": [
    "a_set.issubset(c_set)"
   ]
  },
  {
   "cell_type": "code",
   "execution_count": 51,
   "id": "b3815af4",
   "metadata": {},
   "outputs": [
    {
     "data": {
      "text/plain": [
       "False"
      ]
     },
     "execution_count": 51,
     "metadata": {},
     "output_type": "execute_result"
    }
   ],
   "source": [
    "a_set.issuperset(c_set)"
   ]
  },
  {
   "cell_type": "markdown",
   "id": "b3d111fb",
   "metadata": {},
   "source": [
    "### set / frozen set จะเป็นการเพิ่มค่าหรือลบค่าไม่ได้ "
   ]
  },
  {
   "cell_type": "markdown",
   "id": "b639ab6f",
   "metadata": {},
   "source": [
    "# summary set\n",
    "\n",
    "    create set : \n",
    "            1.mutable : a ={1,2,3,4}\n",
    "            2. immutabl : a =frozenset([1,2,3,4])"
   ]
  },
  {
   "cell_type": "markdown",
   "id": "82a623ab",
   "metadata": {},
   "source": [
    "# Dictionary\n",
    "        - unordered set of key-value pairs : key:value\n",
    "        - เก็บและเข้าถึงข้อมูลผ่าน list ได้ จะเข้าถึงผ่าน index \n",
    "        - เก็บและเข้าถึงข้อมูลผ่าน dictinary จะเข้าถึงผ่าน key ได้\n",
    "        - key เป็นชนิด int ,float ,str ,tuple ได้\n",
    "        - value เป็นชนิดใดก็ได้\n",
    "        \n",
    "        ! ไม่สามารถเข้าถึงด้วย value ได้\n",
    "        ! ไม่สามารถเพิ่มคู่ key-value ที่มี key ตรงกับที่มีใน dic เดิมไม่ได้ \n",
    "        ! key ใช้เป็น list ไม่ได้ เพราะไม่สามารถ hash=การเข้าถึงข้อมูลอย่างรวดเร็ว ได้\n",
    "        \n",
    "        Operation\n",
    "        - len\n",
    "        - del\n",
    "        - clare\n",
    "        - key in ....\n",
    "        - update : merge \n",
    "        "
   ]
  },
  {
   "cell_type": "code",
   "execution_count": 52,
   "id": "893fa012",
   "metadata": {},
   "outputs": [],
   "source": [
    "name = ['Kwan','Kris','Ploy']\n",
    "scores = [5,9,7]"
   ]
  },
  {
   "cell_type": "code",
   "execution_count": 53,
   "id": "42f1624d",
   "metadata": {},
   "outputs": [
    {
     "data": {
      "text/plain": [
       "1"
      ]
     },
     "execution_count": 53,
     "metadata": {},
     "output_type": "execute_result"
    }
   ],
   "source": [
    "name.index('Kris')"
   ]
  },
  {
   "cell_type": "code",
   "execution_count": 54,
   "id": "17fb8b62",
   "metadata": {},
   "outputs": [
    {
     "data": {
      "text/plain": [
       "9"
      ]
     },
     "execution_count": 54,
     "metadata": {},
     "output_type": "execute_result"
    }
   ],
   "source": [
    "scores[1]"
   ]
  },
  {
   "cell_type": "code",
   "execution_count": 55,
   "id": "1b22be28",
   "metadata": {},
   "outputs": [],
   "source": [
    "scores = {'Kwan':5,'Kris':9,'Ploy':7}"
   ]
  },
  {
   "cell_type": "code",
   "execution_count": 56,
   "id": "69bd9b7f",
   "metadata": {},
   "outputs": [
    {
     "data": {
      "text/plain": [
       "5"
      ]
     },
     "execution_count": 56,
     "metadata": {},
     "output_type": "execute_result"
    }
   ],
   "source": [
    "scores['Kwan']"
   ]
  },
  {
   "cell_type": "code",
   "execution_count": 57,
   "id": "4c779ea3",
   "metadata": {},
   "outputs": [
    {
     "data": {
      "text/plain": [
       "9"
      ]
     },
     "execution_count": 57,
     "metadata": {},
     "output_type": "execute_result"
    }
   ],
   "source": [
    "scores['Kris']"
   ]
  },
  {
   "cell_type": "code",
   "execution_count": 58,
   "id": "b7bc5b07",
   "metadata": {},
   "outputs": [
    {
     "data": {
      "text/plain": [
       "{'Kwan': 5, 'Kris': 9, 'Ploy': 8}"
      ]
     },
     "execution_count": 58,
     "metadata": {},
     "output_type": "execute_result"
    }
   ],
   "source": [
    "scores['Ploy'] = 8\n",
    "scores"
   ]
  },
  {
   "cell_type": "code",
   "execution_count": 59,
   "id": "1ac6471b",
   "metadata": {},
   "outputs": [
    {
     "data": {
      "text/plain": [
       "{'Kwan': 5, 'Kris': 9, 'Ploy': 8, 'Pat': 5}"
      ]
     },
     "execution_count": 59,
     "metadata": {},
     "output_type": "execute_result"
    }
   ],
   "source": [
    "scores['Pat'] = 5\n",
    "scores"
   ]
  },
  {
   "cell_type": "code",
   "execution_count": 60,
   "id": "51ebf90c",
   "metadata": {},
   "outputs": [
    {
     "data": {
      "text/plain": [
       "dict"
      ]
     },
     "execution_count": 60,
     "metadata": {},
     "output_type": "execute_result"
    }
   ],
   "source": [
    "d = {}\n",
    "type(d)"
   ]
  },
  {
   "cell_type": "code",
   "execution_count": 61,
   "id": "1812e46e",
   "metadata": {},
   "outputs": [
    {
     "data": {
      "text/plain": [
       "{'Kasetsart': 'Bangkok', 'Thammasat': 'Patumthani'}"
      ]
     },
     "execution_count": 61,
     "metadata": {},
     "output_type": "execute_result"
    }
   ],
   "source": [
    "a_dict = {'Kasetsart':'Bangkok','Thammasat':'Patumthani'}\n",
    "a_dict"
   ]
  },
  {
   "cell_type": "code",
   "execution_count": 62,
   "id": "94f2c36c",
   "metadata": {},
   "outputs": [
    {
     "data": {
      "text/plain": [
       "'Bangkok'"
      ]
     },
     "execution_count": 62,
     "metadata": {},
     "output_type": "execute_result"
    }
   ],
   "source": [
    "a_dict['Kasetsart']"
   ]
  },
  {
   "cell_type": "code",
   "execution_count": 63,
   "id": "f83aedeb",
   "metadata": {},
   "outputs": [
    {
     "data": {
      "text/plain": [
       "{1000: ['KB', 'MB', 'GB'], 1024: ['Kib', 'Mib', 'Gib']}"
      ]
     },
     "execution_count": 63,
     "metadata": {},
     "output_type": "execute_result"
    }
   ],
   "source": [
    "suffixes = {1000:['KB','MB','GB'],1024:['Kib','Mib','Gib']}\n",
    "suffixes"
   ]
  },
  {
   "cell_type": "code",
   "execution_count": 64,
   "id": "dd882149",
   "metadata": {},
   "outputs": [
    {
     "data": {
      "text/plain": [
       "2"
      ]
     },
     "execution_count": 64,
     "metadata": {},
     "output_type": "execute_result"
    }
   ],
   "source": [
    "len(suffixes)"
   ]
  },
  {
   "cell_type": "code",
   "execution_count": 65,
   "id": "923cb8e3",
   "metadata": {},
   "outputs": [
    {
     "data": {
      "text/plain": [
       "{'Kwan': 5, 'Kris': 9, 'Pat': 5}"
      ]
     },
     "execution_count": 65,
     "metadata": {},
     "output_type": "execute_result"
    }
   ],
   "source": [
    "del(scores['Ploy'])\n",
    "scores"
   ]
  },
  {
   "cell_type": "code",
   "execution_count": 66,
   "id": "7d3e2d5c",
   "metadata": {},
   "outputs": [],
   "source": [
    "scores = {'Kris':4,'Kwan':5,'Pat':7}\n",
    "more_scores = {'Petch':5,'Praew':9}\n"
   ]
  },
  {
   "cell_type": "code",
   "execution_count": 67,
   "id": "96efd4db",
   "metadata": {},
   "outputs": [],
   "source": [
    "scores.update(more_scores)"
   ]
  },
  {
   "cell_type": "code",
   "execution_count": 68,
   "id": "d7b4b449",
   "metadata": {},
   "outputs": [
    {
     "data": {
      "text/plain": [
       "{'Kris': 4, 'Kwan': 5, 'Pat': 7, 'Petch': 5, 'Praew': 9}"
      ]
     },
     "execution_count": 68,
     "metadata": {},
     "output_type": "execute_result"
    }
   ],
   "source": [
    "scores"
   ]
  },
  {
   "cell_type": "code",
   "execution_count": 69,
   "id": "a5734cda",
   "metadata": {},
   "outputs": [
    {
     "data": {
      "text/plain": [
       "{'Kris': 4, 'Kwan': 5, 'Pat': 9, 'Petch': 5, 'Praew': 9}"
      ]
     },
     "execution_count": 69,
     "metadata": {},
     "output_type": "execute_result"
    }
   ],
   "source": [
    "scores['Pat']=9\n",
    "scores"
   ]
  },
  {
   "cell_type": "code",
   "execution_count": 70,
   "id": "f9035758",
   "metadata": {},
   "outputs": [
    {
     "name": "stdout",
     "output_type": "stream",
     "text": [
      "Kris\n",
      "Kwan\n",
      "Pat\n",
      "Petch\n",
      "Praew\n"
     ]
    }
   ],
   "source": [
    "for key in scores:\n",
    "    print(key)"
   ]
  },
  {
   "cell_type": "code",
   "execution_count": 71,
   "id": "e247ee38",
   "metadata": {},
   "outputs": [
    {
     "name": "stdout",
     "output_type": "stream",
     "text": [
      "Kris\n",
      "Kwan\n",
      "Pat\n",
      "Petch\n",
      "Praew\n"
     ]
    }
   ],
   "source": [
    "for key in scores.keys():\n",
    "    print(key)"
   ]
  },
  {
   "cell_type": "code",
   "execution_count": 72,
   "id": "74da525a",
   "metadata": {},
   "outputs": [
    {
     "name": "stdout",
     "output_type": "stream",
     "text": [
      "4\n",
      "5\n",
      "9\n",
      "5\n",
      "9\n"
     ]
    }
   ],
   "source": [
    "for values in scores.values():\n",
    "    print(values)"
   ]
  },
  {
   "cell_type": "code",
   "execution_count": 73,
   "id": "0f4b0687",
   "metadata": {},
   "outputs": [
    {
     "name": "stdout",
     "output_type": "stream",
     "text": [
      "4\n",
      "5\n",
      "9\n",
      "5\n",
      "9\n"
     ]
    }
   ],
   "source": [
    "for element in scores.values():\n",
    "    print(element)"
   ]
  },
  {
   "cell_type": "code",
   "execution_count": 74,
   "id": "edeb85b9",
   "metadata": {},
   "outputs": [
    {
     "name": "stdout",
     "output_type": "stream",
     "text": [
      "('Kris', 4)\n",
      "('Kwan', 5)\n",
      "('Pat', 9)\n",
      "('Petch', 5)\n",
      "('Praew', 9)\n"
     ]
    }
   ],
   "source": [
    "for item in scores.items():\n",
    "    print(item)"
   ]
  },
  {
   "cell_type": "code",
   "execution_count": 75,
   "id": "6ac3271b",
   "metadata": {},
   "outputs": [
    {
     "name": "stdout",
     "output_type": "stream",
     "text": [
      "Key: Kris Has Values:  4\n",
      "Key: Kwan Has Values:  5\n",
      "Key: Pat Has Values:  9\n",
      "Key: Petch Has Values:  5\n",
      "Key: Praew Has Values:  9\n"
     ]
    }
   ],
   "source": [
    "for key in scores.keys():\n",
    "    print(\"Key:\", key,\"Has Values: \",scores[key])"
   ]
  },
  {
   "cell_type": "markdown",
   "id": "27aab5f4",
   "metadata": {},
   "source": [
    "## ex ให้ชื่อนักเรียนสร้างฟังก์ชั่นค้นหาคะแนน"
   ]
  },
  {
   "cell_type": "code",
   "execution_count": 76,
   "id": "c65ecca1",
   "metadata": {},
   "outputs": [
    {
     "name": "stdout",
     "output_type": "stream",
     "text": [
      "Enter's name: Kris\n",
      "Kris's score: 4\n",
      "Enter's name: 0\n",
      "En of program. Goodbye.\n"
     ]
    }
   ],
   "source": [
    "scores = {'Kris':4,'Kwan':5,'Pat':7,'Ploy':8}\n",
    "\n",
    "while True:\n",
    "    name = input(\"Enter's name: \")\n",
    "    if name == '0':\n",
    "        print(\"End of program. Goodbye.\")\n",
    "        break\n",
    "    if name not in scores:\n",
    "        print(\"Name not found\")\n",
    "    else:\n",
    "        print(name+\"'s score: \"+str(scores[name]))"
   ]
  },
  {
   "cell_type": "code",
   "execution_count": 77,
   "id": "db5f2879",
   "metadata": {},
   "outputs": [
    {
     "data": {
      "text/plain": [
       "{'a': 1, 'b': 2, 'm': 13, 'p': 16, 'z': 26}"
      ]
     },
     "execution_count": 77,
     "metadata": {},
     "output_type": "execute_result"
    }
   ],
   "source": [
    "pairs = {'a':1,'b':2,'m':13,'p':16,'z':26}\n",
    "pair_dict = dict(pairs)\n",
    "pair_dict\n",
    "#{'a': 1, 'b': 2, 'm': 13, 'p': 16, 'z': 26}"
   ]
  },
  {
   "cell_type": "code",
   "execution_count": 82,
   "id": "c48ffc35",
   "metadata": {},
   "outputs": [
    {
     "name": "stdout",
     "output_type": "stream",
     "text": [
      "66\n",
      "79\n",
      "82\n",
      "57\n",
      "94\n",
      "Sum of scores = 378\n"
     ]
    }
   ],
   "source": [
    "scores = {'Beth': 66, 'Nancy': 79, 'Pat': 82, 'Zoe': 57, 'Ken': 94}\n",
    "_sum = 0\n",
    "for element in scores.values():\n",
    "    print(element)\n",
    "    _sum = int(element)+_sum\n",
    "\n",
    "print(f'Sum of scores = {_sum}')"
   ]
  },
  {
   "cell_type": "code",
   "execution_count": 85,
   "id": "da279fbb",
   "metadata": {},
   "outputs": [
    {
     "name": "stdout",
     "output_type": "stream",
     "text": [
      "Beth got scores = 66\n",
      "Nancy got scores = 79\n",
      "Pat got scores = 82\n",
      "Zoe got scores = 57\n",
      "Ken got scores = 94\n"
     ]
    }
   ],
   "source": [
    "scores = {'Beth': 66, 'Nancy': 79, 'Pat': 82, 'Zoe': 57, 'Ken': 94}\n",
    "for element in scores.keys():\n",
    "    print(element,\"got scores =\",scores[element])"
   ]
  },
  {
   "cell_type": "code",
   "execution_count": 87,
   "id": "d44ef012",
   "metadata": {},
   "outputs": [
    {
     "name": "stdout",
     "output_type": "stream",
     "text": [
      "Beth\n",
      "Nancy\n",
      "Pat\n",
      "Zoe\n",
      "Ken\n"
     ]
    }
   ],
   "source": [
    "scores = {'Beth': 66, 'Nancy': 79, 'Pat': 82, 'Zoe': 57, 'Ken': 94}\n",
    "for element in scores.keys():\n",
    "    print(element)"
   ]
  },
  {
   "cell_type": "code",
   "execution_count": 2,
   "id": "0215df9a",
   "metadata": {},
   "outputs": [
    {
     "data": {
      "text/plain": [
       "dict_items([('Beth', 66), ('Nancy', 79), ('Pat', 82), ('Zoe', 57), ('Ken', 94)])"
      ]
     },
     "execution_count": 2,
     "metadata": {},
     "output_type": "execute_result"
    }
   ],
   "source": [
    "scores = {'Beth': 66, 'Nancy': 79, 'Pat': 82, 'Zoe': 57, 'Ken': 94}\n",
    "scores_items = scores.items()\n",
    "#dict_items([('Beth', 66), ('Nancy', 79), ('Pat', 82), ('Zoe', 57), ('Ken', 94)])\n",
    "#scores_items\n",
    "#score_list = list(scores.values())\n",
    "#score_list\n",
    "#[66, 79, 82, 57, 94]\n",
    "#scores.keys()\n",
    "scores_items\n",
    "#dict_keys(['Beth', 'Nancy', 'Pat', 'Zoe', 'Ken'])"
   ]
  },
  {
   "cell_type": "code",
   "execution_count": 95,
   "id": "6d94cc6a",
   "metadata": {},
   "outputs": [
    {
     "data": {
      "text/plain": [
       "['1001', 'Ann', 18, '01/09/2018']"
      ]
     },
     "execution_count": 95,
     "metadata": {},
     "output_type": "execute_result"
    }
   ],
   "source": [
    "_dict = {'id': '1001', 'name': 'Ann', 'age': 18, 'birthday': '01/09/2018'}\n",
    "key_list = list(_dict.keys())\n",
    "key_list\n",
    "#['id', 'name', 'age', 'birthday']\n",
    "value_list = list(_dict.values())\n",
    "value_list"
   ]
  },
  {
   "cell_type": "code",
   "execution_count": 100,
   "id": "5e275646",
   "metadata": {},
   "outputs": [
    {
     "data": {
      "text/plain": [
       "79"
      ]
     },
     "execution_count": 100,
     "metadata": {},
     "output_type": "execute_result"
    }
   ],
   "source": [
    "scores = {'Beth': 66, 'Nancy': 79, 'Pat': 82, 'Zoe': 57, 'Ken': 94}\n",
    "s1 = scores.get('Nancy')\n",
    "s1"
   ]
  },
  {
   "cell_type": "code",
   "execution_count": 103,
   "id": "db7527f5",
   "metadata": {},
   "outputs": [
    {
     "data": {
      "text/plain": [
       "57"
      ]
     },
     "execution_count": 103,
     "metadata": {},
     "output_type": "execute_result"
    }
   ],
   "source": [
    "s2 = scores.get('Zoe', -1)\n",
    "s2\n",
    "#57"
   ]
  },
  {
   "cell_type": "code",
   "execution_count": 105,
   "id": "0873f89a",
   "metadata": {},
   "outputs": [
    {
     "data": {
      "text/plain": [
       "-1"
      ]
     },
     "execution_count": 105,
     "metadata": {},
     "output_type": "execute_result"
    }
   ],
   "source": [
    "s3 = scores.get('Alex', -1)\n",
    "s3"
   ]
  },
  {
   "cell_type": "code",
   "execution_count": 198,
   "id": "b701e89a",
   "metadata": {},
   "outputs": [],
   "source": [
    "w = {50: 150, 150:450, 250: 750, 350: 1050}\n",
    "x = {100: 300, 200: 600}\n",
    "y = {100: 200, 250: 500, 300: 600, 700: 1400}\n",
    "z = {100: 400}"
   ]
  },
  {
   "cell_type": "code",
   "execution_count": 199,
   "id": "477006c1",
   "metadata": {},
   "outputs": [
    {
     "data": {
      "text/plain": [
       "{100: 300, 200: 600}"
      ]
     },
     "execution_count": 199,
     "metadata": {},
     "output_type": "execute_result"
    }
   ],
   "source": [
    "x"
   ]
  },
  {
   "cell_type": "code",
   "execution_count": 200,
   "id": "e5c962d9",
   "metadata": {},
   "outputs": [
    {
     "data": {
      "text/plain": [
       "{100: 400, 200: 600}"
      ]
     },
     "execution_count": 200,
     "metadata": {},
     "output_type": "execute_result"
    }
   ],
   "source": [
    "x.update(z)\n",
    "x"
   ]
  },
  {
   "cell_type": "code",
   "execution_count": 201,
   "id": "0c2e37e7",
   "metadata": {},
   "outputs": [],
   "source": [
    "w.update(z)\n",
    "#{50: 150, 150: 450, 250: 1000, 350: 1050, 100: 400}\n"
   ]
  },
  {
   "cell_type": "code",
   "execution_count": 202,
   "id": "436376e9",
   "metadata": {},
   "outputs": [
    {
     "data": {
      "text/plain": [
       "{50: 150, 150: 450, 250: 750, 350: 1050, 100: 400}"
      ]
     },
     "execution_count": 202,
     "metadata": {},
     "output_type": "execute_result"
    }
   ],
   "source": [
    "w"
   ]
  },
  {
   "cell_type": "code",
   "execution_count": 203,
   "id": "64fb54b4",
   "metadata": {},
   "outputs": [
    {
     "data": {
      "text/plain": [
       "{100: 200, 250: 500, 300: 600, 700: 1400}"
      ]
     },
     "execution_count": 203,
     "metadata": {},
     "output_type": "execute_result"
    }
   ],
   "source": [
    "z.update(y)\n",
    "z\n",
    "#z= {100: 200, 250: 500, 300: 600, 700: 1400}"
   ]
  },
  {
   "cell_type": "code",
   "execution_count": 204,
   "id": "ae7914c9",
   "metadata": {},
   "outputs": [
    {
     "data": {
      "text/plain": [
       "{100: 400, 250: 750, 300: 600, 700: 1400, 50: 150, 150: 450, 350: 1050}"
      ]
     },
     "execution_count": 204,
     "metadata": {},
     "output_type": "execute_result"
    }
   ],
   "source": [
    "y.update(w)\n",
    "y\n",
    "#y={100: 400, 250: 1000, 300: 600, 700: 1400, 200: 600}"
   ]
  },
  {
   "cell_type": "code",
   "execution_count": 3,
   "id": "13113397",
   "metadata": {},
   "outputs": [
    {
     "data": {
      "text/plain": [
       "True"
      ]
     },
     "execution_count": 3,
     "metadata": {},
     "output_type": "execute_result"
    }
   ],
   "source": [
    "scores = {'Beth': 66, 'Nancy': 79, 'Pat': 82, 'Zoe': 57, 'Ken': 94}\n",
    "'Beth'  in scores"
   ]
  },
  {
   "cell_type": "code",
   "execution_count": null,
   "id": "e5546d96",
   "metadata": {},
   "outputs": [],
   "source": []
  }
 ],
 "metadata": {
  "kernelspec": {
   "display_name": "Python 3 (ipykernel)",
   "language": "python",
   "name": "python3"
  },
  "language_info": {
   "codemirror_mode": {
    "name": "ipython",
    "version": 3
   },
   "file_extension": ".py",
   "mimetype": "text/x-python",
   "name": "python",
   "nbconvert_exporter": "python",
   "pygments_lexer": "ipython3",
   "version": "3.10.9"
  }
 },
 "nbformat": 4,
 "nbformat_minor": 5
}
