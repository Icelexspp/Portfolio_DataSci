{
 "cells": [
  {
   "cell_type": "code",
   "execution_count": 1,
   "id": "148dc83b",
   "metadata": {},
   "outputs": [],
   "source": [
    "s = [10,16,15,9,23]"
   ]
  },
  {
   "cell_type": "code",
   "execution_count": 4,
   "id": "f6c61609",
   "metadata": {},
   "outputs": [
    {
     "data": {
      "text/plain": [
       "9"
      ]
     },
     "execution_count": 4,
     "metadata": {},
     "output_type": "execute_result"
    }
   ],
   "source": [
    "s[3]"
   ]
  },
  {
   "cell_type": "code",
   "execution_count": 8,
   "id": "0a81959c",
   "metadata": {},
   "outputs": [],
   "source": [
    "day = ['sunday','monday','tuesday','wedday']"
   ]
  },
  {
   "cell_type": "code",
   "execution_count": 9,
   "id": "601e58ef",
   "metadata": {},
   "outputs": [
    {
     "name": "stdout",
     "output_type": "stream",
     "text": [
      "1\n",
      "2\n",
      "1\n",
      "4\n",
      "2\n",
      "3\n",
      "4\n",
      "2\n",
      "4\n",
      "5\n",
      "3\n",
      "6\n"
     ]
    }
   ],
   "source": [
    "a = [1,2,1,4,2,3,4,2,4,5,3,6]\n",
    "i=0\n",
    "while i <12:\n",
    "    print(a[i])\n",
    "    i += 1"
   ]
  },
  {
   "cell_type": "code",
   "execution_count": 10,
   "id": "19d025a0",
   "metadata": {},
   "outputs": [
    {
     "name": "stdout",
     "output_type": "stream",
     "text": [
      "1\n",
      "2\n",
      "1\n",
      "4\n",
      "2\n",
      "3\n",
      "4\n",
      "2\n",
      "4\n",
      "5\n",
      "3\n",
      "6\n"
     ]
    }
   ],
   "source": [
    "a = [1,2,1,4,2,3,4,2,4,5,3,6]\n",
    "i=0\n",
    "while i <len(a):\n",
    "    print(a[i])\n",
    "    i += 1"
   ]
  },
  {
   "cell_type": "markdown",
   "id": "8955e735",
   "metadata": {},
   "source": [
    "### การแก้ไขข้อมูล ใน list"
   ]
  },
  {
   "cell_type": "code",
   "execution_count": 11,
   "id": "2a1d7a34",
   "metadata": {},
   "outputs": [
    {
     "data": {
      "text/plain": [
       "[10, 20, 5, 40]"
      ]
     },
     "execution_count": 11,
     "metadata": {},
     "output_type": "execute_result"
    }
   ],
   "source": [
    "s = [10,20,30,40]\n",
    "s[2] =5\n",
    "s"
   ]
  },
  {
   "cell_type": "code",
   "execution_count": 12,
   "id": "11f1f983",
   "metadata": {},
   "outputs": [
    {
     "name": "stdout",
     "output_type": "stream",
     "text": [
      "1\n",
      "2\n",
      "2\n",
      "3\n",
      "3\n",
      "4\n"
     ]
    }
   ],
   "source": [
    "ps =[1,2,1,3,1,4]\n",
    "t = 0\n",
    "j = 0\n",
    "while j<6:\n",
    "    if ps[j]>t:\n",
    "        t = ps[j]\n",
    "    else:\n",
    "        ps[j] = t\n",
    "    print(ps[j])\n",
    "    j+=1"
   ]
  },
  {
   "cell_type": "markdown",
   "id": "36c17756",
   "metadata": {},
   "source": [
    "### ความหลากหลายของข้อมูล"
   ]
  },
  {
   "cell_type": "code",
   "execution_count": 13,
   "id": "676d31e5",
   "metadata": {},
   "outputs": [],
   "source": [
    "f = ['ice',10,19.5]"
   ]
  },
  {
   "cell_type": "markdown",
   "id": "2efa22fe",
   "metadata": {},
   "source": [
    "### คำสั่ง for"
   ]
  },
  {
   "cell_type": "code",
   "execution_count": 15,
   "id": "daabcbdc",
   "metadata": {},
   "outputs": [
    {
     "name": "stdout",
     "output_type": "stream",
     "text": [
      "1\n",
      "2\n",
      "1\n",
      "4\n",
      "2\n",
      "3\n",
      "4\n",
      "2\n",
      "4\n",
      "5\n",
      "3\n",
      "6\n"
     ]
    }
   ],
   "source": [
    "a = [1,2,1,4,2,3,4,2,4,5,3,6]\n",
    "for x in a:\n",
    "    print(x)"
   ]
  },
  {
   "cell_type": "code",
   "execution_count": 16,
   "id": "80954f60",
   "metadata": {},
   "outputs": [
    {
     "name": "stdout",
     "output_type": "stream",
     "text": [
      "2\n",
      "3\n",
      "5\n",
      "7\n",
      "11\n"
     ]
    }
   ],
   "source": [
    "for x in [2,3,5,7,11]:\n",
    "    print(x)"
   ]
  },
  {
   "cell_type": "code",
   "execution_count": 19,
   "id": "57a20b30",
   "metadata": {},
   "outputs": [
    {
     "name": "stdout",
     "output_type": "stream",
     "text": [
      "13\n"
     ]
    }
   ],
   "source": [
    "Mylist = [1,2,1,4,3,2]\n",
    "sum=0\n",
    "for x in Mylist:#x เป็นตัวชี้ตำแหน่งเป็นชื่ออะไรก็ได้แต่ต้องให้สอดคล้องกับสิ่งที่เราจะให้มันทำออกมา\n",
    "    sum = sum+x \n",
    "\n",
    "print(sum)"
   ]
  },
  {
   "cell_type": "code",
   "execution_count": 26,
   "id": "54af0cc7",
   "metadata": {},
   "outputs": [
    {
     "ename": "TypeError",
     "evalue": "'>' not supported between instances of 'int' and 'builtin_function_or_method'",
     "output_type": "error",
     "traceback": [
      "\u001b[0;31m---------------------------------------------------------------------------\u001b[0m",
      "\u001b[0;31mTypeError\u001b[0m                                 Traceback (most recent call last)",
      "Cell \u001b[0;32mIn[26], line 4\u001b[0m\n\u001b[1;32m      2\u001b[0m \u001b[38;5;28msum\u001b[39m \u001b[38;5;241m=\u001b[39m \u001b[38;5;241m0\u001b[39m\n\u001b[1;32m      3\u001b[0m \u001b[38;5;28;01mfor\u001b[39;00m y \u001b[38;5;129;01min\u001b[39;00m Mylist:\n\u001b[0;32m----> 4\u001b[0m     \u001b[38;5;28;01mif\u001b[39;00m \u001b[43my\u001b[49m\u001b[43m \u001b[49m\u001b[38;5;241;43m>\u001b[39;49m\u001b[43m \u001b[49m\u001b[38;5;28;43mmax\u001b[39;49m:\n\u001b[1;32m      5\u001b[0m         \u001b[38;5;28mmax\u001b[39m \u001b[38;5;241m=\u001b[39m y \n\u001b[1;32m      7\u001b[0m \u001b[38;5;28mprint\u001b[39m(\u001b[38;5;28mmax\u001b[39m)\n",
      "\u001b[0;31mTypeError\u001b[0m: '>' not supported between instances of 'int' and 'builtin_function_or_method'"
     ]
    }
   ],
   "source": [
    "Mylist = [1,2,1,4,3,2]\n",
    "sum = 0\n",
    "for y in Mylist:\n",
    "    if y > max:\n",
    "        max = y \n",
    "\n",
    "print(max)"
   ]
  },
  {
   "cell_type": "markdown",
   "id": "072078a1",
   "metadata": {},
   "source": [
    "### ตัวดำเนินการ\n",
    "    - +\n",
    "    - *\n",
    "    - len\n",
    "    - append"
   ]
  },
  {
   "cell_type": "code",
   "execution_count": 28,
   "id": "0b3c8503",
   "metadata": {},
   "outputs": [
    {
     "data": {
      "text/plain": [
       "[0, 0, 0, 0, 0]"
      ]
     },
     "execution_count": 28,
     "metadata": {},
     "output_type": "execute_result"
    }
   ],
   "source": [
    "n = 5\n",
    "s = [0]*n\n",
    "s"
   ]
  },
  {
   "cell_type": "code",
   "execution_count": 30,
   "id": "4b48b7cd",
   "metadata": {},
   "outputs": [
    {
     "data": {
      "text/plain": [
       "5"
      ]
     },
     "execution_count": 30,
     "metadata": {},
     "output_type": "execute_result"
    }
   ],
   "source": [
    "len(s)"
   ]
  },
  {
   "cell_type": "code",
   "execution_count": 34,
   "id": "c5041bf3",
   "metadata": {},
   "outputs": [
    {
     "ename": "AttributeError",
     "evalue": "'list' object has no attribute 'apped'",
     "output_type": "error",
     "traceback": [
      "\u001b[0;31m---------------------------------------------------------------------------\u001b[0m",
      "\u001b[0;31mAttributeError\u001b[0m                            Traceback (most recent call last)",
      "Cell \u001b[0;32mIn[34], line 1\u001b[0m\n\u001b[0;32m----> 1\u001b[0m \u001b[43ms\u001b[49m\u001b[38;5;241;43m.\u001b[39;49m\u001b[43mapped\u001b[49m(\u001b[38;5;241m10\u001b[39m)\n",
      "\u001b[0;31mAttributeError\u001b[0m: 'list' object has no attribute 'apped'"
     ]
    }
   ],
   "source": [
    "s.apped(10)"
   ]
  },
  {
   "cell_type": "code",
   "execution_count": 32,
   "id": "5c69a9b6",
   "metadata": {},
   "outputs": [],
   "source": [
    "def read_list():\n",
    "    print(\"Enter list (-1 to end):\")\n",
    "    data = []\n",
    "    s = int(input())\n",
    "    while x!=-1:\n",
    "        data.append(x)\n",
    "        x =int(input())\n",
    "    return data"
   ]
  },
  {
   "cell_type": "markdown",
   "id": "ff873809",
   "metadata": {},
   "source": [
    "#### การทำซ้ำ for "
   ]
  },
  {
   "cell_type": "code",
   "execution_count": 35,
   "id": "253fb9b2",
   "metadata": {},
   "outputs": [
    {
     "name": "stdout",
     "output_type": "stream",
     "text": [
      "120\n"
     ]
    }
   ],
   "source": [
    "t = 1 \n",
    "for i in [1,2,3,4,5]:\n",
    "    t*=i # การหา factorial\n",
    "print(t)"
   ]
  },
  {
   "cell_type": "code",
   "execution_count": 37,
   "id": "2df09c9e",
   "metadata": {},
   "outputs": [
    {
     "name": "stdout",
     "output_type": "stream",
     "text": [
      "jan\n",
      "Feb\n",
      "Mar\n",
      "Apr\n",
      "May\n",
      "Jun\n",
      "July\n",
      "Aug\n",
      "Sep\n",
      "Oct\n",
      "Nov\n",
      "Dec\n"
     ]
    }
   ],
   "source": [
    "months = ['jan','Feb','Mar','Apr',\n",
    "         'May','Jun','July','Aug',\n",
    "         'Sep','Oct','Nov','Dec']\n",
    "day =[31,28,31,30,\n",
    "      31,30,31,31,\n",
    "      30,31,30,31]\n",
    "\n",
    "for x in months:\n",
    "    print(x)"
   ]
  },
  {
   "cell_type": "code",
   "execution_count": 40,
   "id": "46d9b5e0",
   "metadata": {},
   "outputs": [
    {
     "name": "stdout",
     "output_type": "stream",
     "text": [
      "Jun 30\n",
      "Jun 30\n",
      "Jun 30\n",
      "Jun 30\n",
      "Jun 30\n",
      "Jun 30\n",
      "Jun 30\n",
      "Jun 30\n",
      "Jun 30\n",
      "Jun 30\n",
      "Jun 30\n",
      "Jun 30\n"
     ]
    }
   ],
   "source": [
    "months = ['jan','Feb','Mar','Apr',\n",
    "         'May','Jun','July','Aug',\n",
    "         'Sep','Oct','Nov','Dec']\n",
    "day =[31,28,31,30,\n",
    "      31,30,31,31,\n",
    "      30,31,30,31]\n",
    "\n",
    "for x in [0,1,2,3,4,5,6,7,8,9,10,11]:\n",
    "    print(months[i],day[i])\n",
    "    "
   ]
  },
  {
   "cell_type": "markdown",
   "id": "c0ca4e98",
   "metadata": {},
   "source": [
    "### range \n",
    "    = range(r)\n",
    "    = range(a,b) รายการตั้งแต่ a ถึง b-1\n",
    "    = range(x,y,z) ; x เริ่มต้น , y สิ้นสุด , z step"
   ]
  },
  {
   "cell_type": "code",
   "execution_count": 47,
   "id": "f7bb865b",
   "metadata": {},
   "outputs": [
    {
     "ename": "IndexError",
     "evalue": "list index out of range",
     "output_type": "error",
     "traceback": [
      "\u001b[0;31m---------------------------------------------------------------------------\u001b[0m",
      "\u001b[0;31mIndexError\u001b[0m                                Traceback (most recent call last)",
      "Cell \u001b[0;32mIn[47], line 9\u001b[0m\n\u001b[1;32m      4\u001b[0m day \u001b[38;5;241m=\u001b[39m[\u001b[38;5;241m31\u001b[39m,\u001b[38;5;241m28\u001b[39m,\u001b[38;5;241m31\u001b[39m,\u001b[38;5;241m30\u001b[39m,\n\u001b[1;32m      5\u001b[0m       \u001b[38;5;241m31\u001b[39m,\u001b[38;5;241m30\u001b[39m,\u001b[38;5;241m31\u001b[39m,\u001b[38;5;241m31\u001b[39m,\n\u001b[1;32m      6\u001b[0m       \u001b[38;5;241m30\u001b[39m,\u001b[38;5;241m31\u001b[39m,\u001b[38;5;241m30\u001b[39m,\u001b[38;5;241m31\u001b[39m]\n\u001b[1;32m      8\u001b[0m \u001b[38;5;28;01mfor\u001b[39;00m x \u001b[38;5;129;01min\u001b[39;00m \u001b[38;5;28mrange\u001b[39m(\u001b[38;5;241m11\u001b[39m):\n\u001b[0;32m----> 9\u001b[0m     \u001b[38;5;28mprint\u001b[39m(\u001b[43mmonths\u001b[49m\u001b[43m[\u001b[49m\u001b[43mi\u001b[49m\u001b[43m]\u001b[49m,day[i])\n",
      "\u001b[0;31mIndexError\u001b[0m: list index out of range"
     ]
    }
   ],
   "source": [
    "months = ['jan','Feb','Mar','Apr',\n",
    "         'May','Jun','July','Aug',\n",
    "         'Sep','Oct','Nov','Dec']\n",
    "day =[31,28,31,30,\n",
    "      31,30,31,31,\n",
    "      30,31,30,31]\n",
    "\n",
    "for x in range(11):\n",
    "    print(months[i],day[i])"
   ]
  },
  {
   "cell_type": "code",
   "execution_count": 45,
   "id": "73f2f501",
   "metadata": {},
   "outputs": [
    {
     "name": "stdout",
     "output_type": "stream",
     "text": [
      "6633\n"
     ]
    }
   ],
   "source": [
    "#ผลรวมที่หาร 3 ลงตัว\n",
    "t = 0\n",
    "for i in range(200):\n",
    "    if i %3 ==0:\n",
    "        t += i\n",
    "print(t)"
   ]
  },
  {
   "cell_type": "markdown",
   "id": "591652a6",
   "metadata": {},
   "source": [
    "### copy list"
   ]
  },
  {
   "cell_type": "code",
   "execution_count": 50,
   "id": "dd112828",
   "metadata": {},
   "outputs": [
    {
     "data": {
      "text/plain": [
       "[1, 3, 4, 5, 4]"
      ]
     },
     "execution_count": 50,
     "metadata": {},
     "output_type": "execute_result"
    }
   ],
   "source": [
    "list_a = [1,3,4,5,4]\n",
    "list_b = list_a #จะเป็นการชี้ไปที่กล่องเดียวกัน ทำให้เวลามีการเปลี่ยนค่าจะเปลี่ยนค่าทั้งคู่\n",
    "list_b"
   ]
  },
  {
   "cell_type": "code",
   "execution_count": 53,
   "id": "da55b8b0",
   "metadata": {},
   "outputs": [
    {
     "data": {
      "text/plain": [
       "[1, 3, 4, 5, 4]"
      ]
     },
     "execution_count": 53,
     "metadata": {},
     "output_type": "execute_result"
    }
   ],
   "source": [
    "list_a = [1,3,4,5,4]\n",
    "list_b = list(list_a) # เพิ่ม list เข้าไปจะเป็นการ copy\n",
    "list_b"
   ]
  },
  {
   "cell_type": "markdown",
   "id": "95edf4b7",
   "metadata": {},
   "source": [
    "# Python list Function"
   ]
  },
  {
   "cell_type": "code",
   "execution_count": 2,
   "id": "530f8a82",
   "metadata": {},
   "outputs": [],
   "source": [
    "ls = ['a','b','c','d','e','f','g','h']"
   ]
  },
  {
   "cell_type": "code",
   "execution_count": 7,
   "id": "738349ea",
   "metadata": {},
   "outputs": [
    {
     "data": {
      "text/plain": [
       "['c', 'e']"
      ]
     },
     "execution_count": 7,
     "metadata": {},
     "output_type": "execute_result"
    }
   ],
   "source": [
    "ls[2:5:2] # index 2 -> 5 ไม่เอาตัวตำแหน่งที่ 5 มา"
   ]
  },
  {
   "cell_type": "code",
   "execution_count": 4,
   "id": "491aee5f",
   "metadata": {},
   "outputs": [
    {
     "data": {
      "text/plain": [
       "['a', 'd']"
      ]
     },
     "execution_count": 4,
     "metadata": {},
     "output_type": "execute_result"
    }
   ],
   "source": [
    "ls[:4:3]"
   ]
  },
  {
   "cell_type": "code",
   "execution_count": 5,
   "id": "6e31ecb5",
   "metadata": {},
   "outputs": [
    {
     "data": {
      "text/plain": [
       "['e', 'f']"
      ]
     },
     "execution_count": 5,
     "metadata": {},
     "output_type": "execute_result"
    }
   ],
   "source": [
    "ls[4:-2]"
   ]
  },
  {
   "cell_type": "code",
   "execution_count": 6,
   "id": "2c571786",
   "metadata": {},
   "outputs": [
    {
     "data": {
      "text/plain": [
       "['f', 'e']"
      ]
     },
     "execution_count": 6,
     "metadata": {},
     "output_type": "execute_result"
    }
   ],
   "source": [
    "ls[5:3:-1]"
   ]
  },
  {
   "cell_type": "code",
   "execution_count": 8,
   "id": "2e1556d1",
   "metadata": {},
   "outputs": [],
   "source": [
    "ls = ['a','b','c','d','e']"
   ]
  },
  {
   "cell_type": "code",
   "execution_count": 9,
   "id": "fd2f383a",
   "metadata": {},
   "outputs": [],
   "source": [
    "ls[2:4] = ['x','y']"
   ]
  },
  {
   "cell_type": "code",
   "execution_count": 10,
   "id": "60008dd7",
   "metadata": {},
   "outputs": [
    {
     "data": {
      "text/plain": [
       "['a', 'b', 'x', 'y', 'e']"
      ]
     },
     "execution_count": 10,
     "metadata": {},
     "output_type": "execute_result"
    }
   ],
   "source": [
    "ls"
   ]
  },
  {
   "cell_type": "markdown",
   "id": "0bb4cc15",
   "metadata": {},
   "source": [
    "## function ที่ใช้กับ list \n",
    "\n",
    "        - แก้ไข list\n",
    "        - เพ่ิม list \n",
    "            - append เพิ่มข้อมูลต่อท้าย list\n",
    "            - extend  นำ list ไปต่อท้าย list\n",
    "            - insert แทรกข้อมูล\n",
    "        - ลบ list\n",
    "            - pop เอาข้อมูลที่ \"index\" ไหนออก\n",
    "            สามารถเอาข้อมูลออกแล้วเอาตัวมาแปรมารับค่าที่เราลบออกแล้วได้ \n",
    "            เช่น a = ls.pop(i)\n",
    "            ถ้า pop แบบไม่มี index จะเอาตัวสุดท้ายออก\n",
    "            - remove จะดูจากค่าว่าเราอยากลบตัวไหน\n",
    "            ถ้ามีข้อมูลเดียวกันมากกว่า 1 ตัวจะลบตัวที่ index น้อยกว่า\n",
    "        - เรียงลำดับ (sort)\n",
    "            - sort \n",
    "            - sort(reverse=True) : เรียงจากมากไปน้อย\n",
    "            - reverse : กลับจากหลังมาหน้า แต่ไม่ได้ทำการเรียงตามค่าให้\n",
    "        - ค้นหาข้อมูลใน list\n",
    "            - count : นับจำนวน\n",
    "            - index : ค้นหาค่า x ว่าอยุ่ที่ index ไหน\n",
    "            "
   ]
  },
  {
   "cell_type": "code",
   "execution_count": 11,
   "id": "db83c930",
   "metadata": {},
   "outputs": [
    {
     "data": {
      "text/plain": [
       "['a', 'b', 'x', 'y', 'e']"
      ]
     },
     "execution_count": 11,
     "metadata": {},
     "output_type": "execute_result"
    }
   ],
   "source": [
    "ls"
   ]
  },
  {
   "cell_type": "code",
   "execution_count": 12,
   "id": "3d210265",
   "metadata": {},
   "outputs": [
    {
     "data": {
      "text/plain": [
       "'x'"
      ]
     },
     "execution_count": 12,
     "metadata": {},
     "output_type": "execute_result"
    }
   ],
   "source": [
    "ls.pop(2)"
   ]
  },
  {
   "cell_type": "code",
   "execution_count": 13,
   "id": "33a71a26",
   "metadata": {},
   "outputs": [],
   "source": [
    "a = ls.pop(2)"
   ]
  },
  {
   "cell_type": "code",
   "execution_count": 14,
   "id": "57de9f3e",
   "metadata": {},
   "outputs": [
    {
     "data": {
      "text/plain": [
       "'y'"
      ]
     },
     "execution_count": 14,
     "metadata": {},
     "output_type": "execute_result"
    }
   ],
   "source": [
    "a"
   ]
  },
  {
   "cell_type": "code",
   "execution_count": 15,
   "id": "f5bd46b9",
   "metadata": {},
   "outputs": [],
   "source": [
    "ls.remove('e')"
   ]
  },
  {
   "cell_type": "code",
   "execution_count": 16,
   "id": "ec1e4a2d",
   "metadata": {},
   "outputs": [
    {
     "data": {
      "text/plain": [
       "['a', 'b']"
      ]
     },
     "execution_count": 16,
     "metadata": {},
     "output_type": "execute_result"
    }
   ],
   "source": [
    "ls"
   ]
  },
  {
   "cell_type": "code",
   "execution_count": 17,
   "id": "751a4528",
   "metadata": {},
   "outputs": [],
   "source": [
    "ls = [3,5,6,7,8,9,1]"
   ]
  },
  {
   "cell_type": "code",
   "execution_count": 18,
   "id": "933ab380",
   "metadata": {},
   "outputs": [
    {
     "data": {
      "text/plain": [
       "[3, 5, 6, 7, 8, 9, 1]"
      ]
     },
     "execution_count": 18,
     "metadata": {},
     "output_type": "execute_result"
    }
   ],
   "source": [
    "ls"
   ]
  },
  {
   "cell_type": "code",
   "execution_count": 20,
   "id": "1d161a3d",
   "metadata": {},
   "outputs": [
    {
     "data": {
      "text/plain": [
       "[9, 8, 7, 6, 5, 3, 1]"
      ]
     },
     "execution_count": 20,
     "metadata": {},
     "output_type": "execute_result"
    }
   ],
   "source": [
    "ls.sort(reverse=True)\n",
    "ls"
   ]
  },
  {
   "cell_type": "code",
   "execution_count": 21,
   "id": "19163f99",
   "metadata": {},
   "outputs": [
    {
     "name": "stdout",
     "output_type": "stream",
     "text": [
      "2\n",
      "3\n",
      "5\n",
      "7\n",
      "11\n",
      "13\n",
      "17\n",
      "19\n"
     ]
    }
   ],
   "source": [
    "seq = [2,3,5,7,11,13,17,19]\n",
    "for x in seq :\n",
    "    print(x)\n"
   ]
  },
  {
   "cell_type": "code",
   "execution_count": 25,
   "id": "64e8e09c",
   "metadata": {},
   "outputs": [
    {
     "name": "stdout",
     "output_type": "stream",
     "text": [
      "2\n",
      "3\n",
      "5\n",
      "7\n",
      "11\n"
     ]
    }
   ],
   "source": [
    "seq = [2,3,5,7,11,13,17,19]\n",
    "for i in range(5):\n",
    "    print(seq[i])\n",
    "#2\n",
    "#3\n",
    "#5\n",
    "#7\n",
    "#11"
   ]
  },
  {
   "cell_type": "code",
   "execution_count": 27,
   "id": "b88ff348",
   "metadata": {},
   "outputs": [
    {
     "name": "stdout",
     "output_type": "stream",
     "text": [
      "19\n",
      "17\n",
      "13\n",
      "11\n",
      "7\n",
      "5\n",
      "3\n",
      "2\n"
     ]
    }
   ],
   "source": [
    "seq = [2, 3, 5, 7, 11, 13, 17, 19]\n",
    "for i in reversed(range(len(seq))):\n",
    "    print(seq[i])\n"
   ]
  },
  {
   "cell_type": "markdown",
   "id": "5a63e017",
   "metadata": {},
   "source": [
    "## Score Ranking\n",
    "Write a Python program that asks user to enter a sequence of scores with an empty input to indicate the end of the score sequence. The program then prints out all the scores ranked from the highest to the lowest.\n",
    "\n",
    "    Example 1\n",
    "    Input student score (or just ENTER to end): 13↵\n",
    "    Input student score (or just ENTER to end): 19↵\n",
    "    Input student score (or just ENTER to end): 10↵\n",
    "    Input student score (or just ENTER to end): ↵\n",
    "    Rank #1: 19\n",
    "    Rank #2: 13\n",
    "    Rank #3: 10\n",
    "    Example 2\n",
    "    Input student score (or just ENTER to end): 87↵\n",
    "    Input student score (or just ENTER to end): 56↵\n",
    "    Input student score (or just ENTER to end): 73↵\n",
    "    Input student score (or just ENTER to end): 59↵\n",
    "    Input student score (or just ENTER to end): 90↵\n",
    "    Input student score (or just ENTER to end): 72↵\n",
    "    Input student score (or just ENTER to end): ↵\n",
    "    Rank #1: 90\n",
    "    Rank #2: 87\n",
    "    Rank #3: 73\n",
    "    Rank #4: 72\n",
    "    Rank #5: 59\n",
    "    Rank #6: 56"
   ]
  },
  {
   "cell_type": "code",
   "execution_count": 30,
   "id": "272ace9b",
   "metadata": {},
   "outputs": [
    {
     "name": "stdout",
     "output_type": "stream",
     "text": [
      "Input student score (or just ENTER to end): 90\n",
      "Input student score (or just ENTER to end): 87\n",
      "Input student score (or just ENTER to end): 73\n",
      "Input student score (or just ENTER to end): 72\n",
      "Input student score (or just ENTER to end): 59\n",
      "Input student score (or just ENTER to end): 56\n",
      "Input student score (or just ENTER to end): \n",
      "\n",
      "Ranking of scores:\n",
      "Rank #1: 90\n",
      "Rank #2: 87\n",
      "Rank #3: 73\n",
      "Rank #4: 72\n",
      "Rank #5: 59\n",
      "Rank #6: 56\n"
     ]
    }
   ],
   "source": [
    "def main():\n",
    "    scores = []\n",
    "    \n",
    "    while True:\n",
    "        score_input = input(\"Input student score (or just ENTER to end): \")\n",
    "        if score_input == \"\":\n",
    "            break\n",
    "        \n",
    "        try:\n",
    "            score = int(score_input)\n",
    "            scores.append(score)\n",
    "        except ValueError:\n",
    "            print(\"Invalid input. Please enter a valid integer score.\")\n",
    "\n",
    "    ranked_scores = sorted(scores, reverse=True)\n",
    "    \n",
    "    print(\"\\nRanking of scores:\")\n",
    "    for rank, score in enumerate(ranked_scores, start=1):\n",
    "        print(f\"Rank #{rank}: {score}\")\n",
    "\n",
    "if __name__ == \"__main__\":\n",
    "    main()"
   ]
  },
  {
   "cell_type": "markdown",
   "id": "f4705f7f",
   "metadata": {},
   "source": [
    "## Sum of Numbers\n",
    "Write a Python program that takes a list of values from user, and prints out the summation of all positive numbers and the summation of negative numbers separately with two decimal places. The program is designed as a sentinel controlled loop using zero as the sentinel value. (I.e., the program stops when the user enters 0.)\n",
    "\n",
    "    Example 1\n",
    "    Enter a number (to exit, just enter 0): 1\n",
    "    Enter a number (to exit, just enter 0): 2.5\n",
    "    Enter a number (to exit, just enter 0): -4\n",
    "    Enter a number (to exit, just enter 0): 3\n",
    "    Enter a number (to exit, just enter 0): -1.8\n",
    "    Enter a number (to exit, just enter 0): 0\n",
    "    Sum of positive numbers is 6.50\n",
    "    Sum of negative numbers is -5.80\n",
    "    Example 2\n",
    "    Enter a number (to exit, just enter 0): 0\n",
    "    Sum of positive numbers is 0.00\n",
    "    Sum of negative numbers is 0.00\n",
    "\n",
    "    [hide line #]\n"
   ]
  },
  {
   "cell_type": "code",
   "execution_count": 31,
   "id": "78f74b4c",
   "metadata": {},
   "outputs": [
    {
     "name": "stdout",
     "output_type": "stream",
     "text": [
      "Enter a number (or [Enter] to stop): 3\n",
      "Enter a number (or [Enter] to stop): 3\n",
      "Enter a number (or [Enter] to stop): 3\n",
      "Enter a number (or [Enter] to stop): \n",
      "The maximum value is 3.00\n",
      "The minimum value is 3.00\n",
      "The average value is 3.00\n"
     ]
    }
   ],
   "source": [
    "def main():\n",
    "    numbers = []\n",
    "\n",
    "    while True:\n",
    "        user_input = input(\"Enter a number (or [Enter] to stop): \")\n",
    "\n",
    "        if user_input == \"\":\n",
    "            break\n",
    "\n",
    "        try:\n",
    "            number = float(user_input)\n",
    "            numbers.append(number)\n",
    "        except ValueError:\n",
    "            print(\"Invalid input. Please enter a valid number.\")\n",
    "\n",
    "    if not numbers:\n",
    "        print(\"Nothing to do.\")\n",
    "        return\n",
    "\n",
    "    maximum = max(numbers)\n",
    "    minimum = min(numbers)\n",
    "    average = sum(numbers) / len(numbers)\n",
    "\n",
    "    print(f\"The maximum value is {maximum:.2f}\")\n",
    "    print(f\"The minimum value is {minimum:.2f}\")\n",
    "    print(f\"The average value is {average:.2f}\")\n",
    "\n",
    "if __name__ == \"__main__\":\n",
    "    main()"
   ]
  },
  {
   "cell_type": "code",
   "execution_count": null,
   "id": "dd8ff5a8",
   "metadata": {},
   "outputs": [],
   "source": []
  }
 ],
 "metadata": {
  "kernelspec": {
   "display_name": "Python 3 (ipykernel)",
   "language": "python",
   "name": "python3"
  },
  "language_info": {
   "codemirror_mode": {
    "name": "ipython",
    "version": 3
   },
   "file_extension": ".py",
   "mimetype": "text/x-python",
   "name": "python",
   "nbconvert_exporter": "python",
   "pygments_lexer": "ipython3",
   "version": "3.10.11"
  }
 },
 "nbformat": 4,
 "nbformat_minor": 5
}
